{
  "cells": [
    {
      "cell_type": "code",
      "execution_count": 413,
      "metadata": {
        "id": "pC_zegVGuaR0"
      },
      "outputs": [],
      "source": [
        "import numpy as np\n",
        "import pandas as pd\n",
        "import matplotlib.pyplot as plt\n",
        "import seaborn as sns\n",
        "import plotly.express as px"
      ]
    },
    {
      "cell_type": "markdown",
      "metadata": {
        "id": "qaZ60_g5kiS_"
      },
      "source": [
        "# MENGGABUNGKAN DATASET 1 DAN DATASET 2"
      ]
    },
    {
      "cell_type": "markdown",
      "metadata": {
        "id": "tGFma-M9vQNH"
      },
      "source": [
        "Dataset 1"
      ]
    },
    {
      "cell_type": "markdown",
      "metadata": {},
      "source": [
        "Dataset 1 diperoleh dari situs Kaggle, diunggah oleh Harnelia, melalui tautan https://www.kaggle.com/datasets/harnelia/faktor-stunting. Data ini diakses pada bulan Desember 2024 dan berisi informasi mengenai faktor-faktor stunting pada balita."
      ]
    },
    {
      "cell_type": "code",
      "execution_count": 414,
      "metadata": {
        "colab": {
          "base_uri": "https://localhost:8080/"
        },
        "id": "g02r-rjouwI_",
        "outputId": "cc88d3a1-2332-4ea7-cec1-ecb3643096df"
      },
      "outputs": [
        {
          "data": {
            "text/html": [
              "<div>\n",
              "<style scoped>\n",
              "    .dataframe tbody tr th:only-of-type {\n",
              "        vertical-align: middle;\n",
              "    }\n",
              "\n",
              "    .dataframe tbody tr th {\n",
              "        vertical-align: top;\n",
              "    }\n",
              "\n",
              "    .dataframe thead th {\n",
              "        text-align: right;\n",
              "    }\n",
              "</style>\n",
              "<table border=\"1\" class=\"dataframe\">\n",
              "  <thead>\n",
              "    <tr style=\"text-align: right;\">\n",
              "      <th></th>\n",
              "      <th>Gender</th>\n",
              "      <th>Age</th>\n",
              "      <th>Birth Weight</th>\n",
              "      <th>Birth Length</th>\n",
              "      <th>Body Weight</th>\n",
              "      <th>Body Length</th>\n",
              "      <th>Breastfeeding</th>\n",
              "      <th>Stunting</th>\n",
              "    </tr>\n",
              "  </thead>\n",
              "  <tbody>\n",
              "    <tr>\n",
              "      <th>0</th>\n",
              "      <td>Male</td>\n",
              "      <td>17</td>\n",
              "      <td>3.0</td>\n",
              "      <td>49</td>\n",
              "      <td>10.0</td>\n",
              "      <td>72.2</td>\n",
              "      <td>No</td>\n",
              "      <td>No</td>\n",
              "    </tr>\n",
              "    <tr>\n",
              "      <th>1</th>\n",
              "      <td>Female</td>\n",
              "      <td>11</td>\n",
              "      <td>2.9</td>\n",
              "      <td>49</td>\n",
              "      <td>2.9</td>\n",
              "      <td>65.0</td>\n",
              "      <td>No</td>\n",
              "      <td>Yes</td>\n",
              "    </tr>\n",
              "    <tr>\n",
              "      <th>2</th>\n",
              "      <td>Male</td>\n",
              "      <td>16</td>\n",
              "      <td>2.9</td>\n",
              "      <td>49</td>\n",
              "      <td>8.5</td>\n",
              "      <td>72.2</td>\n",
              "      <td>No</td>\n",
              "      <td>Yes</td>\n",
              "    </tr>\n",
              "    <tr>\n",
              "      <th>3</th>\n",
              "      <td>Male</td>\n",
              "      <td>31</td>\n",
              "      <td>2.8</td>\n",
              "      <td>49</td>\n",
              "      <td>6.4</td>\n",
              "      <td>63.0</td>\n",
              "      <td>No</td>\n",
              "      <td>Yes</td>\n",
              "    </tr>\n",
              "    <tr>\n",
              "      <th>4</th>\n",
              "      <td>Male</td>\n",
              "      <td>15</td>\n",
              "      <td>3.1</td>\n",
              "      <td>49</td>\n",
              "      <td>10.5</td>\n",
              "      <td>49.0</td>\n",
              "      <td>No</td>\n",
              "      <td>Yes</td>\n",
              "    </tr>\n",
              "    <tr>\n",
              "      <th>5</th>\n",
              "      <td>Female</td>\n",
              "      <td>11</td>\n",
              "      <td>2.8</td>\n",
              "      <td>49</td>\n",
              "      <td>8.5</td>\n",
              "      <td>65.0</td>\n",
              "      <td>No</td>\n",
              "      <td>No</td>\n",
              "    </tr>\n",
              "    <tr>\n",
              "      <th>6</th>\n",
              "      <td>Male</td>\n",
              "      <td>35</td>\n",
              "      <td>2.8</td>\n",
              "      <td>49</td>\n",
              "      <td>10.5</td>\n",
              "      <td>72.2</td>\n",
              "      <td>No</td>\n",
              "      <td>Yes</td>\n",
              "    </tr>\n",
              "    <tr>\n",
              "      <th>7</th>\n",
              "      <td>Female</td>\n",
              "      <td>17</td>\n",
              "      <td>2.8</td>\n",
              "      <td>49</td>\n",
              "      <td>8.0</td>\n",
              "      <td>63.0</td>\n",
              "      <td>No</td>\n",
              "      <td>Yes</td>\n",
              "    </tr>\n",
              "    <tr>\n",
              "      <th>8</th>\n",
              "      <td>Female</td>\n",
              "      <td>10</td>\n",
              "      <td>2.7</td>\n",
              "      <td>49</td>\n",
              "      <td>8.4</td>\n",
              "      <td>73.5</td>\n",
              "      <td>No</td>\n",
              "      <td>No</td>\n",
              "    </tr>\n",
              "    <tr>\n",
              "      <th>9</th>\n",
              "      <td>Female</td>\n",
              "      <td>16</td>\n",
              "      <td>2.8</td>\n",
              "      <td>49</td>\n",
              "      <td>8.5</td>\n",
              "      <td>65.0</td>\n",
              "      <td>No</td>\n",
              "      <td>Yes</td>\n",
              "    </tr>\n",
              "    <tr>\n",
              "      <th>10</th>\n",
              "      <td>Female</td>\n",
              "      <td>11</td>\n",
              "      <td>2.8</td>\n",
              "      <td>49</td>\n",
              "      <td>10.0</td>\n",
              "      <td>68.3</td>\n",
              "      <td>No</td>\n",
              "      <td>Yes</td>\n",
              "    </tr>\n",
              "    <tr>\n",
              "      <th>11</th>\n",
              "      <td>Male</td>\n",
              "      <td>13</td>\n",
              "      <td>2.9</td>\n",
              "      <td>50</td>\n",
              "      <td>10.0</td>\n",
              "      <td>69.0</td>\n",
              "      <td>No</td>\n",
              "      <td>Yes</td>\n",
              "    </tr>\n",
              "    <tr>\n",
              "      <th>12</th>\n",
              "      <td>Male</td>\n",
              "      <td>44</td>\n",
              "      <td>3.0</td>\n",
              "      <td>49</td>\n",
              "      <td>7.1</td>\n",
              "      <td>72.2</td>\n",
              "      <td>No</td>\n",
              "      <td>Yes</td>\n",
              "    </tr>\n",
              "    <tr>\n",
              "      <th>13</th>\n",
              "      <td>Male</td>\n",
              "      <td>18</td>\n",
              "      <td>2.8</td>\n",
              "      <td>50</td>\n",
              "      <td>7.2</td>\n",
              "      <td>65.0</td>\n",
              "      <td>No</td>\n",
              "      <td>Yes</td>\n",
              "    </tr>\n",
              "    <tr>\n",
              "      <th>14</th>\n",
              "      <td>Male</td>\n",
              "      <td>13</td>\n",
              "      <td>2.8</td>\n",
              "      <td>48</td>\n",
              "      <td>7.7</td>\n",
              "      <td>65.0</td>\n",
              "      <td>No</td>\n",
              "      <td>Yes</td>\n",
              "    </tr>\n",
              "  </tbody>\n",
              "</table>\n",
              "</div>"
            ],
            "text/plain": [
              "    Gender  Age  Birth Weight  Birth Length  Body Weight  Body Length  \\\n",
              "0     Male   17           3.0            49         10.0         72.2   \n",
              "1   Female   11           2.9            49          2.9         65.0   \n",
              "2     Male   16           2.9            49          8.5         72.2   \n",
              "3     Male   31           2.8            49          6.4         63.0   \n",
              "4     Male   15           3.1            49         10.5         49.0   \n",
              "5   Female   11           2.8            49          8.5         65.0   \n",
              "6     Male   35           2.8            49         10.5         72.2   \n",
              "7   Female   17           2.8            49          8.0         63.0   \n",
              "8   Female   10           2.7            49          8.4         73.5   \n",
              "9   Female   16           2.8            49          8.5         65.0   \n",
              "10  Female   11           2.8            49         10.0         68.3   \n",
              "11    Male   13           2.9            50         10.0         69.0   \n",
              "12    Male   44           3.0            49          7.1         72.2   \n",
              "13    Male   18           2.8            50          7.2         65.0   \n",
              "14    Male   13           2.8            48          7.7         65.0   \n",
              "\n",
              "   Breastfeeding Stunting  \n",
              "0             No       No  \n",
              "1             No      Yes  \n",
              "2             No      Yes  \n",
              "3             No      Yes  \n",
              "4             No      Yes  \n",
              "5             No       No  \n",
              "6             No      Yes  \n",
              "7             No      Yes  \n",
              "8             No       No  \n",
              "9             No      Yes  \n",
              "10            No      Yes  \n",
              "11            No      Yes  \n",
              "12            No      Yes  \n",
              "13            No      Yes  \n",
              "14            No      Yes  "
            ]
          },
          "execution_count": 414,
          "metadata": {},
          "output_type": "execute_result"
        }
      ],
      "source": [
        "# Membaca dataset 1\n",
        "df_a = pd.read_csv(r\"D:\\Prediksi Status Gizi\\Dataset\\dataset 1.csv\")\n",
        "df_a.head(15)"
      ]
    },
    {
      "cell_type": "code",
      "execution_count": 415,
      "metadata": {
        "colab": {
          "base_uri": "https://localhost:8080/"
        },
        "id": "0zntar_Qu07d",
        "outputId": "faa11638-ff7c-4816-8ce4-832a4221701b"
      },
      "outputs": [
        {
          "name": "stdout",
          "output_type": "stream",
          "text": [
            "<class 'pandas.core.frame.DataFrame'>\n",
            "RangeIndex: 10000 entries, 0 to 9999\n",
            "Data columns (total 8 columns):\n",
            " #   Column         Non-Null Count  Dtype  \n",
            "---  ------         --------------  -----  \n",
            " 0   Gender         10000 non-null  object \n",
            " 1   Age            10000 non-null  int64  \n",
            " 2   Birth Weight   10000 non-null  float64\n",
            " 3   Birth Length   10000 non-null  int64  \n",
            " 4   Body Weight    10000 non-null  float64\n",
            " 5   Body Length    10000 non-null  float64\n",
            " 6   Breastfeeding  10000 non-null  object \n",
            " 7   Stunting       10000 non-null  object \n",
            "dtypes: float64(3), int64(2), object(3)\n",
            "memory usage: 625.1+ KB\n"
          ]
        }
      ],
      "source": [
        "df_a.info()"
      ]
    },
    {
      "cell_type": "code",
      "execution_count": 416,
      "metadata": {
        "colab": {
          "base_uri": "https://localhost:8080/"
        },
        "id": "53NPJTmLu5AU",
        "outputId": "f570661f-e108-4c4d-ce72-92907117a9dd"
      },
      "outputs": [
        {
          "data": {
            "text/plain": [
              "Gender           0\n",
              "Age              0\n",
              "Birth Weight     0\n",
              "Birth Length     0\n",
              "Body Weight      0\n",
              "Body Length      0\n",
              "Breastfeeding    0\n",
              "Stunting         0\n",
              "dtype: int64"
            ]
          },
          "execution_count": 416,
          "metadata": {},
          "output_type": "execute_result"
        }
      ],
      "source": [
        "df_a.isnull().sum()"
      ]
    },
    {
      "cell_type": "code",
      "execution_count": 417,
      "metadata": {
        "colab": {
          "base_uri": "https://localhost:8080/"
        },
        "id": "MwgywOZUu-g5",
        "outputId": "6d3c8d9c-093a-489f-8eb0-e42400bd6d8e"
      },
      "outputs": [
        {
          "data": {
            "text/plain": [
              "2427"
            ]
          },
          "execution_count": 417,
          "metadata": {},
          "output_type": "execute_result"
        }
      ],
      "source": [
        "df_a.duplicated().sum()"
      ]
    },
    {
      "cell_type": "code",
      "execution_count": 418,
      "metadata": {
        "id": "dLZd-5_jvEGs"
      },
      "outputs": [],
      "source": [
        "df_a.drop_duplicates(inplace=True)"
      ]
    },
    {
      "cell_type": "code",
      "execution_count": 419,
      "metadata": {
        "colab": {
          "base_uri": "https://localhost:8080/"
        },
        "id": "ewFRE4rZvNLj",
        "outputId": "3480a3b1-9659-4e82-f089-d2a84a3ed5bc"
      },
      "outputs": [
        {
          "data": {
            "text/plain": [
              "(7573, 8)"
            ]
          },
          "execution_count": 419,
          "metadata": {},
          "output_type": "execute_result"
        }
      ],
      "source": [
        "df_a.shape"
      ]
    },
    {
      "cell_type": "code",
      "execution_count": 420,
      "metadata": {},
      "outputs": [
        {
          "name": "stdout",
          "output_type": "stream",
          "text": [
            "Numerical Columns:  Index(['Age', 'Birth Weight', 'Birth Length', 'Body Weight', 'Body Length'], dtype='object')\n",
            "\n",
            "\n",
            "Categorical Columns: Index(['Gender', 'Breastfeeding', 'Stunting'], dtype='object')\n"
          ]
        }
      ],
      "source": [
        "df_a_vis = df_a.copy()\n",
        "numerical= df_a_vis.select_dtypes('number').columns\n",
        "categorical = df_a_vis.select_dtypes('object').columns\n",
        "print(f'Numerical Columns:  {df_a_vis[numerical].columns}')\n",
        "print('\\n')\n",
        "print(f'Categorical Columns: {df_a_vis[categorical].columns}')"
      ]
    },
    {
      "cell_type": "code",
      "execution_count": 421,
      "metadata": {},
      "outputs": [
        {
          "data": {
            "image/png": "[encoded data removed]",
            "text/plain": [
              "<Figure size 1200x1000 with 3 Axes>"
            ]
          },
          "metadata": {},
          "output_type": "display_data"
        }
      ],
      "source": [
        "# visualisasi distribusi kolom kategori\n",
        "fig, axes = plt.subplots(nrows=2, ncols=int(np.ceil(len(categorical) / 2)), figsize=(12, 10))\n",
        "axes = axes.flatten() if len(categorical) > 1 else [axes]\n",
        "\n",
        "for ax, col in zip(axes, categorical):\n",
        "    sns.countplot(x=df_a_vis[col], order=df_a_vis[col].value_counts().index, ax=ax, hue=df_a_vis[col], palette=\"mako\", legend=False)\n",
        "    ax.set_title(f\"Distribusi {col}\")\n",
        "    ax.set_xlabel(\"\")\n",
        "    ax.set_ylabel(\"Jumlah\")\n",
        "    ax.tick_params(axis='x', rotation=45)\n",
        "\n",
        "for i in range(len(categorical), len(axes)):\n",
        "    fig.delaxes(axes[i])\n",
        "\n",
        "plt.tight_layout()\n",
        "plt.show()"
      ]
    },
    {
      "cell_type": "code",
      "execution_count": 422,
      "metadata": {},
      "outputs": [
        {
          "data": {
            "image/png": "[encoded data removed]",
            "text/plain": [
              "<Figure size 1800x1200 with 5 Axes>"
            ]
          },
          "metadata": {},
          "output_type": "display_data"
        }
      ],
      "source": [
        "# Visualisasi distribusi kolom numerik\n",
        "fig, axes = plt.subplots(nrows=int(np.ceil(len(numerical) / 3)), ncols=3, figsize=(18, 12))\n",
        "axes = axes.flatten()\n",
        "\n",
        "for ax, col in zip(axes, numerical):\n",
        "    ax.hist(df_a_vis[col], bins=20, alpha=0.6, color='royalblue', edgecolor='black')\n",
        "    ax.set_title(f\"Distribusi {col}\")\n",
        "    ax.set_xlabel(col)\n",
        "    ax.set_ylabel(\"Frekuensi\")\n",
        "\n",
        "for i in range(len(numerical), len(axes)):\n",
        "    fig.delaxes(axes[i])\n",
        "\n",
        "plt.tight_layout()\n",
        "plt.show()"
      ]
    },
    {
      "cell_type": "markdown",
      "metadata": {
        "id": "HrTXOTmtvT1Y"
      },
      "source": [
        "Dataset 2"
      ]
    },
    {
      "cell_type": "markdown",
      "metadata": {},
      "source": [
        "Dataset 2 diperoleh dari situs Kaggle, diunggah oleh LAUREN VALENTINA, melalui tautan https://www.kaggle.com/datasets/laurenvalentina/gizi-anak. Data ini diakses pada bulan Februari 2025."
      ]
    },
    {
      "cell_type": "code",
      "execution_count": 423,
      "metadata": {
        "colab": {
          "base_uri": "https://localhost:8080/"
        },
        "id": "hUk20jGrvO_y",
        "outputId": "5f603254-1afc-4b1e-895c-f99a34a366c6"
      },
      "outputs": [
        {
          "data": {
            "text/html": [
              "<div>\n",
              "<style scoped>\n",
              "    .dataframe tbody tr th:only-of-type {\n",
              "        vertical-align: middle;\n",
              "    }\n",
              "\n",
              "    .dataframe tbody tr th {\n",
              "        vertical-align: top;\n",
              "    }\n",
              "\n",
              "    .dataframe thead th {\n",
              "        text-align: right;\n",
              "    }\n",
              "</style>\n",
              "<table border=\"1\" class=\"dataframe\">\n",
              "  <thead>\n",
              "    <tr style=\"text-align: right;\">\n",
              "      <th></th>\n",
              "      <th>Gender</th>\n",
              "      <th>Age</th>\n",
              "      <th>Birth Weight</th>\n",
              "      <th>Birth Length</th>\n",
              "      <th>Body Weight</th>\n",
              "      <th>Body Length</th>\n",
              "      <th>Breastfeeding</th>\n",
              "      <th>Stunting</th>\n",
              "    </tr>\n",
              "  </thead>\n",
              "  <tbody>\n",
              "    <tr>\n",
              "      <th>0</th>\n",
              "      <td>female</td>\n",
              "      <td>56</td>\n",
              "      <td>2.9</td>\n",
              "      <td>50</td>\n",
              "      <td>11.0</td>\n",
              "      <td>90.0</td>\n",
              "      <td>Yes</td>\n",
              "      <td>No</td>\n",
              "    </tr>\n",
              "    <tr>\n",
              "      <th>1</th>\n",
              "      <td>female</td>\n",
              "      <td>20</td>\n",
              "      <td>3.3</td>\n",
              "      <td>49</td>\n",
              "      <td>11.1</td>\n",
              "      <td>80.5</td>\n",
              "      <td>No</td>\n",
              "      <td>No</td>\n",
              "    </tr>\n",
              "    <tr>\n",
              "      <th>2</th>\n",
              "      <td>male</td>\n",
              "      <td>4</td>\n",
              "      <td>2.8</td>\n",
              "      <td>48</td>\n",
              "      <td>6.5</td>\n",
              "      <td>63.0</td>\n",
              "      <td>No</td>\n",
              "      <td>No</td>\n",
              "    </tr>\n",
              "    <tr>\n",
              "      <th>3</th>\n",
              "      <td>female</td>\n",
              "      <td>14</td>\n",
              "      <td>2.0</td>\n",
              "      <td>49</td>\n",
              "      <td>7.0</td>\n",
              "      <td>71.0</td>\n",
              "      <td>Yes</td>\n",
              "      <td>No</td>\n",
              "    </tr>\n",
              "    <tr>\n",
              "      <th>4</th>\n",
              "      <td>male</td>\n",
              "      <td>32</td>\n",
              "      <td>3.2</td>\n",
              "      <td>49</td>\n",
              "      <td>11.0</td>\n",
              "      <td>88.7</td>\n",
              "      <td>Yes</td>\n",
              "      <td>No</td>\n",
              "    </tr>\n",
              "  </tbody>\n",
              "</table>\n",
              "</div>"
            ],
            "text/plain": [
              "   Gender  Age  Birth Weight  Birth Length  Body Weight  Body Length  \\\n",
              "0  female   56           2.9            50         11.0         90.0   \n",
              "1  female   20           3.3            49         11.1         80.5   \n",
              "2    male    4           2.8            48          6.5         63.0   \n",
              "3  female   14           2.0            49          7.0         71.0   \n",
              "4    male   32           3.2            49         11.0         88.7   \n",
              "\n",
              "  Breastfeeding Stunting  \n",
              "0           Yes       No  \n",
              "1            No       No  \n",
              "2            No       No  \n",
              "3           Yes       No  \n",
              "4           Yes       No  "
            ]
          },
          "execution_count": 423,
          "metadata": {},
          "output_type": "execute_result"
        }
      ],
      "source": [
        "# Membaca dataset 2\n",
        "df_b = pd.read_csv(r\"D:\\Prediksi Status Gizi\\Dataset\\dataset 2.csv\")\n",
        "df_b.head()"
      ]
    },
    {
      "cell_type": "code",
      "execution_count": 424,
      "metadata": {
        "colab": {
          "base_uri": "https://localhost:8080/"
        },
        "id": "19Q4TaDIva5L",
        "outputId": "468916ba-5a67-4c88-fdbe-48cd133ddd05"
      },
      "outputs": [
        {
          "name": "stdout",
          "output_type": "stream",
          "text": [
            "<class 'pandas.core.frame.DataFrame'>\n",
            "RangeIndex: 6500 entries, 0 to 6499\n",
            "Data columns (total 8 columns):\n",
            " #   Column         Non-Null Count  Dtype  \n",
            "---  ------         --------------  -----  \n",
            " 0   Gender         6500 non-null   object \n",
            " 1   Age            6500 non-null   int64  \n",
            " 2   Birth Weight   6500 non-null   float64\n",
            " 3   Birth Length   6500 non-null   int64  \n",
            " 4   Body Weight    6500 non-null   float64\n",
            " 5   Body Length    6500 non-null   float64\n",
            " 6   Breastfeeding  6500 non-null   object \n",
            " 7   Stunting       6500 non-null   object \n",
            "dtypes: float64(3), int64(2), object(3)\n",
            "memory usage: 406.4+ KB\n"
          ]
        }
      ],
      "source": [
        "df_b.info()"
      ]
    },
    {
      "cell_type": "code",
      "execution_count": 425,
      "metadata": {
        "colab": {
          "base_uri": "https://localhost:8080/"
        },
        "id": "ODESbRwrvdJ4",
        "outputId": "4f0d2b8e-7152-47ed-89d1-5d7c7be1647a"
      },
      "outputs": [
        {
          "data": {
            "text/plain": [
              "Gender           0\n",
              "Age              0\n",
              "Birth Weight     0\n",
              "Birth Length     0\n",
              "Body Weight      0\n",
              "Body Length      0\n",
              "Breastfeeding    0\n",
              "Stunting         0\n",
              "dtype: int64"
            ]
          },
          "execution_count": 425,
          "metadata": {},
          "output_type": "execute_result"
        }
      ],
      "source": [
        "df_b.isnull().sum()"
      ]
    },
    {
      "cell_type": "code",
      "execution_count": 426,
      "metadata": {
        "colab": {
          "base_uri": "https://localhost:8080/"
        },
        "id": "kZLB8jnbvjSD",
        "outputId": "14d12414-650b-4dc6-d25f-175fd6d5401d"
      },
      "outputs": [
        {
          "data": {
            "text/plain": [
              "5525"
            ]
          },
          "execution_count": 426,
          "metadata": {},
          "output_type": "execute_result"
        }
      ],
      "source": [
        "df_b.duplicated().sum()"
      ]
    },
    {
      "cell_type": "code",
      "execution_count": 427,
      "metadata": {
        "id": "YlneueA5vmiq"
      },
      "outputs": [],
      "source": [
        "df_b.drop_duplicates(inplace=True)"
      ]
    },
    {
      "cell_type": "code",
      "execution_count": 428,
      "metadata": {
        "colab": {
          "base_uri": "https://localhost:8080/"
        },
        "id": "IUoPTyL4vryi",
        "outputId": "146e821b-ffd3-4d77-e286-27d9f11b8533"
      },
      "outputs": [
        {
          "data": {
            "text/plain": [
              "(975, 8)"
            ]
          },
          "execution_count": 428,
          "metadata": {},
          "output_type": "execute_result"
        }
      ],
      "source": [
        "df_b.shape"
      ]
    },
    {
      "cell_type": "code",
      "execution_count": 429,
      "metadata": {},
      "outputs": [],
      "source": [
        "df_b_vis = df_b.copy()"
      ]
    },
    {
      "cell_type": "code",
      "execution_count": 430,
      "metadata": {},
      "outputs": [
        {
          "name": "stdout",
          "output_type": "stream",
          "text": [
            "Numerical Columns:  Index(['Age', 'Birth Weight', 'Birth Length', 'Body Weight', 'Body Length'], dtype='object')\n",
            "\n",
            "\n",
            "Categorical Columns: Index(['Gender', 'Breastfeeding', 'Stunting'], dtype='object')\n"
          ]
        }
      ],
      "source": [
        "df_b_vis = df_b.copy()\n",
        "numerical= df_b_vis.select_dtypes('number').columns\n",
        "categorical = df_b_vis.select_dtypes('object').columns\n",
        "print(f'Numerical Columns:  {df_b_vis[numerical].columns}')\n",
        "print('\\n')\n",
        "print(f'Categorical Columns: {df_b_vis[categorical].columns}')"
      ]
    },
    {
      "cell_type": "code",
      "execution_count": 431,
      "metadata": {},
      "outputs": [
        {
          "data": {
            "image/png": "[encoded data removed]",
            "text/plain": [
              "<Figure size 1200x1000 with 3 Axes>"
            ]
          },
          "metadata": {},
          "output_type": "display_data"
        }
      ],
      "source": [
        "# visualisasi distribusi kolom kategori\n",
        "fig, axes = plt.subplots(nrows=2, ncols=int(np.ceil(len(categorical) / 2)), figsize=(12, 10))\n",
        "axes = axes.flatten() if len(categorical) > 1 else [axes]\n",
        "\n",
        "for ax, col in zip(axes, categorical):\n",
        "    sns.countplot(x=df_b_vis[col], order=df_b_vis[col].value_counts().index, ax=ax, hue=df_b_vis[col], palette=\"mako\", legend=False)\n",
        "    ax.set_title(f\"Distribusi {col}\")\n",
        "    ax.set_xlabel(\"\")\n",
        "    ax.set_ylabel(\"Jumlah\")\n",
        "    ax.tick_params(axis='x', rotation=45)\n",
        "\n",
        "for i in range(len(categorical), len(axes)):\n",
        "    fig.delaxes(axes[i])\n",
        "\n",
        "plt.tight_layout()\n",
        "plt.show()"
      ]
    },
    {
      "cell_type": "code",
      "execution_count": 432,
      "metadata": {},
      "outputs": [
        {
          "data": {
            "image/png": "[encoded data removed]",
            "text/plain": [
              "<Figure size 1800x1200 with 5 Axes>"
            ]
          },
          "metadata": {},
          "output_type": "display_data"
        }
      ],
      "source": [
        "# Visualisasi distribusi kolom numerik\n",
        "fig, axes = plt.subplots(nrows=int(np.ceil(len(numerical) / 3)), ncols=3, figsize=(18, 12))\n",
        "axes = axes.flatten()\n",
        "\n",
        "for ax, col in zip(axes, numerical):\n",
        "    ax.hist(df_b_vis[col], bins=20, alpha=0.6, color='royalblue', edgecolor='black')\n",
        "    ax.set_title(f\"Distribusi {col}\")\n",
        "    ax.set_xlabel(col)\n",
        "    ax.set_ylabel(\"Frekuensi\")\n",
        "\n",
        "for i in range(len(numerical), len(axes)):\n",
        "    fig.delaxes(axes[i])\n",
        "\n",
        "plt.tight_layout()\n",
        "plt.show()"
      ]
    },
    {
      "cell_type": "code",
      "execution_count": 433,
      "metadata": {},
      "outputs": [
        {
          "name": "stdout",
          "output_type": "stream",
          "text": [
            "['male' 'female']\n",
            "['female' 'male']\n"
          ]
        }
      ],
      "source": [
        "#Mengubah nilai kategori kolom 'Gender' menjadi huruf kecil keseluruhan pada dataset 1 dan dataset 2\n",
        "df_a[\"Gender\"] = df_a[\"Gender\"].str.lower()\n",
        "df_b[\"Gender\"] = df_b[\"Gender\"].str.lower()\n",
        "print(df_a[\"Gender\"].unique())\n",
        "print(df_b[\"Gender\"].unique())"
      ]
    },
    {
      "cell_type": "code",
      "execution_count": 434,
      "metadata": {
        "colab": {
          "base_uri": "https://localhost:8080/"
        },
        "id": "HStQX11lwCmj",
        "outputId": "b26b4df0-231a-4d83-9c3a-107858871dc0"
      },
      "outputs": [
        {
          "data": {
            "text/html": [
              "<div>\n",
              "<style scoped>\n",
              "    .dataframe tbody tr th:only-of-type {\n",
              "        vertical-align: middle;\n",
              "    }\n",
              "\n",
              "    .dataframe tbody tr th {\n",
              "        vertical-align: top;\n",
              "    }\n",
              "\n",
              "    .dataframe thead th {\n",
              "        text-align: right;\n",
              "    }\n",
              "</style>\n",
              "<table border=\"1\" class=\"dataframe\">\n",
              "  <thead>\n",
              "    <tr style=\"text-align: right;\">\n",
              "      <th></th>\n",
              "      <th>Gender</th>\n",
              "      <th>Age</th>\n",
              "      <th>Birth Weight</th>\n",
              "      <th>Birth Length</th>\n",
              "      <th>Body Weight</th>\n",
              "      <th>Body Length</th>\n",
              "      <th>Breastfeeding</th>\n",
              "      <th>Stunting</th>\n",
              "    </tr>\n",
              "  </thead>\n",
              "  <tbody>\n",
              "    <tr>\n",
              "      <th>0</th>\n",
              "      <td>male</td>\n",
              "      <td>17</td>\n",
              "      <td>3.0</td>\n",
              "      <td>49</td>\n",
              "      <td>10.0</td>\n",
              "      <td>72.2</td>\n",
              "      <td>No</td>\n",
              "      <td>No</td>\n",
              "    </tr>\n",
              "    <tr>\n",
              "      <th>1</th>\n",
              "      <td>female</td>\n",
              "      <td>11</td>\n",
              "      <td>2.9</td>\n",
              "      <td>49</td>\n",
              "      <td>2.9</td>\n",
              "      <td>65.0</td>\n",
              "      <td>No</td>\n",
              "      <td>Yes</td>\n",
              "    </tr>\n",
              "    <tr>\n",
              "      <th>2</th>\n",
              "      <td>male</td>\n",
              "      <td>16</td>\n",
              "      <td>2.9</td>\n",
              "      <td>49</td>\n",
              "      <td>8.5</td>\n",
              "      <td>72.2</td>\n",
              "      <td>No</td>\n",
              "      <td>Yes</td>\n",
              "    </tr>\n",
              "    <tr>\n",
              "      <th>3</th>\n",
              "      <td>male</td>\n",
              "      <td>31</td>\n",
              "      <td>2.8</td>\n",
              "      <td>49</td>\n",
              "      <td>6.4</td>\n",
              "      <td>63.0</td>\n",
              "      <td>No</td>\n",
              "      <td>Yes</td>\n",
              "    </tr>\n",
              "    <tr>\n",
              "      <th>4</th>\n",
              "      <td>male</td>\n",
              "      <td>15</td>\n",
              "      <td>3.1</td>\n",
              "      <td>49</td>\n",
              "      <td>10.5</td>\n",
              "      <td>49.0</td>\n",
              "      <td>No</td>\n",
              "      <td>Yes</td>\n",
              "    </tr>\n",
              "  </tbody>\n",
              "</table>\n",
              "</div>"
            ],
            "text/plain": [
              "   Gender  Age  Birth Weight  Birth Length  Body Weight  Body Length  \\\n",
              "0    male   17           3.0            49         10.0         72.2   \n",
              "1  female   11           2.9            49          2.9         65.0   \n",
              "2    male   16           2.9            49          8.5         72.2   \n",
              "3    male   31           2.8            49          6.4         63.0   \n",
              "4    male   15           3.1            49         10.5         49.0   \n",
              "\n",
              "  Breastfeeding Stunting  \n",
              "0            No       No  \n",
              "1            No      Yes  \n",
              "2            No      Yes  \n",
              "3            No      Yes  \n",
              "4            No      Yes  "
            ]
          },
          "execution_count": 434,
          "metadata": {},
          "output_type": "execute_result"
        }
      ],
      "source": [
        "# Menggabungkan dataset 1 dan dataset 2\n",
        "df = pd.concat([df_a, df_b], ignore_index=True)\n",
        "df.head()"
      ]
    },
    {
      "cell_type": "code",
      "execution_count": 435,
      "metadata": {
        "colab": {
          "base_uri": "https://localhost:8080/"
        },
        "id": "91nCmw4vwVVr",
        "outputId": "4c0642cc-12fc-4d6a-8244-756ee33cb6e7"
      },
      "outputs": [
        {
          "name": "stdout",
          "output_type": "stream",
          "text": [
            "<class 'pandas.core.frame.DataFrame'>\n",
            "RangeIndex: 8548 entries, 0 to 8547\n",
            "Data columns (total 8 columns):\n",
            " #   Column         Non-Null Count  Dtype  \n",
            "---  ------         --------------  -----  \n",
            " 0   Gender         8548 non-null   object \n",
            " 1   Age            8548 non-null   int64  \n",
            " 2   Birth Weight   8548 non-null   float64\n",
            " 3   Birth Length   8548 non-null   int64  \n",
            " 4   Body Weight    8548 non-null   float64\n",
            " 5   Body Length    8548 non-null   float64\n",
            " 6   Breastfeeding  8548 non-null   object \n",
            " 7   Stunting       8548 non-null   object \n",
            "dtypes: float64(3), int64(2), object(3)\n",
            "memory usage: 534.4+ KB\n"
          ]
        }
      ],
      "source": [
        "df.info()"
      ]
    },
    {
      "cell_type": "code",
      "execution_count": 436,
      "metadata": {
        "colab": {
          "base_uri": "https://localhost:8080/"
        },
        "id": "fWJ-0pa7wXAK",
        "outputId": "0a44c714-6011-42ea-f9ba-6c640b208c06"
      },
      "outputs": [
        {
          "data": {
            "text/plain": [
              "Gender           0\n",
              "Age              0\n",
              "Birth Weight     0\n",
              "Birth Length     0\n",
              "Body Weight      0\n",
              "Body Length      0\n",
              "Breastfeeding    0\n",
              "Stunting         0\n",
              "dtype: int64"
            ]
          },
          "execution_count": 436,
          "metadata": {},
          "output_type": "execute_result"
        }
      ],
      "source": [
        "df.isnull().sum()"
      ]
    },
    {
      "cell_type": "code",
      "execution_count": 437,
      "metadata": {
        "colab": {
          "base_uri": "https://localhost:8080/"
        },
        "id": "frroOi_1waH6",
        "outputId": "93dc21e5-9bf8-4696-c76f-82308ea74ebb"
      },
      "outputs": [
        {
          "data": {
            "text/plain": [
              "5"
            ]
          },
          "execution_count": 437,
          "metadata": {},
          "output_type": "execute_result"
        }
      ],
      "source": [
        "df.duplicated().sum()"
      ]
    },
    {
      "cell_type": "code",
      "execution_count": 438,
      "metadata": {
        "id": "yocEnwwCwdnl"
      },
      "outputs": [],
      "source": [
        "df.drop_duplicates(inplace=True)"
      ]
    },
    {
      "cell_type": "code",
      "execution_count": 439,
      "metadata": {
        "colab": {
          "base_uri": "https://localhost:8080/"
        },
        "id": "miHCMEzqwkUa",
        "outputId": "1bd445a2-866c-4850-9434-e58950985791"
      },
      "outputs": [
        {
          "data": {
            "text/plain": [
              "(8543, 8)"
            ]
          },
          "execution_count": 439,
          "metadata": {},
          "output_type": "execute_result"
        }
      ],
      "source": [
        "df.shape"
      ]
    },
    {
      "cell_type": "code",
      "execution_count": 440,
      "metadata": {
        "colab": {
          "base_uri": "https://localhost:8080/"
        },
        "id": "yhTSlNBPwoAU",
        "outputId": "3af6cf00-ceff-4749-a738-b3bac3cc8c9b"
      },
      "outputs": [
        {
          "data": {
            "text/html": [
              "<div>\n",
              "<style scoped>\n",
              "    .dataframe tbody tr th:only-of-type {\n",
              "        vertical-align: middle;\n",
              "    }\n",
              "\n",
              "    .dataframe tbody tr th {\n",
              "        vertical-align: top;\n",
              "    }\n",
              "\n",
              "    .dataframe thead th {\n",
              "        text-align: right;\n",
              "    }\n",
              "</style>\n",
              "<table border=\"1\" class=\"dataframe\">\n",
              "  <thead>\n",
              "    <tr style=\"text-align: right;\">\n",
              "      <th></th>\n",
              "      <th>Gender</th>\n",
              "      <th>Age</th>\n",
              "      <th>Birth Weight</th>\n",
              "      <th>Birth Length</th>\n",
              "      <th>Body Weight</th>\n",
              "      <th>Body Length</th>\n",
              "      <th>Breastfeeding</th>\n",
              "      <th>Stunting</th>\n",
              "    </tr>\n",
              "  </thead>\n",
              "  <tbody>\n",
              "    <tr>\n",
              "      <th>0</th>\n",
              "      <td>male</td>\n",
              "      <td>17</td>\n",
              "      <td>3.0</td>\n",
              "      <td>49</td>\n",
              "      <td>10.0</td>\n",
              "      <td>72.2</td>\n",
              "      <td>No</td>\n",
              "      <td>No</td>\n",
              "    </tr>\n",
              "    <tr>\n",
              "      <th>1</th>\n",
              "      <td>female</td>\n",
              "      <td>11</td>\n",
              "      <td>2.9</td>\n",
              "      <td>49</td>\n",
              "      <td>2.9</td>\n",
              "      <td>65.0</td>\n",
              "      <td>No</td>\n",
              "      <td>Yes</td>\n",
              "    </tr>\n",
              "    <tr>\n",
              "      <th>2</th>\n",
              "      <td>male</td>\n",
              "      <td>16</td>\n",
              "      <td>2.9</td>\n",
              "      <td>49</td>\n",
              "      <td>8.5</td>\n",
              "      <td>72.2</td>\n",
              "      <td>No</td>\n",
              "      <td>Yes</td>\n",
              "    </tr>\n",
              "    <tr>\n",
              "      <th>3</th>\n",
              "      <td>male</td>\n",
              "      <td>31</td>\n",
              "      <td>2.8</td>\n",
              "      <td>49</td>\n",
              "      <td>6.4</td>\n",
              "      <td>63.0</td>\n",
              "      <td>No</td>\n",
              "      <td>Yes</td>\n",
              "    </tr>\n",
              "    <tr>\n",
              "      <th>4</th>\n",
              "      <td>male</td>\n",
              "      <td>15</td>\n",
              "      <td>3.1</td>\n",
              "      <td>49</td>\n",
              "      <td>10.5</td>\n",
              "      <td>49.0</td>\n",
              "      <td>No</td>\n",
              "      <td>Yes</td>\n",
              "    </tr>\n",
              "    <tr>\n",
              "      <th>...</th>\n",
              "      <td>...</td>\n",
              "      <td>...</td>\n",
              "      <td>...</td>\n",
              "      <td>...</td>\n",
              "      <td>...</td>\n",
              "      <td>...</td>\n",
              "      <td>...</td>\n",
              "      <td>...</td>\n",
              "    </tr>\n",
              "    <tr>\n",
              "      <th>8543</th>\n",
              "      <td>female</td>\n",
              "      <td>11</td>\n",
              "      <td>3.0</td>\n",
              "      <td>50</td>\n",
              "      <td>9.3</td>\n",
              "      <td>70.0</td>\n",
              "      <td>No</td>\n",
              "      <td>Yes</td>\n",
              "    </tr>\n",
              "    <tr>\n",
              "      <th>8544</th>\n",
              "      <td>female</td>\n",
              "      <td>13</td>\n",
              "      <td>2.9</td>\n",
              "      <td>49</td>\n",
              "      <td>5.0</td>\n",
              "      <td>60.0</td>\n",
              "      <td>No</td>\n",
              "      <td>Yes</td>\n",
              "    </tr>\n",
              "    <tr>\n",
              "      <th>8545</th>\n",
              "      <td>female</td>\n",
              "      <td>12</td>\n",
              "      <td>2.7</td>\n",
              "      <td>49</td>\n",
              "      <td>5.5</td>\n",
              "      <td>67.0</td>\n",
              "      <td>No</td>\n",
              "      <td>Yes</td>\n",
              "    </tr>\n",
              "    <tr>\n",
              "      <th>8546</th>\n",
              "      <td>female</td>\n",
              "      <td>18</td>\n",
              "      <td>3.0</td>\n",
              "      <td>49</td>\n",
              "      <td>9.3</td>\n",
              "      <td>74.2</td>\n",
              "      <td>No</td>\n",
              "      <td>Yes</td>\n",
              "    </tr>\n",
              "    <tr>\n",
              "      <th>8547</th>\n",
              "      <td>female</td>\n",
              "      <td>16</td>\n",
              "      <td>2.9</td>\n",
              "      <td>49</td>\n",
              "      <td>6.0</td>\n",
              "      <td>77.0</td>\n",
              "      <td>No</td>\n",
              "      <td>Yes</td>\n",
              "    </tr>\n",
              "  </tbody>\n",
              "</table>\n",
              "<p>8543 rows × 8 columns</p>\n",
              "</div>"
            ],
            "text/plain": [
              "      Gender  Age  Birth Weight  Birth Length  Body Weight  Body Length  \\\n",
              "0       male   17           3.0            49         10.0         72.2   \n",
              "1     female   11           2.9            49          2.9         65.0   \n",
              "2       male   16           2.9            49          8.5         72.2   \n",
              "3       male   31           2.8            49          6.4         63.0   \n",
              "4       male   15           3.1            49         10.5         49.0   \n",
              "...      ...  ...           ...           ...          ...          ...   \n",
              "8543  female   11           3.0            50          9.3         70.0   \n",
              "8544  female   13           2.9            49          5.0         60.0   \n",
              "8545  female   12           2.7            49          5.5         67.0   \n",
              "8546  female   18           3.0            49          9.3         74.2   \n",
              "8547  female   16           2.9            49          6.0         77.0   \n",
              "\n",
              "     Breastfeeding Stunting  \n",
              "0               No       No  \n",
              "1               No      Yes  \n",
              "2               No      Yes  \n",
              "3               No      Yes  \n",
              "4               No      Yes  \n",
              "...            ...      ...  \n",
              "8543            No      Yes  \n",
              "8544            No      Yes  \n",
              "8545            No      Yes  \n",
              "8546            No      Yes  \n",
              "8547            No      Yes  \n",
              "\n",
              "[8543 rows x 8 columns]"
            ]
          },
          "execution_count": 440,
          "metadata": {},
          "output_type": "execute_result"
        }
      ],
      "source": [
        "df"
      ]
    },
    {
      "cell_type": "code",
      "execution_count": 441,
      "metadata": {},
      "outputs": [],
      "source": [
        "df.to_csv(\"data stunting.csv\", index=False)"
      ]
    },
    {
      "cell_type": "markdown",
      "metadata": {
        "id": "ZgZSYNeOwr7H"
      },
      "source": [
        "# Menambahkan Kolom Tinggi Badan Menurut Umur"
      ]
    },
    {
      "cell_type": "markdown",
      "metadata": {
        "id": "lubSS9Mqw1Jr"
      },
      "source": [
        "Berdasarkan Peraturan Menteri Kesehatan Republik Indonesia Nomor 2 Tahun 2020 Tentang Standar Antropometri Anak. Kategori status stunting atau tinggi badan menurut umur dibagi menjadi 4 yaitu, sangat pendek (severely stunted), pendek (stunted), normal, dan tinggi.\n",
        "\n",
        "Sehingga pada data akan ditambahkan kolom status tinggi badan menurut umur seperti keterangan di atas, hal ini untuk mengganti kolom stunting yang hanya bernilai \"Yes\" dan \"No\".\n"
      ]
    },
    {
      "cell_type": "code",
      "execution_count": 442,
      "metadata": {
        "colab": {
          "base_uri": "https://localhost:8080/"
        },
        "id": "BkXL3gl41Dra",
        "outputId": "89628101-3d40-4fda-964c-6070d4223475"
      },
      "outputs": [
        {
          "data": {
            "text/html": [
              "<div>\n",
              "<style scoped>\n",
              "    .dataframe tbody tr th:only-of-type {\n",
              "        vertical-align: middle;\n",
              "    }\n",
              "\n",
              "    .dataframe tbody tr th {\n",
              "        vertical-align: top;\n",
              "    }\n",
              "\n",
              "    .dataframe thead th {\n",
              "        text-align: right;\n",
              "    }\n",
              "</style>\n",
              "<table border=\"1\" class=\"dataframe\">\n",
              "  <thead>\n",
              "    <tr style=\"text-align: right;\">\n",
              "      <th></th>\n",
              "      <th>Month</th>\n",
              "      <th>L</th>\n",
              "      <th>M</th>\n",
              "      <th>S</th>\n",
              "      <th>SD</th>\n",
              "      <th>SD3neg</th>\n",
              "      <th>SD2neg</th>\n",
              "      <th>SD1neg</th>\n",
              "      <th>SD0</th>\n",
              "      <th>SD1</th>\n",
              "      <th>SD2</th>\n",
              "      <th>SD3</th>\n",
              "      <th>M</th>\n",
              "      <th>Gender</th>\n",
              "    </tr>\n",
              "  </thead>\n",
              "  <tbody>\n",
              "    <tr>\n",
              "      <th>0</th>\n",
              "      <td>0</td>\n",
              "      <td>1</td>\n",
              "      <td>49.8842</td>\n",
              "      <td>0.03795</td>\n",
              "      <td>1.8931</td>\n",
              "      <td>44.2</td>\n",
              "      <td>46.1</td>\n",
              "      <td>48.0</td>\n",
              "      <td>49.9</td>\n",
              "      <td>51.8</td>\n",
              "      <td>53.7</td>\n",
              "      <td>55.6</td>\n",
              "      <td>NaN</td>\n",
              "      <td>male</td>\n",
              "    </tr>\n",
              "    <tr>\n",
              "      <th>1</th>\n",
              "      <td>1</td>\n",
              "      <td>1</td>\n",
              "      <td>54.7244</td>\n",
              "      <td>0.03557</td>\n",
              "      <td>1.9465</td>\n",
              "      <td>48.9</td>\n",
              "      <td>50.8</td>\n",
              "      <td>52.8</td>\n",
              "      <td>54.7</td>\n",
              "      <td>56.7</td>\n",
              "      <td>58.6</td>\n",
              "      <td>60.6</td>\n",
              "      <td>NaN</td>\n",
              "      <td>male</td>\n",
              "    </tr>\n",
              "    <tr>\n",
              "      <th>2</th>\n",
              "      <td>2</td>\n",
              "      <td>1</td>\n",
              "      <td>58.4249</td>\n",
              "      <td>0.03424</td>\n",
              "      <td>2.0005</td>\n",
              "      <td>52.4</td>\n",
              "      <td>54.4</td>\n",
              "      <td>56.4</td>\n",
              "      <td>58.4</td>\n",
              "      <td>60.4</td>\n",
              "      <td>62.4</td>\n",
              "      <td>64.4</td>\n",
              "      <td>NaN</td>\n",
              "      <td>male</td>\n",
              "    </tr>\n",
              "    <tr>\n",
              "      <th>3</th>\n",
              "      <td>3</td>\n",
              "      <td>1</td>\n",
              "      <td>61.4292</td>\n",
              "      <td>0.03328</td>\n",
              "      <td>2.0444</td>\n",
              "      <td>55.3</td>\n",
              "      <td>57.3</td>\n",
              "      <td>59.4</td>\n",
              "      <td>61.4</td>\n",
              "      <td>63.5</td>\n",
              "      <td>65.5</td>\n",
              "      <td>67.6</td>\n",
              "      <td>NaN</td>\n",
              "      <td>male</td>\n",
              "    </tr>\n",
              "    <tr>\n",
              "      <th>4</th>\n",
              "      <td>4</td>\n",
              "      <td>1</td>\n",
              "      <td>63.8860</td>\n",
              "      <td>0.03257</td>\n",
              "      <td>2.0808</td>\n",
              "      <td>57.6</td>\n",
              "      <td>59.7</td>\n",
              "      <td>61.8</td>\n",
              "      <td>63.9</td>\n",
              "      <td>66.0</td>\n",
              "      <td>68.0</td>\n",
              "      <td>70.1</td>\n",
              "      <td>NaN</td>\n",
              "      <td>male</td>\n",
              "    </tr>\n",
              "  </tbody>\n",
              "</table>\n",
              "</div>"
            ],
            "text/plain": [
              "   Month  L        M        S      SD  SD3neg  SD2neg  SD1neg   SD0   SD1  \\\n",
              "0      0  1  49.8842  0.03795  1.8931    44.2    46.1    48.0  49.9  51.8   \n",
              "1      1  1  54.7244  0.03557  1.9465    48.9    50.8    52.8  54.7  56.7   \n",
              "2      2  1  58.4249  0.03424  2.0005    52.4    54.4    56.4  58.4  60.4   \n",
              "3      3  1  61.4292  0.03328  2.0444    55.3    57.3    59.4  61.4  63.5   \n",
              "4      4  1  63.8860  0.03257  2.0808    57.6    59.7    61.8  63.9  66.0   \n",
              "\n",
              "    SD2   SD3  M        Gender  \n",
              "0  53.7  55.6       NaN   male  \n",
              "1  58.6  60.6       NaN   male  \n",
              "2  62.4  64.4       NaN   male  \n",
              "3  65.5  67.6       NaN   male  \n",
              "4  68.0  70.1       NaN   male  "
            ]
          },
          "execution_count": 442,
          "metadata": {},
          "output_type": "execute_result"
        }
      ],
      "source": [
        "# Membaca data tinggi badan menurut umur\n",
        "df_tbu = pd.read_csv(r\"D:\\Prediksi Status Gizi\\Dataset\\data tinggi badan menurut umur versi WHO.csv\")\n",
        "df_tbu.head()"
      ]
    },
    {
      "cell_type": "markdown",
      "metadata": {
        "id": "8PmDhdcF1c38"
      },
      "source": [
        "Pada tahap ini akan dilakukan penambahan kolom SD1neg, SD0 (Median), dan SD1 dari df_tbu ke df. Hal ini dilakukan untuk membuat kolom z-score tb/u dan status tb/u"
      ]
    },
    {
      "cell_type": "code",
      "execution_count": 443,
      "metadata": {
        "id": "nlFxFqWA2gTK"
      },
      "outputs": [],
      "source": [
        "data1 = df.copy()"
      ]
    },
    {
      "cell_type": "code",
      "execution_count": 444,
      "metadata": {
        "colab": {
          "base_uri": "https://localhost:8080/"
        },
        "id": "2J581yi410-0",
        "outputId": "c632063d-14b5-4c92-f93e-02d2a57e6afd"
      },
      "outputs": [
        {
          "data": {
            "text/html": [
              "<div>\n",
              "<style scoped>\n",
              "    .dataframe tbody tr th:only-of-type {\n",
              "        vertical-align: middle;\n",
              "    }\n",
              "\n",
              "    .dataframe tbody tr th {\n",
              "        vertical-align: top;\n",
              "    }\n",
              "\n",
              "    .dataframe thead th {\n",
              "        text-align: right;\n",
              "    }\n",
              "</style>\n",
              "<table border=\"1\" class=\"dataframe\">\n",
              "  <thead>\n",
              "    <tr style=\"text-align: right;\">\n",
              "      <th></th>\n",
              "      <th>Gender</th>\n",
              "      <th>Age</th>\n",
              "      <th>Birth Weight</th>\n",
              "      <th>Birth Length</th>\n",
              "      <th>Body Weight</th>\n",
              "      <th>Body Length</th>\n",
              "      <th>Breastfeeding</th>\n",
              "      <th>Stunting</th>\n",
              "    </tr>\n",
              "  </thead>\n",
              "  <tbody>\n",
              "    <tr>\n",
              "      <th>0</th>\n",
              "      <td>male</td>\n",
              "      <td>17</td>\n",
              "      <td>3.0</td>\n",
              "      <td>49</td>\n",
              "      <td>10.0</td>\n",
              "      <td>72.2</td>\n",
              "      <td>No</td>\n",
              "      <td>No</td>\n",
              "    </tr>\n",
              "    <tr>\n",
              "      <th>1</th>\n",
              "      <td>female</td>\n",
              "      <td>11</td>\n",
              "      <td>2.9</td>\n",
              "      <td>49</td>\n",
              "      <td>2.9</td>\n",
              "      <td>65.0</td>\n",
              "      <td>No</td>\n",
              "      <td>Yes</td>\n",
              "    </tr>\n",
              "    <tr>\n",
              "      <th>2</th>\n",
              "      <td>male</td>\n",
              "      <td>16</td>\n",
              "      <td>2.9</td>\n",
              "      <td>49</td>\n",
              "      <td>8.5</td>\n",
              "      <td>72.2</td>\n",
              "      <td>No</td>\n",
              "      <td>Yes</td>\n",
              "    </tr>\n",
              "    <tr>\n",
              "      <th>3</th>\n",
              "      <td>male</td>\n",
              "      <td>31</td>\n",
              "      <td>2.8</td>\n",
              "      <td>49</td>\n",
              "      <td>6.4</td>\n",
              "      <td>63.0</td>\n",
              "      <td>No</td>\n",
              "      <td>Yes</td>\n",
              "    </tr>\n",
              "    <tr>\n",
              "      <th>4</th>\n",
              "      <td>male</td>\n",
              "      <td>15</td>\n",
              "      <td>3.1</td>\n",
              "      <td>49</td>\n",
              "      <td>10.5</td>\n",
              "      <td>49.0</td>\n",
              "      <td>No</td>\n",
              "      <td>Yes</td>\n",
              "    </tr>\n",
              "  </tbody>\n",
              "</table>\n",
              "</div>"
            ],
            "text/plain": [
              "   Gender  Age  Birth Weight  Birth Length  Body Weight  Body Length  \\\n",
              "0    male   17           3.0            49         10.0         72.2   \n",
              "1  female   11           2.9            49          2.9         65.0   \n",
              "2    male   16           2.9            49          8.5         72.2   \n",
              "3    male   31           2.8            49          6.4         63.0   \n",
              "4    male   15           3.1            49         10.5         49.0   \n",
              "\n",
              "  Breastfeeding Stunting  \n",
              "0            No       No  \n",
              "1            No      Yes  \n",
              "2            No      Yes  \n",
              "3            No      Yes  \n",
              "4            No      Yes  "
            ]
          },
          "execution_count": 444,
          "metadata": {},
          "output_type": "execute_result"
        }
      ],
      "source": [
        "data1.head()"
      ]
    },
    {
      "cell_type": "code",
      "execution_count": 445,
      "metadata": {
        "id": "DNXg-AB518-v"
      },
      "outputs": [],
      "source": [
        "# mengganti nama kolom 'Month' menjadi 'Age' supaya sesuai\n",
        "df_tbu = df_tbu.rename(columns={\"Month\": \"Age\"})"
      ]
    },
    {
      "cell_type": "code",
      "execution_count": 446,
      "metadata": {
        "colab": {
          "base_uri": "https://localhost:8080/"
        },
        "id": "MBSX8niE2bLY",
        "outputId": "9217d935-c574-4b59-8126-8a972e7e9480"
      },
      "outputs": [
        {
          "data": {
            "text/html": [
              "<div>\n",
              "<style scoped>\n",
              "    .dataframe tbody tr th:only-of-type {\n",
              "        vertical-align: middle;\n",
              "    }\n",
              "\n",
              "    .dataframe tbody tr th {\n",
              "        vertical-align: top;\n",
              "    }\n",
              "\n",
              "    .dataframe thead th {\n",
              "        text-align: right;\n",
              "    }\n",
              "</style>\n",
              "<table border=\"1\" class=\"dataframe\">\n",
              "  <thead>\n",
              "    <tr style=\"text-align: right;\">\n",
              "      <th></th>\n",
              "      <th>Gender</th>\n",
              "      <th>Age</th>\n",
              "      <th>Birth Weight</th>\n",
              "      <th>Birth Length</th>\n",
              "      <th>Body Weight</th>\n",
              "      <th>Body Length</th>\n",
              "      <th>Breastfeeding</th>\n",
              "      <th>Stunting</th>\n",
              "      <th>SD1neg</th>\n",
              "      <th>SD0</th>\n",
              "      <th>SD1</th>\n",
              "    </tr>\n",
              "  </thead>\n",
              "  <tbody>\n",
              "    <tr>\n",
              "      <th>0</th>\n",
              "      <td>male</td>\n",
              "      <td>17</td>\n",
              "      <td>3.0</td>\n",
              "      <td>49</td>\n",
              "      <td>10.0</td>\n",
              "      <td>72.2</td>\n",
              "      <td>No</td>\n",
              "      <td>No</td>\n",
              "      <td>78.6</td>\n",
              "      <td>81.2</td>\n",
              "      <td>83.9</td>\n",
              "    </tr>\n",
              "    <tr>\n",
              "      <th>1</th>\n",
              "      <td>female</td>\n",
              "      <td>11</td>\n",
              "      <td>2.9</td>\n",
              "      <td>49</td>\n",
              "      <td>2.9</td>\n",
              "      <td>65.0</td>\n",
              "      <td>No</td>\n",
              "      <td>Yes</td>\n",
              "      <td>70.3</td>\n",
              "      <td>72.8</td>\n",
              "      <td>75.3</td>\n",
              "    </tr>\n",
              "    <tr>\n",
              "      <th>2</th>\n",
              "      <td>male</td>\n",
              "      <td>16</td>\n",
              "      <td>2.9</td>\n",
              "      <td>49</td>\n",
              "      <td>8.5</td>\n",
              "      <td>72.2</td>\n",
              "      <td>No</td>\n",
              "      <td>Yes</td>\n",
              "      <td>77.6</td>\n",
              "      <td>80.2</td>\n",
              "      <td>82.8</td>\n",
              "    </tr>\n",
              "    <tr>\n",
              "      <th>3</th>\n",
              "      <td>male</td>\n",
              "      <td>31</td>\n",
              "      <td>2.8</td>\n",
              "      <td>49</td>\n",
              "      <td>6.4</td>\n",
              "      <td>63.0</td>\n",
              "      <td>No</td>\n",
              "      <td>Yes</td>\n",
              "      <td>89.2</td>\n",
              "      <td>92.7</td>\n",
              "      <td>96.1</td>\n",
              "    </tr>\n",
              "    <tr>\n",
              "      <th>4</th>\n",
              "      <td>male</td>\n",
              "      <td>15</td>\n",
              "      <td>3.1</td>\n",
              "      <td>49</td>\n",
              "      <td>10.5</td>\n",
              "      <td>49.0</td>\n",
              "      <td>No</td>\n",
              "      <td>Yes</td>\n",
              "      <td>76.6</td>\n",
              "      <td>79.1</td>\n",
              "      <td>81.7</td>\n",
              "    </tr>\n",
              "  </tbody>\n",
              "</table>\n",
              "</div>"
            ],
            "text/plain": [
              "   Gender  Age  Birth Weight  Birth Length  Body Weight  Body Length  \\\n",
              "0    male   17           3.0            49         10.0         72.2   \n",
              "1  female   11           2.9            49          2.9         65.0   \n",
              "2    male   16           2.9            49          8.5         72.2   \n",
              "3    male   31           2.8            49          6.4         63.0   \n",
              "4    male   15           3.1            49         10.5         49.0   \n",
              "\n",
              "  Breastfeeding Stunting  SD1neg   SD0   SD1  \n",
              "0            No       No    78.6  81.2  83.9  \n",
              "1            No      Yes    70.3  72.8  75.3  \n",
              "2            No      Yes    77.6  80.2  82.8  \n",
              "3            No      Yes    89.2  92.7  96.1  \n",
              "4            No      Yes    76.6  79.1  81.7  "
            ]
          },
          "execution_count": 446,
          "metadata": {},
          "output_type": "execute_result"
        }
      ],
      "source": [
        "# Menambahkan kolom SD1neg, SD0, dan SD1\n",
        "data1 = data1.merge(\n",
        "    df_tbu[[\"Age\", \"Gender\", \"SD1neg\", \"SD0\", \"SD1\"]],\n",
        "    on=[\"Age\", \"Gender\"],\n",
        "    how=\"left\") # Menggunakan left join agar data asli di df tetap utuh\n",
        "data1.head()"
      ]
    },
    {
      "cell_type": "code",
      "execution_count": 447,
      "metadata": {
        "colab": {
          "base_uri": "https://localhost:8080/"
        },
        "id": "JnjZ1v135NYi",
        "outputId": "be7725a6-ef0b-49b6-c9a1-ab95478e6f67"
      },
      "outputs": [
        {
          "data": {
            "text/plain": [
              "Gender           0\n",
              "Age              0\n",
              "Birth Weight     0\n",
              "Birth Length     0\n",
              "Body Weight      0\n",
              "Body Length      0\n",
              "Breastfeeding    0\n",
              "Stunting         0\n",
              "SD1neg           0\n",
              "SD0              0\n",
              "SD1              0\n",
              "dtype: int64"
            ]
          },
          "execution_count": 447,
          "metadata": {},
          "output_type": "execute_result"
        }
      ],
      "source": [
        "data1.isnull().sum()"
      ]
    },
    {
      "cell_type": "code",
      "execution_count": 448,
      "metadata": {
        "colab": {
          "base_uri": "https://localhost:8080/"
        },
        "id": "xL--pLet5Q6k",
        "outputId": "d119a678-2ca3-439c-bc80-71d5a194f615"
      },
      "outputs": [
        {
          "data": {
            "text/plain": [
              "0"
            ]
          },
          "execution_count": 448,
          "metadata": {},
          "output_type": "execute_result"
        }
      ],
      "source": [
        "data1.duplicated().sum()"
      ]
    },
    {
      "cell_type": "code",
      "execution_count": 449,
      "metadata": {
        "colab": {
          "base_uri": "https://localhost:8080/"
        },
        "id": "E1X6OyLc4sZ0",
        "outputId": "63b8dd46-ca21-4428-ad3e-90318ef93250"
      },
      "outputs": [
        {
          "data": {
            "text/html": [
              "<div>\n",
              "<style scoped>\n",
              "    .dataframe tbody tr th:only-of-type {\n",
              "        vertical-align: middle;\n",
              "    }\n",
              "\n",
              "    .dataframe tbody tr th {\n",
              "        vertical-align: top;\n",
              "    }\n",
              "\n",
              "    .dataframe thead th {\n",
              "        text-align: right;\n",
              "    }\n",
              "</style>\n",
              "<table border=\"1\" class=\"dataframe\">\n",
              "  <thead>\n",
              "    <tr style=\"text-align: right;\">\n",
              "      <th></th>\n",
              "      <th>Gender</th>\n",
              "      <th>Age</th>\n",
              "      <th>Birth Weight</th>\n",
              "      <th>Birth Length</th>\n",
              "      <th>Body Weight</th>\n",
              "      <th>Body Length</th>\n",
              "      <th>Breastfeeding</th>\n",
              "      <th>Stunting</th>\n",
              "      <th>SD1neg</th>\n",
              "      <th>SD0</th>\n",
              "      <th>SD1</th>\n",
              "      <th>Z_Score_tb_u</th>\n",
              "    </tr>\n",
              "  </thead>\n",
              "  <tbody>\n",
              "    <tr>\n",
              "      <th>0</th>\n",
              "      <td>male</td>\n",
              "      <td>17</td>\n",
              "      <td>3.0</td>\n",
              "      <td>49</td>\n",
              "      <td>10.0</td>\n",
              "      <td>72.2</td>\n",
              "      <td>No</td>\n",
              "      <td>No</td>\n",
              "      <td>78.6</td>\n",
              "      <td>81.2</td>\n",
              "      <td>83.9</td>\n",
              "      <td>-3.461538</td>\n",
              "    </tr>\n",
              "    <tr>\n",
              "      <th>1</th>\n",
              "      <td>female</td>\n",
              "      <td>11</td>\n",
              "      <td>2.9</td>\n",
              "      <td>49</td>\n",
              "      <td>2.9</td>\n",
              "      <td>65.0</td>\n",
              "      <td>No</td>\n",
              "      <td>Yes</td>\n",
              "      <td>70.3</td>\n",
              "      <td>72.8</td>\n",
              "      <td>75.3</td>\n",
              "      <td>-3.120000</td>\n",
              "    </tr>\n",
              "    <tr>\n",
              "      <th>2</th>\n",
              "      <td>male</td>\n",
              "      <td>16</td>\n",
              "      <td>2.9</td>\n",
              "      <td>49</td>\n",
              "      <td>8.5</td>\n",
              "      <td>72.2</td>\n",
              "      <td>No</td>\n",
              "      <td>Yes</td>\n",
              "      <td>77.6</td>\n",
              "      <td>80.2</td>\n",
              "      <td>82.8</td>\n",
              "      <td>-3.076923</td>\n",
              "    </tr>\n",
              "    <tr>\n",
              "      <th>3</th>\n",
              "      <td>male</td>\n",
              "      <td>31</td>\n",
              "      <td>2.8</td>\n",
              "      <td>49</td>\n",
              "      <td>6.4</td>\n",
              "      <td>63.0</td>\n",
              "      <td>No</td>\n",
              "      <td>Yes</td>\n",
              "      <td>89.2</td>\n",
              "      <td>92.7</td>\n",
              "      <td>96.1</td>\n",
              "      <td>-8.485714</td>\n",
              "    </tr>\n",
              "    <tr>\n",
              "      <th>4</th>\n",
              "      <td>male</td>\n",
              "      <td>15</td>\n",
              "      <td>3.1</td>\n",
              "      <td>49</td>\n",
              "      <td>10.5</td>\n",
              "      <td>49.0</td>\n",
              "      <td>No</td>\n",
              "      <td>Yes</td>\n",
              "      <td>76.6</td>\n",
              "      <td>79.1</td>\n",
              "      <td>81.7</td>\n",
              "      <td>-12.040000</td>\n",
              "    </tr>\n",
              "  </tbody>\n",
              "</table>\n",
              "</div>"
            ],
            "text/plain": [
              "   Gender  Age  Birth Weight  Birth Length  Body Weight  Body Length  \\\n",
              "0    male   17           3.0            49         10.0         72.2   \n",
              "1  female   11           2.9            49          2.9         65.0   \n",
              "2    male   16           2.9            49          8.5         72.2   \n",
              "3    male   31           2.8            49          6.4         63.0   \n",
              "4    male   15           3.1            49         10.5         49.0   \n",
              "\n",
              "  Breastfeeding Stunting  SD1neg   SD0   SD1  Z_Score_tb_u  \n",
              "0            No       No    78.6  81.2  83.9     -3.461538  \n",
              "1            No      Yes    70.3  72.8  75.3     -3.120000  \n",
              "2            No      Yes    77.6  80.2  82.8     -3.076923  \n",
              "3            No      Yes    89.2  92.7  96.1     -8.485714  \n",
              "4            No      Yes    76.6  79.1  81.7    -12.040000  "
            ]
          },
          "execution_count": 449,
          "metadata": {},
          "output_type": "execute_result"
        }
      ],
      "source": [
        "# Membuat kolom z-score status tinggi badan menurut umur, dengan rumus perhitungan z-score\n",
        "def calculate_z_score(body_length, median, minus1sd, plus1sd):\n",
        "    if body_length < median:\n",
        "        z_score = (body_length- median) / (median - minus1sd)\n",
        "    else:\n",
        "        z_score = (body_length - median) / (plus1sd - median)\n",
        "    return z_score\n",
        "\n",
        "data1['Z_Score_tb_u'] = data1.apply(\n",
        "    lambda row: calculate_z_score(row['Body Length'], row['SD0'], row['SD1neg'], row['SD1']),\n",
        "    axis=1\n",
        ")\n",
        "data1.head()"
      ]
    },
    {
      "cell_type": "code",
      "execution_count": 450,
      "metadata": {
        "colab": {
          "base_uri": "https://localhost:8080/"
        },
        "id": "dO_gvWUx6vLF",
        "outputId": "4e3ff4a7-3e6b-4666-fcb8-9bc26636190c"
      },
      "outputs": [
        {
          "data": {
            "text/plain": [
              "Gender           0\n",
              "Age              0\n",
              "Birth Weight     0\n",
              "Birth Length     0\n",
              "Body Weight      0\n",
              "Body Length      0\n",
              "Breastfeeding    0\n",
              "Stunting         0\n",
              "SD1neg           0\n",
              "SD0              0\n",
              "SD1              0\n",
              "Z_Score_tb_u     0\n",
              "dtype: int64"
            ]
          },
          "execution_count": 450,
          "metadata": {},
          "output_type": "execute_result"
        }
      ],
      "source": [
        "data1.isnull().sum()"
      ]
    },
    {
      "cell_type": "code",
      "execution_count": 451,
      "metadata": {
        "colab": {
          "base_uri": "https://localhost:8080/"
        },
        "id": "KWQwHPHzq5vl",
        "outputId": "044fa9be-6e08-422d-9f1a-859d37b6c0b4"
      },
      "outputs": [
        {
          "data": {
            "text/plain": [
              "0"
            ]
          },
          "execution_count": 451,
          "metadata": {},
          "output_type": "execute_result"
        }
      ],
      "source": [
        "data1.duplicated().sum()"
      ]
    },
    {
      "cell_type": "code",
      "execution_count": 452,
      "metadata": {
        "colab": {
          "base_uri": "https://localhost:8080/"
        },
        "id": "3aTDxElg6zJv",
        "outputId": "ebfa27de-3996-4860-a4ed-e9ddf599576f"
      },
      "outputs": [
        {
          "data": {
            "text/html": [
              "<div>\n",
              "<style scoped>\n",
              "    .dataframe tbody tr th:only-of-type {\n",
              "        vertical-align: middle;\n",
              "    }\n",
              "\n",
              "    .dataframe tbody tr th {\n",
              "        vertical-align: top;\n",
              "    }\n",
              "\n",
              "    .dataframe thead th {\n",
              "        text-align: right;\n",
              "    }\n",
              "</style>\n",
              "<table border=\"1\" class=\"dataframe\">\n",
              "  <thead>\n",
              "    <tr style=\"text-align: right;\">\n",
              "      <th></th>\n",
              "      <th>Gender</th>\n",
              "      <th>Age</th>\n",
              "      <th>Birth Weight</th>\n",
              "      <th>Birth Length</th>\n",
              "      <th>Body Weight</th>\n",
              "      <th>Body Length</th>\n",
              "      <th>Breastfeeding</th>\n",
              "      <th>Stunting</th>\n",
              "      <th>SD1neg</th>\n",
              "      <th>SD0</th>\n",
              "      <th>SD1</th>\n",
              "      <th>Z_Score_tb_u</th>\n",
              "      <th>Status Tinggi Badan</th>\n",
              "    </tr>\n",
              "  </thead>\n",
              "  <tbody>\n",
              "    <tr>\n",
              "      <th>0</th>\n",
              "      <td>male</td>\n",
              "      <td>17</td>\n",
              "      <td>3.0</td>\n",
              "      <td>49</td>\n",
              "      <td>10.0</td>\n",
              "      <td>72.2</td>\n",
              "      <td>No</td>\n",
              "      <td>No</td>\n",
              "      <td>78.6</td>\n",
              "      <td>81.2</td>\n",
              "      <td>83.9</td>\n",
              "      <td>-3.461538</td>\n",
              "      <td>Sangat pendek</td>\n",
              "    </tr>\n",
              "    <tr>\n",
              "      <th>1</th>\n",
              "      <td>female</td>\n",
              "      <td>11</td>\n",
              "      <td>2.9</td>\n",
              "      <td>49</td>\n",
              "      <td>2.9</td>\n",
              "      <td>65.0</td>\n",
              "      <td>No</td>\n",
              "      <td>Yes</td>\n",
              "      <td>70.3</td>\n",
              "      <td>72.8</td>\n",
              "      <td>75.3</td>\n",
              "      <td>-3.120000</td>\n",
              "      <td>Sangat pendek</td>\n",
              "    </tr>\n",
              "    <tr>\n",
              "      <th>2</th>\n",
              "      <td>male</td>\n",
              "      <td>16</td>\n",
              "      <td>2.9</td>\n",
              "      <td>49</td>\n",
              "      <td>8.5</td>\n",
              "      <td>72.2</td>\n",
              "      <td>No</td>\n",
              "      <td>Yes</td>\n",
              "      <td>77.6</td>\n",
              "      <td>80.2</td>\n",
              "      <td>82.8</td>\n",
              "      <td>-3.076923</td>\n",
              "      <td>Sangat pendek</td>\n",
              "    </tr>\n",
              "    <tr>\n",
              "      <th>3</th>\n",
              "      <td>male</td>\n",
              "      <td>31</td>\n",
              "      <td>2.8</td>\n",
              "      <td>49</td>\n",
              "      <td>6.4</td>\n",
              "      <td>63.0</td>\n",
              "      <td>No</td>\n",
              "      <td>Yes</td>\n",
              "      <td>89.2</td>\n",
              "      <td>92.7</td>\n",
              "      <td>96.1</td>\n",
              "      <td>-8.485714</td>\n",
              "      <td>Sangat pendek</td>\n",
              "    </tr>\n",
              "    <tr>\n",
              "      <th>4</th>\n",
              "      <td>male</td>\n",
              "      <td>15</td>\n",
              "      <td>3.1</td>\n",
              "      <td>49</td>\n",
              "      <td>10.5</td>\n",
              "      <td>49.0</td>\n",
              "      <td>No</td>\n",
              "      <td>Yes</td>\n",
              "      <td>76.6</td>\n",
              "      <td>79.1</td>\n",
              "      <td>81.7</td>\n",
              "      <td>-12.040000</td>\n",
              "      <td>Sangat pendek</td>\n",
              "    </tr>\n",
              "    <tr>\n",
              "      <th>5</th>\n",
              "      <td>female</td>\n",
              "      <td>11</td>\n",
              "      <td>2.8</td>\n",
              "      <td>49</td>\n",
              "      <td>8.5</td>\n",
              "      <td>65.0</td>\n",
              "      <td>No</td>\n",
              "      <td>No</td>\n",
              "      <td>70.3</td>\n",
              "      <td>72.8</td>\n",
              "      <td>75.3</td>\n",
              "      <td>-3.120000</td>\n",
              "      <td>Sangat pendek</td>\n",
              "    </tr>\n",
              "    <tr>\n",
              "      <th>6</th>\n",
              "      <td>male</td>\n",
              "      <td>35</td>\n",
              "      <td>2.8</td>\n",
              "      <td>49</td>\n",
              "      <td>10.5</td>\n",
              "      <td>72.2</td>\n",
              "      <td>No</td>\n",
              "      <td>Yes</td>\n",
              "      <td>91.8</td>\n",
              "      <td>95.4</td>\n",
              "      <td>99.1</td>\n",
              "      <td>-6.444444</td>\n",
              "      <td>Sangat pendek</td>\n",
              "    </tr>\n",
              "    <tr>\n",
              "      <th>7</th>\n",
              "      <td>female</td>\n",
              "      <td>17</td>\n",
              "      <td>2.8</td>\n",
              "      <td>49</td>\n",
              "      <td>8.0</td>\n",
              "      <td>63.0</td>\n",
              "      <td>No</td>\n",
              "      <td>Yes</td>\n",
              "      <td>76.8</td>\n",
              "      <td>79.7</td>\n",
              "      <td>82.5</td>\n",
              "      <td>-5.758621</td>\n",
              "      <td>Sangat pendek</td>\n",
              "    </tr>\n",
              "    <tr>\n",
              "      <th>8</th>\n",
              "      <td>female</td>\n",
              "      <td>10</td>\n",
              "      <td>2.7</td>\n",
              "      <td>49</td>\n",
              "      <td>8.4</td>\n",
              "      <td>73.5</td>\n",
              "      <td>No</td>\n",
              "      <td>No</td>\n",
              "      <td>69.0</td>\n",
              "      <td>71.5</td>\n",
              "      <td>73.9</td>\n",
              "      <td>0.833333</td>\n",
              "      <td>Normal</td>\n",
              "    </tr>\n",
              "    <tr>\n",
              "      <th>9</th>\n",
              "      <td>female</td>\n",
              "      <td>16</td>\n",
              "      <td>2.8</td>\n",
              "      <td>49</td>\n",
              "      <td>8.5</td>\n",
              "      <td>65.0</td>\n",
              "      <td>No</td>\n",
              "      <td>Yes</td>\n",
              "      <td>75.8</td>\n",
              "      <td>78.6</td>\n",
              "      <td>81.4</td>\n",
              "      <td>-4.857143</td>\n",
              "      <td>Sangat pendek</td>\n",
              "    </tr>\n",
              "  </tbody>\n",
              "</table>\n",
              "</div>"
            ],
            "text/plain": [
              "   Gender  Age  Birth Weight  Birth Length  Body Weight  Body Length  \\\n",
              "0    male   17           3.0            49         10.0         72.2   \n",
              "1  female   11           2.9            49          2.9         65.0   \n",
              "2    male   16           2.9            49          8.5         72.2   \n",
              "3    male   31           2.8            49          6.4         63.0   \n",
              "4    male   15           3.1            49         10.5         49.0   \n",
              "5  female   11           2.8            49          8.5         65.0   \n",
              "6    male   35           2.8            49         10.5         72.2   \n",
              "7  female   17           2.8            49          8.0         63.0   \n",
              "8  female   10           2.7            49          8.4         73.5   \n",
              "9  female   16           2.8            49          8.5         65.0   \n",
              "\n",
              "  Breastfeeding Stunting  SD1neg   SD0   SD1  Z_Score_tb_u Status Tinggi Badan  \n",
              "0            No       No    78.6  81.2  83.9     -3.461538       Sangat pendek  \n",
              "1            No      Yes    70.3  72.8  75.3     -3.120000       Sangat pendek  \n",
              "2            No      Yes    77.6  80.2  82.8     -3.076923       Sangat pendek  \n",
              "3            No      Yes    89.2  92.7  96.1     -8.485714       Sangat pendek  \n",
              "4            No      Yes    76.6  79.1  81.7    -12.040000       Sangat pendek  \n",
              "5            No       No    70.3  72.8  75.3     -3.120000       Sangat pendek  \n",
              "6            No      Yes    91.8  95.4  99.1     -6.444444       Sangat pendek  \n",
              "7            No      Yes    76.8  79.7  82.5     -5.758621       Sangat pendek  \n",
              "8            No       No    69.0  71.5  73.9      0.833333              Normal  \n",
              "9            No      Yes    75.8  78.6  81.4     -4.857143       Sangat pendek  "
            ]
          },
          "execution_count": 452,
          "metadata": {},
          "output_type": "execute_result"
        }
      ],
      "source": [
        "# Membuat kolom Status Tinggi Badan\n",
        "def get_categorizeTBU(value):\n",
        "    if value < -3:\n",
        "        return \"Sangat pendek\"\n",
        "    elif -3 <= value < -2:\n",
        "        return \"Pendek\"\n",
        "    elif -2 <= value <= 3:\n",
        "        return \"Normal\"\n",
        "    elif value > 3:\n",
        "        return \"Tinggi\"\n",
        "    else:\n",
        "        return None\n",
        "\n",
        "data1['Status Tinggi Badan'] = data1['Z_Score_tb_u'].apply(get_categorizeTBU)\n",
        "data1.head(10)"
      ]
    },
    {
      "cell_type": "code",
      "execution_count": 453,
      "metadata": {},
      "outputs": [],
      "source": [
        "data1.to_excel(\"data1.xlsx\", index=False)"
      ]
    },
    {
      "cell_type": "code",
      "execution_count": 454,
      "metadata": {
        "colab": {
          "base_uri": "https://localhost:8080/"
        },
        "id": "2aS-W0IVq_Bl",
        "outputId": "4db5473b-66ab-479a-a257-d98260f5659a"
      },
      "outputs": [
        {
          "data": {
            "text/plain": [
              "Gender                 0\n",
              "Age                    0\n",
              "Birth Weight           0\n",
              "Birth Length           0\n",
              "Body Weight            0\n",
              "Body Length            0\n",
              "Breastfeeding          0\n",
              "Stunting               0\n",
              "SD1neg                 0\n",
              "SD0                    0\n",
              "SD1                    0\n",
              "Z_Score_tb_u           0\n",
              "Status Tinggi Badan    0\n",
              "dtype: int64"
            ]
          },
          "execution_count": 454,
          "metadata": {},
          "output_type": "execute_result"
        }
      ],
      "source": [
        "data1.isnull().sum()"
      ]
    },
    {
      "cell_type": "code",
      "execution_count": 455,
      "metadata": {
        "colab": {
          "base_uri": "https://localhost:8080/"
        },
        "id": "Dm_0HXdLF26c",
        "outputId": "8ce8ef8d-dd83-4adb-af90-32e20be6bd67"
      },
      "outputs": [
        {
          "data": {
            "text/plain": [
              "0"
            ]
          },
          "execution_count": 455,
          "metadata": {},
          "output_type": "execute_result"
        }
      ],
      "source": [
        "data1.duplicated().sum()"
      ]
    },
    {
      "cell_type": "markdown",
      "metadata": {
        "id": "fIf_-ucq7ZUP"
      },
      "source": [
        "Menghapus klom yang tidak diperlukan seperti SD1neg, SD0, SD1, dan Z_Score_tb_u yang hanya diperlukan untuk perhitungan status tinggi badan serta kolom stunting yang sudah diwakilkan oleh kolom status tinggi badan"
      ]
    },
    {
      "cell_type": "code",
      "execution_count": 456,
      "metadata": {
        "colab": {
          "base_uri": "https://localhost:8080/"
        },
        "id": "Wu0KURab8C8P",
        "outputId": "18588f84-d4b8-4177-a1cf-f77aedf9f4b7"
      },
      "outputs": [
        {
          "data": {
            "text/html": [
              "<div>\n",
              "<style scoped>\n",
              "    .dataframe tbody tr th:only-of-type {\n",
              "        vertical-align: middle;\n",
              "    }\n",
              "\n",
              "    .dataframe tbody tr th {\n",
              "        vertical-align: top;\n",
              "    }\n",
              "\n",
              "    .dataframe thead th {\n",
              "        text-align: right;\n",
              "    }\n",
              "</style>\n",
              "<table border=\"1\" class=\"dataframe\">\n",
              "  <thead>\n",
              "    <tr style=\"text-align: right;\">\n",
              "      <th></th>\n",
              "      <th>Gender</th>\n",
              "      <th>Age</th>\n",
              "      <th>Birth Weight</th>\n",
              "      <th>Birth Length</th>\n",
              "      <th>Body Weight</th>\n",
              "      <th>Body Length</th>\n",
              "      <th>Breastfeeding</th>\n",
              "      <th>Status Tinggi Badan</th>\n",
              "    </tr>\n",
              "  </thead>\n",
              "  <tbody>\n",
              "    <tr>\n",
              "      <th>0</th>\n",
              "      <td>male</td>\n",
              "      <td>17</td>\n",
              "      <td>3.0</td>\n",
              "      <td>49</td>\n",
              "      <td>10.0</td>\n",
              "      <td>72.2</td>\n",
              "      <td>No</td>\n",
              "      <td>Sangat pendek</td>\n",
              "    </tr>\n",
              "    <tr>\n",
              "      <th>1</th>\n",
              "      <td>female</td>\n",
              "      <td>11</td>\n",
              "      <td>2.9</td>\n",
              "      <td>49</td>\n",
              "      <td>2.9</td>\n",
              "      <td>65.0</td>\n",
              "      <td>No</td>\n",
              "      <td>Sangat pendek</td>\n",
              "    </tr>\n",
              "    <tr>\n",
              "      <th>2</th>\n",
              "      <td>male</td>\n",
              "      <td>16</td>\n",
              "      <td>2.9</td>\n",
              "      <td>49</td>\n",
              "      <td>8.5</td>\n",
              "      <td>72.2</td>\n",
              "      <td>No</td>\n",
              "      <td>Sangat pendek</td>\n",
              "    </tr>\n",
              "    <tr>\n",
              "      <th>3</th>\n",
              "      <td>male</td>\n",
              "      <td>31</td>\n",
              "      <td>2.8</td>\n",
              "      <td>49</td>\n",
              "      <td>6.4</td>\n",
              "      <td>63.0</td>\n",
              "      <td>No</td>\n",
              "      <td>Sangat pendek</td>\n",
              "    </tr>\n",
              "    <tr>\n",
              "      <th>4</th>\n",
              "      <td>male</td>\n",
              "      <td>15</td>\n",
              "      <td>3.1</td>\n",
              "      <td>49</td>\n",
              "      <td>10.5</td>\n",
              "      <td>49.0</td>\n",
              "      <td>No</td>\n",
              "      <td>Sangat pendek</td>\n",
              "    </tr>\n",
              "  </tbody>\n",
              "</table>\n",
              "</div>"
            ],
            "text/plain": [
              "   Gender  Age  Birth Weight  Birth Length  Body Weight  Body Length  \\\n",
              "0    male   17           3.0            49         10.0         72.2   \n",
              "1  female   11           2.9            49          2.9         65.0   \n",
              "2    male   16           2.9            49          8.5         72.2   \n",
              "3    male   31           2.8            49          6.4         63.0   \n",
              "4    male   15           3.1            49         10.5         49.0   \n",
              "\n",
              "  Breastfeeding Status Tinggi Badan  \n",
              "0            No       Sangat pendek  \n",
              "1            No       Sangat pendek  \n",
              "2            No       Sangat pendek  \n",
              "3            No       Sangat pendek  \n",
              "4            No       Sangat pendek  "
            ]
          },
          "execution_count": 456,
          "metadata": {},
          "output_type": "execute_result"
        }
      ],
      "source": [
        "# Menghapus kolom-kolom yang tidak diperlukan\n",
        "data1 = data1.drop(columns=[\"SD1neg\", \"SD0\", \"SD1\", \"Z_Score_tb_u\", \"Stunting\"])\n",
        "data1.head()"
      ]
    },
    {
      "cell_type": "code",
      "execution_count": 457,
      "metadata": {
        "colab": {
          "base_uri": "https://localhost:8080/"
        },
        "id": "0YMocY-5rIVv",
        "outputId": "542dfe56-92d4-4b6e-dd9f-eaf6f8eae6b1"
      },
      "outputs": [
        {
          "data": {
            "text/plain": [
              "Gender                 0\n",
              "Age                    0\n",
              "Birth Weight           0\n",
              "Birth Length           0\n",
              "Body Weight            0\n",
              "Body Length            0\n",
              "Breastfeeding          0\n",
              "Status Tinggi Badan    0\n",
              "dtype: int64"
            ]
          },
          "execution_count": 457,
          "metadata": {},
          "output_type": "execute_result"
        }
      ],
      "source": [
        "data1.isnull().sum()"
      ]
    },
    {
      "cell_type": "code",
      "execution_count": 458,
      "metadata": {
        "colab": {
          "base_uri": "https://localhost:8080/"
        },
        "id": "1kK_mkl7F0zB",
        "outputId": "daa70737-c49e-4e80-e4c2-00e16432e555"
      },
      "outputs": [
        {
          "data": {
            "text/plain": [
              "376"
            ]
          },
          "execution_count": 458,
          "metadata": {},
          "output_type": "execute_result"
        }
      ],
      "source": [
        "data1.duplicated().sum()"
      ]
    },
    {
      "cell_type": "code",
      "execution_count": 459,
      "metadata": {
        "id": "3_Ot-Ug6HBTJ"
      },
      "outputs": [],
      "source": [
        "data1.drop_duplicates(inplace=True)"
      ]
    },
    {
      "cell_type": "code",
      "execution_count": 460,
      "metadata": {
        "colab": {
          "base_uri": "https://localhost:8080/"
        },
        "id": "JijQXPNerQ24",
        "outputId": "2f8c7a50-88e0-432c-b53e-784a63e1cca6"
      },
      "outputs": [
        {
          "data": {
            "text/plain": [
              "(8167, 8)"
            ]
          },
          "execution_count": 460,
          "metadata": {},
          "output_type": "execute_result"
        }
      ],
      "source": [
        "data1.shape"
      ]
    },
    {
      "cell_type": "markdown",
      "metadata": {
        "id": "-IMlD4Pn8KwY"
      },
      "source": [
        "# Menambahkan Kolom Berat Badan Menurut Umur"
      ]
    },
    {
      "cell_type": "markdown",
      "metadata": {
        "id": "PHcFu4UA9Qq0"
      },
      "source": [
        "Berdasarkan Peraturan Menteri Kesehatan Republik Indonesia Nomor 2 Tahun 2020 tentang Standar Antropometri Anak, penilaian status gizi anak dilakukan melalui pemantauan pertumbuhan menggunakan standar yang telah ditetapkan. Untuk anak usia 0 hingga 60 bulan, terdapat tiga indeks utama yang digunakan, yaitu Berat Badan menurut Umur (BB/U), Panjang atau Tinggi Badan menurut Umur (PB/U atau TB/U), dan Berat Badan menurut Panjang atau Tinggi Badan (BB/PB atau BB/TB)."
      ]
    },
    {
      "cell_type": "code",
      "execution_count": 461,
      "metadata": {
        "colab": {
          "base_uri": "https://localhost:8080/",
          "height": 206
        },
        "id": "imMCeifR8P07",
        "outputId": "51d633e5-4ea2-463e-9244-66ed06ce7a2b"
      },
      "outputs": [
        {
          "data": {
            "text/html": [
              "<div>\n",
              "<style scoped>\n",
              "    .dataframe tbody tr th:only-of-type {\n",
              "        vertical-align: middle;\n",
              "    }\n",
              "\n",
              "    .dataframe tbody tr th {\n",
              "        vertical-align: top;\n",
              "    }\n",
              "\n",
              "    .dataframe thead th {\n",
              "        text-align: right;\n",
              "    }\n",
              "</style>\n",
              "<table border=\"1\" class=\"dataframe\">\n",
              "  <thead>\n",
              "    <tr style=\"text-align: right;\">\n",
              "      <th></th>\n",
              "      <th>Month</th>\n",
              "      <th>L</th>\n",
              "      <th>M</th>\n",
              "      <th>S</th>\n",
              "      <th>SD3neg</th>\n",
              "      <th>SD2neg</th>\n",
              "      <th>SD1neg</th>\n",
              "      <th>SD0</th>\n",
              "      <th>SD1</th>\n",
              "      <th>SD2</th>\n",
              "      <th>SD3</th>\n",
              "      <th>Gender</th>\n",
              "    </tr>\n",
              "  </thead>\n",
              "  <tbody>\n",
              "    <tr>\n",
              "      <th>0</th>\n",
              "      <td>0</td>\n",
              "      <td>0.3487</td>\n",
              "      <td>3.3464</td>\n",
              "      <td>0.14602</td>\n",
              "      <td>2.1</td>\n",
              "      <td>2.5</td>\n",
              "      <td>2.9</td>\n",
              "      <td>3.3</td>\n",
              "      <td>3.9</td>\n",
              "      <td>4.4</td>\n",
              "      <td>5.0</td>\n",
              "      <td>male</td>\n",
              "    </tr>\n",
              "    <tr>\n",
              "      <th>1</th>\n",
              "      <td>1</td>\n",
              "      <td>0.2297</td>\n",
              "      <td>4.4709</td>\n",
              "      <td>0.13395</td>\n",
              "      <td>2.9</td>\n",
              "      <td>3.4</td>\n",
              "      <td>3.9</td>\n",
              "      <td>4.5</td>\n",
              "      <td>5.1</td>\n",
              "      <td>5.8</td>\n",
              "      <td>6.6</td>\n",
              "      <td>male</td>\n",
              "    </tr>\n",
              "    <tr>\n",
              "      <th>2</th>\n",
              "      <td>2</td>\n",
              "      <td>0.1970</td>\n",
              "      <td>5.5675</td>\n",
              "      <td>0.12385</td>\n",
              "      <td>3.8</td>\n",
              "      <td>4.3</td>\n",
              "      <td>4.9</td>\n",
              "      <td>5.6</td>\n",
              "      <td>6.3</td>\n",
              "      <td>7.1</td>\n",
              "      <td>8.0</td>\n",
              "      <td>male</td>\n",
              "    </tr>\n",
              "    <tr>\n",
              "      <th>3</th>\n",
              "      <td>3</td>\n",
              "      <td>0.1738</td>\n",
              "      <td>6.3762</td>\n",
              "      <td>0.11727</td>\n",
              "      <td>4.4</td>\n",
              "      <td>5.0</td>\n",
              "      <td>5.7</td>\n",
              "      <td>6.4</td>\n",
              "      <td>7.2</td>\n",
              "      <td>8.0</td>\n",
              "      <td>9.0</td>\n",
              "      <td>male</td>\n",
              "    </tr>\n",
              "    <tr>\n",
              "      <th>4</th>\n",
              "      <td>4</td>\n",
              "      <td>0.1553</td>\n",
              "      <td>7.0023</td>\n",
              "      <td>0.11316</td>\n",
              "      <td>4.9</td>\n",
              "      <td>5.6</td>\n",
              "      <td>6.2</td>\n",
              "      <td>7.0</td>\n",
              "      <td>7.8</td>\n",
              "      <td>8.7</td>\n",
              "      <td>9.7</td>\n",
              "      <td>male</td>\n",
              "    </tr>\n",
              "  </tbody>\n",
              "</table>\n",
              "</div>"
            ],
            "text/plain": [
              "   Month       L       M        S  SD3neg  SD2neg  SD1neg  SD0  SD1  SD2  SD3  \\\n",
              "0      0  0.3487  3.3464  0.14602     2.1     2.5     2.9  3.3  3.9  4.4  5.0   \n",
              "1      1  0.2297  4.4709  0.13395     2.9     3.4     3.9  4.5  5.1  5.8  6.6   \n",
              "2      2  0.1970  5.5675  0.12385     3.8     4.3     4.9  5.6  6.3  7.1  8.0   \n",
              "3      3  0.1738  6.3762  0.11727     4.4     5.0     5.7  6.4  7.2  8.0  9.0   \n",
              "4      4  0.1553  7.0023  0.11316     4.9     5.6     6.2  7.0  7.8  8.7  9.7   \n",
              "\n",
              "  Gender  \n",
              "0   male  \n",
              "1   male  \n",
              "2   male  \n",
              "3   male  \n",
              "4   male  "
            ]
          },
          "execution_count": 461,
          "metadata": {},
          "output_type": "execute_result"
        }
      ],
      "source": [
        "# Membaca data berat badan menurut umur\n",
        "df_bbu = pd.read_csv(r\"D:\\Prediksi Status Gizi\\Dataset\\data berat badan menurut umur versi WHO.csv\")\n",
        "df_bbu.head()"
      ]
    },
    {
      "cell_type": "code",
      "execution_count": 462,
      "metadata": {
        "colab": {
          "base_uri": "https://localhost:8080/",
          "height": 206
        },
        "id": "CDHqG-0CEwWv",
        "outputId": "b873595a-75e0-4bd6-b208-03c9c293405e"
      },
      "outputs": [
        {
          "data": {
            "text/html": [
              "<div>\n",
              "<style scoped>\n",
              "    .dataframe tbody tr th:only-of-type {\n",
              "        vertical-align: middle;\n",
              "    }\n",
              "\n",
              "    .dataframe tbody tr th {\n",
              "        vertical-align: top;\n",
              "    }\n",
              "\n",
              "    .dataframe thead th {\n",
              "        text-align: right;\n",
              "    }\n",
              "</style>\n",
              "<table border=\"1\" class=\"dataframe\">\n",
              "  <thead>\n",
              "    <tr style=\"text-align: right;\">\n",
              "      <th></th>\n",
              "      <th>Gender</th>\n",
              "      <th>Age</th>\n",
              "      <th>Birth Weight</th>\n",
              "      <th>Birth Length</th>\n",
              "      <th>Body Weight</th>\n",
              "      <th>Body Length</th>\n",
              "      <th>Breastfeeding</th>\n",
              "      <th>Status Tinggi Badan</th>\n",
              "    </tr>\n",
              "  </thead>\n",
              "  <tbody>\n",
              "    <tr>\n",
              "      <th>0</th>\n",
              "      <td>male</td>\n",
              "      <td>17</td>\n",
              "      <td>3.0</td>\n",
              "      <td>49</td>\n",
              "      <td>10.0</td>\n",
              "      <td>72.2</td>\n",
              "      <td>No</td>\n",
              "      <td>Sangat pendek</td>\n",
              "    </tr>\n",
              "    <tr>\n",
              "      <th>1</th>\n",
              "      <td>female</td>\n",
              "      <td>11</td>\n",
              "      <td>2.9</td>\n",
              "      <td>49</td>\n",
              "      <td>2.9</td>\n",
              "      <td>65.0</td>\n",
              "      <td>No</td>\n",
              "      <td>Sangat pendek</td>\n",
              "    </tr>\n",
              "    <tr>\n",
              "      <th>2</th>\n",
              "      <td>male</td>\n",
              "      <td>16</td>\n",
              "      <td>2.9</td>\n",
              "      <td>49</td>\n",
              "      <td>8.5</td>\n",
              "      <td>72.2</td>\n",
              "      <td>No</td>\n",
              "      <td>Sangat pendek</td>\n",
              "    </tr>\n",
              "    <tr>\n",
              "      <th>3</th>\n",
              "      <td>male</td>\n",
              "      <td>31</td>\n",
              "      <td>2.8</td>\n",
              "      <td>49</td>\n",
              "      <td>6.4</td>\n",
              "      <td>63.0</td>\n",
              "      <td>No</td>\n",
              "      <td>Sangat pendek</td>\n",
              "    </tr>\n",
              "    <tr>\n",
              "      <th>4</th>\n",
              "      <td>male</td>\n",
              "      <td>15</td>\n",
              "      <td>3.1</td>\n",
              "      <td>49</td>\n",
              "      <td>10.5</td>\n",
              "      <td>49.0</td>\n",
              "      <td>No</td>\n",
              "      <td>Sangat pendek</td>\n",
              "    </tr>\n",
              "  </tbody>\n",
              "</table>\n",
              "</div>"
            ],
            "text/plain": [
              "   Gender  Age  Birth Weight  Birth Length  Body Weight  Body Length  \\\n",
              "0    male   17           3.0            49         10.0         72.2   \n",
              "1  female   11           2.9            49          2.9         65.0   \n",
              "2    male   16           2.9            49          8.5         72.2   \n",
              "3    male   31           2.8            49          6.4         63.0   \n",
              "4    male   15           3.1            49         10.5         49.0   \n",
              "\n",
              "  Breastfeeding Status Tinggi Badan  \n",
              "0            No       Sangat pendek  \n",
              "1            No       Sangat pendek  \n",
              "2            No       Sangat pendek  \n",
              "3            No       Sangat pendek  \n",
              "4            No       Sangat pendek  "
            ]
          },
          "execution_count": 462,
          "metadata": {},
          "output_type": "execute_result"
        }
      ],
      "source": [
        "data1.head()"
      ]
    },
    {
      "cell_type": "code",
      "execution_count": 463,
      "metadata": {
        "id": "2HFZZUYVE4PX"
      },
      "outputs": [],
      "source": [
        "# mengganti nama kolom 'Month' menjadi 'Age' supaya sesuai\n",
        "df_bbu = df_bbu.rename(columns={\"Month\": \"Age\"})"
      ]
    },
    {
      "cell_type": "code",
      "execution_count": 464,
      "metadata": {
        "colab": {
          "base_uri": "https://localhost:8080/",
          "height": 223
        },
        "id": "Iv8poxJ3FX48",
        "outputId": "668510cc-4d44-4905-db02-3f9532c7f0c6"
      },
      "outputs": [
        {
          "data": {
            "text/html": [
              "<div>\n",
              "<style scoped>\n",
              "    .dataframe tbody tr th:only-of-type {\n",
              "        vertical-align: middle;\n",
              "    }\n",
              "\n",
              "    .dataframe tbody tr th {\n",
              "        vertical-align: top;\n",
              "    }\n",
              "\n",
              "    .dataframe thead th {\n",
              "        text-align: right;\n",
              "    }\n",
              "</style>\n",
              "<table border=\"1\" class=\"dataframe\">\n",
              "  <thead>\n",
              "    <tr style=\"text-align: right;\">\n",
              "      <th></th>\n",
              "      <th>Gender</th>\n",
              "      <th>Age</th>\n",
              "      <th>Birth Weight</th>\n",
              "      <th>Birth Length</th>\n",
              "      <th>Body Weight</th>\n",
              "      <th>Body Length</th>\n",
              "      <th>Breastfeeding</th>\n",
              "      <th>Status Tinggi Badan</th>\n",
              "      <th>SD1neg</th>\n",
              "      <th>SD0</th>\n",
              "      <th>SD1</th>\n",
              "    </tr>\n",
              "  </thead>\n",
              "  <tbody>\n",
              "    <tr>\n",
              "      <th>0</th>\n",
              "      <td>male</td>\n",
              "      <td>17</td>\n",
              "      <td>3.0</td>\n",
              "      <td>49</td>\n",
              "      <td>10.0</td>\n",
              "      <td>72.2</td>\n",
              "      <td>No</td>\n",
              "      <td>Sangat pendek</td>\n",
              "      <td>9.6</td>\n",
              "      <td>10.7</td>\n",
              "      <td>12.0</td>\n",
              "    </tr>\n",
              "    <tr>\n",
              "      <th>1</th>\n",
              "      <td>female</td>\n",
              "      <td>11</td>\n",
              "      <td>2.9</td>\n",
              "      <td>49</td>\n",
              "      <td>2.9</td>\n",
              "      <td>65.0</td>\n",
              "      <td>No</td>\n",
              "      <td>Sangat pendek</td>\n",
              "      <td>7.7</td>\n",
              "      <td>8.7</td>\n",
              "      <td>9.9</td>\n",
              "    </tr>\n",
              "    <tr>\n",
              "      <th>2</th>\n",
              "      <td>male</td>\n",
              "      <td>16</td>\n",
              "      <td>2.9</td>\n",
              "      <td>49</td>\n",
              "      <td>8.5</td>\n",
              "      <td>72.2</td>\n",
              "      <td>No</td>\n",
              "      <td>Sangat pendek</td>\n",
              "      <td>9.4</td>\n",
              "      <td>10.5</td>\n",
              "      <td>11.7</td>\n",
              "    </tr>\n",
              "    <tr>\n",
              "      <th>3</th>\n",
              "      <td>male</td>\n",
              "      <td>31</td>\n",
              "      <td>2.8</td>\n",
              "      <td>49</td>\n",
              "      <td>6.4</td>\n",
              "      <td>63.0</td>\n",
              "      <td>No</td>\n",
              "      <td>Sangat pendek</td>\n",
              "      <td>12.0</td>\n",
              "      <td>13.5</td>\n",
              "      <td>15.2</td>\n",
              "    </tr>\n",
              "    <tr>\n",
              "      <th>4</th>\n",
              "      <td>male</td>\n",
              "      <td>15</td>\n",
              "      <td>3.1</td>\n",
              "      <td>49</td>\n",
              "      <td>10.5</td>\n",
              "      <td>49.0</td>\n",
              "      <td>No</td>\n",
              "      <td>Sangat pendek</td>\n",
              "      <td>9.2</td>\n",
              "      <td>10.3</td>\n",
              "      <td>11.5</td>\n",
              "    </tr>\n",
              "  </tbody>\n",
              "</table>\n",
              "</div>"
            ],
            "text/plain": [
              "   Gender  Age  Birth Weight  Birth Length  Body Weight  Body Length  \\\n",
              "0    male   17           3.0            49         10.0         72.2   \n",
              "1  female   11           2.9            49          2.9         65.0   \n",
              "2    male   16           2.9            49          8.5         72.2   \n",
              "3    male   31           2.8            49          6.4         63.0   \n",
              "4    male   15           3.1            49         10.5         49.0   \n",
              "\n",
              "  Breastfeeding Status Tinggi Badan  SD1neg   SD0   SD1  \n",
              "0            No       Sangat pendek     9.6  10.7  12.0  \n",
              "1            No       Sangat pendek     7.7   8.7   9.9  \n",
              "2            No       Sangat pendek     9.4  10.5  11.7  \n",
              "3            No       Sangat pendek    12.0  13.5  15.2  \n",
              "4            No       Sangat pendek     9.2  10.3  11.5  "
            ]
          },
          "execution_count": 464,
          "metadata": {},
          "output_type": "execute_result"
        }
      ],
      "source": [
        "# Menambahkan kolom SD1neg,\n",
        "data1 = data1.merge(\n",
        "    df_bbu[[\"Age\", \"Gender\", \"SD1neg\", \"SD0\", \"SD1\"]],\n",
        "    on=[\"Age\", \"Gender\"],\n",
        "    how=\"left\") # Menggunakan left join agar data asli df tetap utuh\n",
        "data1.head()"
      ]
    },
    {
      "cell_type": "code",
      "execution_count": 465,
      "metadata": {
        "colab": {
          "base_uri": "https://localhost:8080/",
          "height": 429
        },
        "id": "B6Rc5bfEFhni",
        "outputId": "72c38381-763f-48ec-ef3e-6d92b1fa18fc"
      },
      "outputs": [
        {
          "data": {
            "text/plain": [
              "Gender                 0\n",
              "Age                    0\n",
              "Birth Weight           0\n",
              "Birth Length           0\n",
              "Body Weight            0\n",
              "Body Length            0\n",
              "Breastfeeding          0\n",
              "Status Tinggi Badan    0\n",
              "SD1neg                 0\n",
              "SD0                    0\n",
              "SD1                    0\n",
              "dtype: int64"
            ]
          },
          "execution_count": 465,
          "metadata": {},
          "output_type": "execute_result"
        }
      ],
      "source": [
        "data1.isnull().sum()"
      ]
    },
    {
      "cell_type": "code",
      "execution_count": 466,
      "metadata": {
        "colab": {
          "base_uri": "https://localhost:8080/"
        },
        "id": "KQXBU7sFFl4b",
        "outputId": "9910341b-aac3-436e-8e4f-4ca363c6a1c1"
      },
      "outputs": [
        {
          "data": {
            "text/plain": [
              "0"
            ]
          },
          "execution_count": 466,
          "metadata": {},
          "output_type": "execute_result"
        }
      ],
      "source": [
        "data1.duplicated().sum()"
      ]
    },
    {
      "cell_type": "code",
      "execution_count": 467,
      "metadata": {
        "colab": {
          "base_uri": "https://localhost:8080/",
          "height": 327
        },
        "id": "Vn7bT9nvHJ-V",
        "outputId": "b3e9bcd4-8145-406c-ec12-633a97e7cc96"
      },
      "outputs": [
        {
          "data": {
            "text/html": [
              "<div>\n",
              "<style scoped>\n",
              "    .dataframe tbody tr th:only-of-type {\n",
              "        vertical-align: middle;\n",
              "    }\n",
              "\n",
              "    .dataframe tbody tr th {\n",
              "        vertical-align: top;\n",
              "    }\n",
              "\n",
              "    .dataframe thead th {\n",
              "        text-align: right;\n",
              "    }\n",
              "</style>\n",
              "<table border=\"1\" class=\"dataframe\">\n",
              "  <thead>\n",
              "    <tr style=\"text-align: right;\">\n",
              "      <th></th>\n",
              "      <th>Gender</th>\n",
              "      <th>Age</th>\n",
              "      <th>Birth Weight</th>\n",
              "      <th>Birth Length</th>\n",
              "      <th>Body Weight</th>\n",
              "      <th>Body Length</th>\n",
              "      <th>Breastfeeding</th>\n",
              "      <th>Status Tinggi Badan</th>\n",
              "      <th>SD1neg</th>\n",
              "      <th>SD0</th>\n",
              "      <th>SD1</th>\n",
              "      <th>Z_Score_bb_u</th>\n",
              "    </tr>\n",
              "  </thead>\n",
              "  <tbody>\n",
              "    <tr>\n",
              "      <th>0</th>\n",
              "      <td>male</td>\n",
              "      <td>17</td>\n",
              "      <td>3.0</td>\n",
              "      <td>49</td>\n",
              "      <td>10.0</td>\n",
              "      <td>72.2</td>\n",
              "      <td>No</td>\n",
              "      <td>Sangat pendek</td>\n",
              "      <td>9.6</td>\n",
              "      <td>10.7</td>\n",
              "      <td>12.0</td>\n",
              "      <td>-0.636364</td>\n",
              "    </tr>\n",
              "    <tr>\n",
              "      <th>1</th>\n",
              "      <td>female</td>\n",
              "      <td>11</td>\n",
              "      <td>2.9</td>\n",
              "      <td>49</td>\n",
              "      <td>2.9</td>\n",
              "      <td>65.0</td>\n",
              "      <td>No</td>\n",
              "      <td>Sangat pendek</td>\n",
              "      <td>7.7</td>\n",
              "      <td>8.7</td>\n",
              "      <td>9.9</td>\n",
              "      <td>-5.800000</td>\n",
              "    </tr>\n",
              "    <tr>\n",
              "      <th>2</th>\n",
              "      <td>male</td>\n",
              "      <td>16</td>\n",
              "      <td>2.9</td>\n",
              "      <td>49</td>\n",
              "      <td>8.5</td>\n",
              "      <td>72.2</td>\n",
              "      <td>No</td>\n",
              "      <td>Sangat pendek</td>\n",
              "      <td>9.4</td>\n",
              "      <td>10.5</td>\n",
              "      <td>11.7</td>\n",
              "      <td>-1.818182</td>\n",
              "    </tr>\n",
              "    <tr>\n",
              "      <th>3</th>\n",
              "      <td>male</td>\n",
              "      <td>31</td>\n",
              "      <td>2.8</td>\n",
              "      <td>49</td>\n",
              "      <td>6.4</td>\n",
              "      <td>63.0</td>\n",
              "      <td>No</td>\n",
              "      <td>Sangat pendek</td>\n",
              "      <td>12.0</td>\n",
              "      <td>13.5</td>\n",
              "      <td>15.2</td>\n",
              "      <td>-4.733333</td>\n",
              "    </tr>\n",
              "    <tr>\n",
              "      <th>4</th>\n",
              "      <td>male</td>\n",
              "      <td>15</td>\n",
              "      <td>3.1</td>\n",
              "      <td>49</td>\n",
              "      <td>10.5</td>\n",
              "      <td>49.0</td>\n",
              "      <td>No</td>\n",
              "      <td>Sangat pendek</td>\n",
              "      <td>9.2</td>\n",
              "      <td>10.3</td>\n",
              "      <td>11.5</td>\n",
              "      <td>0.166667</td>\n",
              "    </tr>\n",
              "  </tbody>\n",
              "</table>\n",
              "</div>"
            ],
            "text/plain": [
              "   Gender  Age  Birth Weight  Birth Length  Body Weight  Body Length  \\\n",
              "0    male   17           3.0            49         10.0         72.2   \n",
              "1  female   11           2.9            49          2.9         65.0   \n",
              "2    male   16           2.9            49          8.5         72.2   \n",
              "3    male   31           2.8            49          6.4         63.0   \n",
              "4    male   15           3.1            49         10.5         49.0   \n",
              "\n",
              "  Breastfeeding Status Tinggi Badan  SD1neg   SD0   SD1  Z_Score_bb_u  \n",
              "0            No       Sangat pendek     9.6  10.7  12.0     -0.636364  \n",
              "1            No       Sangat pendek     7.7   8.7   9.9     -5.800000  \n",
              "2            No       Sangat pendek     9.4  10.5  11.7     -1.818182  \n",
              "3            No       Sangat pendek    12.0  13.5  15.2     -4.733333  \n",
              "4            No       Sangat pendek     9.2  10.3  11.5      0.166667  "
            ]
          },
          "execution_count": 467,
          "metadata": {},
          "output_type": "execute_result"
        }
      ],
      "source": [
        "# Membuat kolom z-score status berat badan menurut umur\n",
        "def calculate_z_score(body_weight, median, minus1sd, plus1sd):\n",
        "    if body_weight < median:\n",
        "        z_score = (body_weight - median) / (median - minus1sd)\n",
        "    else:\n",
        "        z_score = (body_weight - median) / (plus1sd - median)\n",
        "    return z_score\n",
        "\n",
        "data1['Z_Score_bb_u'] = data1.apply(\n",
        "    lambda row: calculate_z_score(row['Body Weight'], row['SD0'], row['SD1neg'], row['SD1']),\n",
        "    axis=1\n",
        ")\n",
        "\n",
        "data1.head()"
      ]
    },
    {
      "cell_type": "code",
      "execution_count": 468,
      "metadata": {
        "colab": {
          "base_uri": "https://localhost:8080/",
          "height": 460
        },
        "id": "yOm5-BeKrYVx",
        "outputId": "633ee67e-ebbf-4281-e366-4b22e8d3ffb0"
      },
      "outputs": [
        {
          "data": {
            "text/plain": [
              "Gender                 0\n",
              "Age                    0\n",
              "Birth Weight           0\n",
              "Birth Length           0\n",
              "Body Weight            0\n",
              "Body Length            0\n",
              "Breastfeeding          0\n",
              "Status Tinggi Badan    0\n",
              "SD1neg                 0\n",
              "SD0                    0\n",
              "SD1                    0\n",
              "Z_Score_bb_u           0\n",
              "dtype: int64"
            ]
          },
          "execution_count": 468,
          "metadata": {},
          "output_type": "execute_result"
        }
      ],
      "source": [
        "data1.isnull().sum()"
      ]
    },
    {
      "cell_type": "code",
      "execution_count": 469,
      "metadata": {
        "colab": {
          "base_uri": "https://localhost:8080/"
        },
        "id": "UA-b-Ax2reNz",
        "outputId": "a9c05d12-b304-4419-d939-1ed2517b8fee"
      },
      "outputs": [
        {
          "data": {
            "text/plain": [
              "0"
            ]
          },
          "execution_count": 469,
          "metadata": {},
          "output_type": "execute_result"
        }
      ],
      "source": [
        "data1.duplicated().sum()"
      ]
    },
    {
      "cell_type": "code",
      "execution_count": 470,
      "metadata": {
        "colab": {
          "base_uri": "https://localhost:8080/",
          "height": 469
        },
        "id": "IoZ0GuXdHPUN",
        "outputId": "bebf185a-635e-4819-8db3-9b51855b5240"
      },
      "outputs": [
        {
          "data": {
            "text/html": [
              "<div>\n",
              "<style scoped>\n",
              "    .dataframe tbody tr th:only-of-type {\n",
              "        vertical-align: middle;\n",
              "    }\n",
              "\n",
              "    .dataframe tbody tr th {\n",
              "        vertical-align: top;\n",
              "    }\n",
              "\n",
              "    .dataframe thead th {\n",
              "        text-align: right;\n",
              "    }\n",
              "</style>\n",
              "<table border=\"1\" class=\"dataframe\">\n",
              "  <thead>\n",
              "    <tr style=\"text-align: right;\">\n",
              "      <th></th>\n",
              "      <th>Gender</th>\n",
              "      <th>Age</th>\n",
              "      <th>Birth Weight</th>\n",
              "      <th>Birth Length</th>\n",
              "      <th>Body Weight</th>\n",
              "      <th>Body Length</th>\n",
              "      <th>Breastfeeding</th>\n",
              "      <th>Status Tinggi Badan</th>\n",
              "      <th>SD1neg</th>\n",
              "      <th>SD0</th>\n",
              "      <th>SD1</th>\n",
              "      <th>Z_Score_bb_u</th>\n",
              "      <th>Status Berat Badan</th>\n",
              "    </tr>\n",
              "  </thead>\n",
              "  <tbody>\n",
              "    <tr>\n",
              "      <th>0</th>\n",
              "      <td>male</td>\n",
              "      <td>17</td>\n",
              "      <td>3.0</td>\n",
              "      <td>49</td>\n",
              "      <td>10.0</td>\n",
              "      <td>72.2</td>\n",
              "      <td>No</td>\n",
              "      <td>Sangat pendek</td>\n",
              "      <td>9.6</td>\n",
              "      <td>10.7</td>\n",
              "      <td>12.0</td>\n",
              "      <td>-0.636364</td>\n",
              "      <td>Berat badan normal</td>\n",
              "    </tr>\n",
              "    <tr>\n",
              "      <th>1</th>\n",
              "      <td>female</td>\n",
              "      <td>11</td>\n",
              "      <td>2.9</td>\n",
              "      <td>49</td>\n",
              "      <td>2.9</td>\n",
              "      <td>65.0</td>\n",
              "      <td>No</td>\n",
              "      <td>Sangat pendek</td>\n",
              "      <td>7.7</td>\n",
              "      <td>8.7</td>\n",
              "      <td>9.9</td>\n",
              "      <td>-5.800000</td>\n",
              "      <td>Berat badan sangat kurang</td>\n",
              "    </tr>\n",
              "    <tr>\n",
              "      <th>2</th>\n",
              "      <td>male</td>\n",
              "      <td>16</td>\n",
              "      <td>2.9</td>\n",
              "      <td>49</td>\n",
              "      <td>8.5</td>\n",
              "      <td>72.2</td>\n",
              "      <td>No</td>\n",
              "      <td>Sangat pendek</td>\n",
              "      <td>9.4</td>\n",
              "      <td>10.5</td>\n",
              "      <td>11.7</td>\n",
              "      <td>-1.818182</td>\n",
              "      <td>Berat badan normal</td>\n",
              "    </tr>\n",
              "    <tr>\n",
              "      <th>3</th>\n",
              "      <td>male</td>\n",
              "      <td>31</td>\n",
              "      <td>2.8</td>\n",
              "      <td>49</td>\n",
              "      <td>6.4</td>\n",
              "      <td>63.0</td>\n",
              "      <td>No</td>\n",
              "      <td>Sangat pendek</td>\n",
              "      <td>12.0</td>\n",
              "      <td>13.5</td>\n",
              "      <td>15.2</td>\n",
              "      <td>-4.733333</td>\n",
              "      <td>Berat badan sangat kurang</td>\n",
              "    </tr>\n",
              "    <tr>\n",
              "      <th>4</th>\n",
              "      <td>male</td>\n",
              "      <td>15</td>\n",
              "      <td>3.1</td>\n",
              "      <td>49</td>\n",
              "      <td>10.5</td>\n",
              "      <td>49.0</td>\n",
              "      <td>No</td>\n",
              "      <td>Sangat pendek</td>\n",
              "      <td>9.2</td>\n",
              "      <td>10.3</td>\n",
              "      <td>11.5</td>\n",
              "      <td>0.166667</td>\n",
              "      <td>Berat badan normal</td>\n",
              "    </tr>\n",
              "  </tbody>\n",
              "</table>\n",
              "</div>"
            ],
            "text/plain": [
              "   Gender  Age  Birth Weight  Birth Length  Body Weight  Body Length  \\\n",
              "0    male   17           3.0            49         10.0         72.2   \n",
              "1  female   11           2.9            49          2.9         65.0   \n",
              "2    male   16           2.9            49          8.5         72.2   \n",
              "3    male   31           2.8            49          6.4         63.0   \n",
              "4    male   15           3.1            49         10.5         49.0   \n",
              "\n",
              "  Breastfeeding Status Tinggi Badan  SD1neg   SD0   SD1  Z_Score_bb_u  \\\n",
              "0            No       Sangat pendek     9.6  10.7  12.0     -0.636364   \n",
              "1            No       Sangat pendek     7.7   8.7   9.9     -5.800000   \n",
              "2            No       Sangat pendek     9.4  10.5  11.7     -1.818182   \n",
              "3            No       Sangat pendek    12.0  13.5  15.2     -4.733333   \n",
              "4            No       Sangat pendek     9.2  10.3  11.5      0.166667   \n",
              "\n",
              "          Status Berat Badan  \n",
              "0         Berat badan normal  \n",
              "1  Berat badan sangat kurang  \n",
              "2         Berat badan normal  \n",
              "3  Berat badan sangat kurang  \n",
              "4         Berat badan normal  "
            ]
          },
          "execution_count": 470,
          "metadata": {},
          "output_type": "execute_result"
        }
      ],
      "source": [
        "# Membuat kolom status berat badan\n",
        "def get_categorizeBBU(value):\n",
        "    if value < -3:\n",
        "        return \"Berat badan sangat kurang\"\n",
        "    elif -3 <= value < -2:\n",
        "        return \"Berat badan kurang\"\n",
        "    elif -2 <= value <= 1:\n",
        "        return \"Berat badan normal\"\n",
        "    elif value > 1:\n",
        "        return \"Risiko berat badan lebih\"\n",
        "    else:\n",
        "        return None\n",
        "\n",
        "data1['Status Berat Badan'] = data1['Z_Score_bb_u'].apply(get_categorizeBBU)\n",
        "data1.head()"
      ]
    },
    {
      "cell_type": "code",
      "execution_count": 471,
      "metadata": {
        "colab": {
          "base_uri": "https://localhost:8080/",
          "height": 491
        },
        "id": "zYJlIAb3rjb4",
        "outputId": "e041f381-4d1d-4742-b98b-3ec131e9d09f"
      },
      "outputs": [
        {
          "data": {
            "text/plain": [
              "Gender                 0\n",
              "Age                    0\n",
              "Birth Weight           0\n",
              "Birth Length           0\n",
              "Body Weight            0\n",
              "Body Length            0\n",
              "Breastfeeding          0\n",
              "Status Tinggi Badan    0\n",
              "SD1neg                 0\n",
              "SD0                    0\n",
              "SD1                    0\n",
              "Z_Score_bb_u           0\n",
              "Status Berat Badan     0\n",
              "dtype: int64"
            ]
          },
          "execution_count": 471,
          "metadata": {},
          "output_type": "execute_result"
        }
      ],
      "source": [
        "data1.isnull().sum()"
      ]
    },
    {
      "cell_type": "code",
      "execution_count": 472,
      "metadata": {
        "colab": {
          "base_uri": "https://localhost:8080/"
        },
        "id": "saNYDN50rnCW",
        "outputId": "0de22993-1364-49c7-f69c-ff444f8fc6aa"
      },
      "outputs": [
        {
          "data": {
            "text/plain": [
              "0"
            ]
          },
          "execution_count": 472,
          "metadata": {},
          "output_type": "execute_result"
        }
      ],
      "source": [
        "data1.duplicated().sum()"
      ]
    },
    {
      "cell_type": "code",
      "execution_count": 473,
      "metadata": {
        "colab": {
          "base_uri": "https://localhost:8080/",
          "height": 310
        },
        "id": "QKGSe3c-IIoV",
        "outputId": "defa5b92-fb17-4cb6-b196-3d6be0621034"
      },
      "outputs": [
        {
          "data": {
            "text/html": [
              "<div>\n",
              "<style scoped>\n",
              "    .dataframe tbody tr th:only-of-type {\n",
              "        vertical-align: middle;\n",
              "    }\n",
              "\n",
              "    .dataframe tbody tr th {\n",
              "        vertical-align: top;\n",
              "    }\n",
              "\n",
              "    .dataframe thead th {\n",
              "        text-align: right;\n",
              "    }\n",
              "</style>\n",
              "<table border=\"1\" class=\"dataframe\">\n",
              "  <thead>\n",
              "    <tr style=\"text-align: right;\">\n",
              "      <th></th>\n",
              "      <th>Gender</th>\n",
              "      <th>Age</th>\n",
              "      <th>Birth Weight</th>\n",
              "      <th>Birth Length</th>\n",
              "      <th>Body Weight</th>\n",
              "      <th>Body Length</th>\n",
              "      <th>Breastfeeding</th>\n",
              "      <th>Status Tinggi Badan</th>\n",
              "      <th>Status Berat Badan</th>\n",
              "    </tr>\n",
              "  </thead>\n",
              "  <tbody>\n",
              "    <tr>\n",
              "      <th>0</th>\n",
              "      <td>male</td>\n",
              "      <td>17</td>\n",
              "      <td>3.0</td>\n",
              "      <td>49</td>\n",
              "      <td>10.0</td>\n",
              "      <td>72.2</td>\n",
              "      <td>No</td>\n",
              "      <td>Sangat pendek</td>\n",
              "      <td>Berat badan normal</td>\n",
              "    </tr>\n",
              "    <tr>\n",
              "      <th>1</th>\n",
              "      <td>female</td>\n",
              "      <td>11</td>\n",
              "      <td>2.9</td>\n",
              "      <td>49</td>\n",
              "      <td>2.9</td>\n",
              "      <td>65.0</td>\n",
              "      <td>No</td>\n",
              "      <td>Sangat pendek</td>\n",
              "      <td>Berat badan sangat kurang</td>\n",
              "    </tr>\n",
              "    <tr>\n",
              "      <th>2</th>\n",
              "      <td>male</td>\n",
              "      <td>16</td>\n",
              "      <td>2.9</td>\n",
              "      <td>49</td>\n",
              "      <td>8.5</td>\n",
              "      <td>72.2</td>\n",
              "      <td>No</td>\n",
              "      <td>Sangat pendek</td>\n",
              "      <td>Berat badan normal</td>\n",
              "    </tr>\n",
              "    <tr>\n",
              "      <th>3</th>\n",
              "      <td>male</td>\n",
              "      <td>31</td>\n",
              "      <td>2.8</td>\n",
              "      <td>49</td>\n",
              "      <td>6.4</td>\n",
              "      <td>63.0</td>\n",
              "      <td>No</td>\n",
              "      <td>Sangat pendek</td>\n",
              "      <td>Berat badan sangat kurang</td>\n",
              "    </tr>\n",
              "    <tr>\n",
              "      <th>4</th>\n",
              "      <td>male</td>\n",
              "      <td>15</td>\n",
              "      <td>3.1</td>\n",
              "      <td>49</td>\n",
              "      <td>10.5</td>\n",
              "      <td>49.0</td>\n",
              "      <td>No</td>\n",
              "      <td>Sangat pendek</td>\n",
              "      <td>Berat badan normal</td>\n",
              "    </tr>\n",
              "  </tbody>\n",
              "</table>\n",
              "</div>"
            ],
            "text/plain": [
              "   Gender  Age  Birth Weight  Birth Length  Body Weight  Body Length  \\\n",
              "0    male   17           3.0            49         10.0         72.2   \n",
              "1  female   11           2.9            49          2.9         65.0   \n",
              "2    male   16           2.9            49          8.5         72.2   \n",
              "3    male   31           2.8            49          6.4         63.0   \n",
              "4    male   15           3.1            49         10.5         49.0   \n",
              "\n",
              "  Breastfeeding Status Tinggi Badan         Status Berat Badan  \n",
              "0            No       Sangat pendek         Berat badan normal  \n",
              "1            No       Sangat pendek  Berat badan sangat kurang  \n",
              "2            No       Sangat pendek         Berat badan normal  \n",
              "3            No       Sangat pendek  Berat badan sangat kurang  \n",
              "4            No       Sangat pendek         Berat badan normal  "
            ]
          },
          "execution_count": 473,
          "metadata": {},
          "output_type": "execute_result"
        }
      ],
      "source": [
        "# Menghapus kolom-kolom yang tidak diperlukan\n",
        "data1 = data1.drop(columns=[\"SD1neg\", \"SD0\", \"SD1\", \"Z_Score_bb_u\"])\n",
        "data1.head()"
      ]
    },
    {
      "cell_type": "code",
      "execution_count": 474,
      "metadata": {
        "colab": {
          "base_uri": "https://localhost:8080/",
          "height": 366
        },
        "id": "5Q97XSMIIMcD",
        "outputId": "e08ce2fc-13d4-40f3-b0c8-896526f1b366"
      },
      "outputs": [
        {
          "data": {
            "text/plain": [
              "Gender                 0\n",
              "Age                    0\n",
              "Birth Weight           0\n",
              "Birth Length           0\n",
              "Body Weight            0\n",
              "Body Length            0\n",
              "Breastfeeding          0\n",
              "Status Tinggi Badan    0\n",
              "Status Berat Badan     0\n",
              "dtype: int64"
            ]
          },
          "execution_count": 474,
          "metadata": {},
          "output_type": "execute_result"
        }
      ],
      "source": [
        "data1.isnull().sum()"
      ]
    },
    {
      "cell_type": "code",
      "execution_count": 475,
      "metadata": {
        "colab": {
          "base_uri": "https://localhost:8080/"
        },
        "id": "E2m8K958IWo2",
        "outputId": "25e125a3-34ae-4aff-ac6e-be51f16d806c"
      },
      "outputs": [
        {
          "data": {
            "text/plain": [
              "0"
            ]
          },
          "execution_count": 475,
          "metadata": {},
          "output_type": "execute_result"
        }
      ],
      "source": [
        "data1.duplicated().sum()"
      ]
    },
    {
      "cell_type": "code",
      "execution_count": 476,
      "metadata": {
        "colab": {
          "base_uri": "https://localhost:8080/"
        },
        "id": "LwzzT3c7IaIx",
        "outputId": "9d13687d-648d-4b5e-da74-910b797feda1"
      },
      "outputs": [
        {
          "data": {
            "text/plain": [
              "(8167, 9)"
            ]
          },
          "execution_count": 476,
          "metadata": {},
          "output_type": "execute_result"
        }
      ],
      "source": [
        "data1.shape"
      ]
    },
    {
      "cell_type": "markdown",
      "metadata": {
        "id": "l4QABpTPIeEk"
      },
      "source": [
        "# Menambahkan Kolom Berat Badan Menurut Tinggi Badan"
      ]
    },
    {
      "cell_type": "code",
      "execution_count": 477,
      "metadata": {
        "colab": {
          "base_uri": "https://localhost:8080/",
          "height": 399
        },
        "id": "BIjC2kDFIpcp",
        "outputId": "9c0ae25e-d617-4d79-cd2a-141b33865c4b"
      },
      "outputs": [
        {
          "data": {
            "text/html": [
              "<div>\n",
              "<style scoped>\n",
              "    .dataframe tbody tr th:only-of-type {\n",
              "        vertical-align: middle;\n",
              "    }\n",
              "\n",
              "    .dataframe tbody tr th {\n",
              "        vertical-align: top;\n",
              "    }\n",
              "\n",
              "    .dataframe thead th {\n",
              "        text-align: right;\n",
              "    }\n",
              "</style>\n",
              "<table border=\"1\" class=\"dataframe\">\n",
              "  <thead>\n",
              "    <tr style=\"text-align: right;\">\n",
              "      <th></th>\n",
              "      <th>Height</th>\n",
              "      <th>L</th>\n",
              "      <th>M</th>\n",
              "      <th>S</th>\n",
              "      <th>SD4neg</th>\n",
              "      <th>SD3neg</th>\n",
              "      <th>SD2neg</th>\n",
              "      <th>SD1neg</th>\n",
              "      <th>SD0</th>\n",
              "      <th>SD1</th>\n",
              "      <th>SD2</th>\n",
              "      <th>SD3</th>\n",
              "      <th>SD4</th>\n",
              "      <th>Gender</th>\n",
              "      <th>Note</th>\n",
              "    </tr>\n",
              "  </thead>\n",
              "  <tbody>\n",
              "    <tr>\n",
              "      <th>0</th>\n",
              "      <td>45.0</td>\n",
              "      <td>-0.3521</td>\n",
              "      <td>2.4410</td>\n",
              "      <td>0.09182</td>\n",
              "      <td>1.710</td>\n",
              "      <td>1.877</td>\n",
              "      <td>2.043</td>\n",
              "      <td>2.230</td>\n",
              "      <td>2.441</td>\n",
              "      <td>2.680</td>\n",
              "      <td>2.951</td>\n",
              "      <td>3.261</td>\n",
              "      <td>3.571</td>\n",
              "      <td>male</td>\n",
              "      <td>Under 2 years</td>\n",
              "    </tr>\n",
              "    <tr>\n",
              "      <th>1</th>\n",
              "      <td>45.1</td>\n",
              "      <td>-0.3521</td>\n",
              "      <td>2.4577</td>\n",
              "      <td>0.09176</td>\n",
              "      <td>1.722</td>\n",
              "      <td>1.890</td>\n",
              "      <td>2.057</td>\n",
              "      <td>2.245</td>\n",
              "      <td>2.458</td>\n",
              "      <td>2.698</td>\n",
              "      <td>2.971</td>\n",
              "      <td>3.283</td>\n",
              "      <td>3.595</td>\n",
              "      <td>male</td>\n",
              "      <td>Under 2 years</td>\n",
              "    </tr>\n",
              "    <tr>\n",
              "      <th>2</th>\n",
              "      <td>45.2</td>\n",
              "      <td>-0.3521</td>\n",
              "      <td>2.4744</td>\n",
              "      <td>0.09170</td>\n",
              "      <td>1.734</td>\n",
              "      <td>1.903</td>\n",
              "      <td>2.072</td>\n",
              "      <td>2.261</td>\n",
              "      <td>2.474</td>\n",
              "      <td>2.716</td>\n",
              "      <td>2.991</td>\n",
              "      <td>3.305</td>\n",
              "      <td>3.618</td>\n",
              "      <td>male</td>\n",
              "      <td>Under 2 years</td>\n",
              "    </tr>\n",
              "    <tr>\n",
              "      <th>3</th>\n",
              "      <td>45.3</td>\n",
              "      <td>-0.3521</td>\n",
              "      <td>2.4911</td>\n",
              "      <td>0.09164</td>\n",
              "      <td>1.747</td>\n",
              "      <td>1.916</td>\n",
              "      <td>2.086</td>\n",
              "      <td>2.276</td>\n",
              "      <td>2.491</td>\n",
              "      <td>2.734</td>\n",
              "      <td>3.011</td>\n",
              "      <td>3.326</td>\n",
              "      <td>3.642</td>\n",
              "      <td>male</td>\n",
              "      <td>Under 2 years</td>\n",
              "    </tr>\n",
              "    <tr>\n",
              "      <th>4</th>\n",
              "      <td>45.4</td>\n",
              "      <td>-0.3521</td>\n",
              "      <td>2.5078</td>\n",
              "      <td>0.09159</td>\n",
              "      <td>1.759</td>\n",
              "      <td>1.929</td>\n",
              "      <td>2.100</td>\n",
              "      <td>2.292</td>\n",
              "      <td>2.508</td>\n",
              "      <td>2.752</td>\n",
              "      <td>3.031</td>\n",
              "      <td>3.348</td>\n",
              "      <td>3.666</td>\n",
              "      <td>male</td>\n",
              "      <td>Under 2 years</td>\n",
              "    </tr>\n",
              "  </tbody>\n",
              "</table>\n",
              "</div>"
            ],
            "text/plain": [
              "   Height       L       M        S  SD4neg  SD3neg  SD2neg  SD1neg    SD0  \\\n",
              "0    45.0 -0.3521  2.4410  0.09182   1.710   1.877   2.043   2.230  2.441   \n",
              "1    45.1 -0.3521  2.4577  0.09176   1.722   1.890   2.057   2.245  2.458   \n",
              "2    45.2 -0.3521  2.4744  0.09170   1.734   1.903   2.072   2.261  2.474   \n",
              "3    45.3 -0.3521  2.4911  0.09164   1.747   1.916   2.086   2.276  2.491   \n",
              "4    45.4 -0.3521  2.5078  0.09159   1.759   1.929   2.100   2.292  2.508   \n",
              "\n",
              "     SD1    SD2    SD3    SD4 Gender           Note  \n",
              "0  2.680  2.951  3.261  3.571   male  Under 2 years  \n",
              "1  2.698  2.971  3.283  3.595   male  Under 2 years  \n",
              "2  2.716  2.991  3.305  3.618   male  Under 2 years  \n",
              "3  2.734  3.011  3.326  3.642   male  Under 2 years  \n",
              "4  2.752  3.031  3.348  3.666   male  Under 2 years  "
            ]
          },
          "execution_count": 477,
          "metadata": {},
          "output_type": "execute_result"
        }
      ],
      "source": [
        "# Membaca data berat badan menurut tinggi badan\n",
        "df_bbtb = pd.read_csv(r\"D:\\Prediksi Status Gizi\\Dataset\\data berat badan menurut tinggi badan versi WHO.csv\")\n",
        "df_bbtb.head()"
      ]
    },
    {
      "cell_type": "code",
      "execution_count": 478,
      "metadata": {
        "colab": {
          "base_uri": "https://localhost:8080/"
        },
        "id": "0Ot2j5rjJBSR",
        "outputId": "4fcef88c-1f76-4402-dae4-fe5b96c84877"
      },
      "outputs": [
        {
          "name": "stdout",
          "output_type": "stream",
          "text": [
            "      Height       L        M        S  SD4neg  SD3neg  SD2neg  SD1neg  \\\n",
            "0       45.0 -0.3521   2.4410  0.09182   1.710   1.877   2.043   2.230   \n",
            "1       45.1 -0.3521   2.4577  0.09176   1.722   1.890   2.057   2.245   \n",
            "2       45.2 -0.3521   2.4744  0.09170   1.734   1.903   2.072   2.261   \n",
            "3       45.3 -0.3521   2.4911  0.09164   1.747   1.916   2.086   2.276   \n",
            "4       45.4 -0.3521   2.5078  0.09159   1.759   1.929   2.100   2.292   \n",
            "...      ...     ...      ...      ...     ...     ...     ...     ...   \n",
            "2399   119.6 -0.3833  22.6444  0.09812  15.525  17.133  18.741  20.565   \n",
            "2400   119.7 -0.3833  22.6877  0.09816  15.553  17.164  18.775  20.604   \n",
            "2401   119.8 -0.3833  22.7309  0.09820  15.580  17.195  18.810  20.642   \n",
            "2402   119.9 -0.3833  22.7741  0.09824  15.607  17.226  18.844  20.680   \n",
            "2403   120.0 -0.3833  22.8173  0.09828  15.634  17.256  18.878  20.719   \n",
            "\n",
            "         SD0     SD1     SD2     SD3     SD4  Gender           Note  \n",
            "0      2.441   2.680   2.951   3.261   3.571    male  Under 2 years  \n",
            "1      2.458   2.698   2.971   3.283   3.595    male  Under 2 years  \n",
            "2      2.474   2.716   2.991   3.305   3.618    male  Under 2 years  \n",
            "3      2.491   2.734   3.011   3.326   3.642    male  Under 2 years  \n",
            "4      2.508   2.752   3.031   3.348   3.666    male  Under 2 years  \n",
            "...      ...     ...     ...     ...     ...     ...            ...  \n",
            "2399  22.644  25.026  27.769  30.946  34.123  female   Over 2 years  \n",
            "2400  22.688  25.075  27.825  31.009  34.194  female   Over 2 years  \n",
            "2401  22.731  25.124  27.880  31.073  34.265  female   Over 2 years  \n",
            "2402  22.774  25.173  27.935  31.136  34.336  female   Over 2 years  \n",
            "2403  22.817  25.222  27.991  31.199  34.407  female   Over 2 years  \n",
            "\n",
            "[2404 rows x 15 columns]\n"
          ]
        }
      ],
      "source": [
        "print(df_bbtb)"
      ]
    },
    {
      "cell_type": "code",
      "execution_count": 479,
      "metadata": {
        "colab": {
          "base_uri": "https://localhost:8080/"
        },
        "id": "9HPUHcuUJHhb",
        "outputId": "d0673ef8-81de-45e6-ff59-b9d12ce8e009"
      },
      "outputs": [
        {
          "name": "stdout",
          "output_type": "stream",
          "text": [
            "      Gender  Age  Birth Weight  Birth Length  Body Weight  Body Length  \\\n",
            "0       male   17           3.0            49         10.0         72.2   \n",
            "1     female   11           2.9            49          2.9         65.0   \n",
            "2       male   16           2.9            49          8.5         72.2   \n",
            "3       male   31           2.8            49          6.4         63.0   \n",
            "4       male   15           3.1            49         10.5         49.0   \n",
            "...      ...  ...           ...           ...          ...          ...   \n",
            "8162  female   11           3.0            50          9.3         70.0   \n",
            "8163  female   13           2.9            49          5.0         60.0   \n",
            "8164  female   12           2.7            49          5.5         67.0   \n",
            "8165  female   18           3.0            49          9.3         74.2   \n",
            "8166  female   16           2.9            49          6.0         77.0   \n",
            "\n",
            "     Breastfeeding Status Tinggi Badan         Status Berat Badan  \n",
            "0               No       Sangat pendek         Berat badan normal  \n",
            "1               No       Sangat pendek  Berat badan sangat kurang  \n",
            "2               No       Sangat pendek         Berat badan normal  \n",
            "3               No       Sangat pendek  Berat badan sangat kurang  \n",
            "4               No       Sangat pendek         Berat badan normal  \n",
            "...            ...                 ...                        ...  \n",
            "8162            No              Normal         Berat badan normal  \n",
            "8163            No       Sangat pendek  Berat badan sangat kurang  \n",
            "8164            No              Pendek  Berat badan sangat kurang  \n",
            "8165            No              Pendek         Berat badan normal  \n",
            "8166            No              Normal  Berat badan sangat kurang  \n",
            "\n",
            "[8167 rows x 9 columns]\n"
          ]
        }
      ],
      "source": [
        "print(data1)"
      ]
    },
    {
      "cell_type": "code",
      "execution_count": 480,
      "metadata": {
        "id": "cN49EK5kIp2b"
      },
      "outputs": [],
      "source": [
        "# mengganti nama kolom 'Month' menjadi 'Age' supaya sesuai\n",
        "df_bbtb = df_bbtb.rename(columns={\"Height\": \"Body Length\"})"
      ]
    },
    {
      "cell_type": "code",
      "execution_count": 481,
      "metadata": {
        "id": "Mtvwu2juQEoE"
      },
      "outputs": [],
      "source": [
        "# Filter jadi dua dataset untuk data1\n",
        "under2 = data1[data1[\"Age\"] <= 24].copy()\n",
        "over2 = data1[data1[\"Age\"] > 24].copy()"
      ]
    },
    {
      "cell_type": "code",
      "execution_count": 482,
      "metadata": {
        "id": "UHUdPt26RYaT"
      },
      "outputs": [],
      "source": [
        "# Filter jadi dua dataset untuk df_bbtb\n",
        "df_bbtb1 = df_bbtb[df_bbtb['Note'] == 'Under 2 years'].copy()\n",
        "df_bbtb2 = df_bbtb[df_bbtb['Note'] == 'Over 2 years'].copy()"
      ]
    },
    {
      "cell_type": "code",
      "execution_count": 483,
      "metadata": {
        "colab": {
          "base_uri": "https://localhost:8080/"
        },
        "id": "8tJ2pBObQOAB",
        "outputId": "57254014-6883-49ba-9587-2d931752a4a9"
      },
      "outputs": [
        {
          "name": "stdout",
          "output_type": "stream",
          "text": [
            "<class 'pandas.core.frame.DataFrame'>\n",
            "Index: 7091 entries, 0 to 8166\n",
            "Data columns (total 9 columns):\n",
            " #   Column               Non-Null Count  Dtype  \n",
            "---  ------               --------------  -----  \n",
            " 0   Gender               7091 non-null   object \n",
            " 1   Age                  7091 non-null   int64  \n",
            " 2   Birth Weight         7091 non-null   float64\n",
            " 3   Birth Length         7091 non-null   int64  \n",
            " 4   Body Weight          7091 non-null   float64\n",
            " 5   Body Length          7091 non-null   float64\n",
            " 6   Breastfeeding        7091 non-null   object \n",
            " 7   Status Tinggi Badan  7091 non-null   object \n",
            " 8   Status Berat Badan   7091 non-null   object \n",
            "dtypes: float64(3), int64(2), object(4)\n",
            "memory usage: 554.0+ KB\n"
          ]
        }
      ],
      "source": [
        "under2.info()"
      ]
    },
    {
      "cell_type": "code",
      "execution_count": 484,
      "metadata": {
        "colab": {
          "base_uri": "https://localhost:8080/"
        },
        "id": "NU2s3DrLSBec",
        "outputId": "fcdf8b35-d028-4657-8baa-4f7eefc856eb"
      },
      "outputs": [
        {
          "name": "stdout",
          "output_type": "stream",
          "text": [
            "<class 'pandas.core.frame.DataFrame'>\n",
            "Index: 1302 entries, 0 to 1301\n",
            "Data columns (total 15 columns):\n",
            " #   Column       Non-Null Count  Dtype  \n",
            "---  ------       --------------  -----  \n",
            " 0   Body Length  1302 non-null   float64\n",
            " 1   L            1302 non-null   float64\n",
            " 2   M            1302 non-null   float64\n",
            " 3   S            1302 non-null   float64\n",
            " 4   SD4neg       1302 non-null   float64\n",
            " 5   SD3neg       1302 non-null   float64\n",
            " 6   SD2neg       1302 non-null   float64\n",
            " 7   SD1neg       1302 non-null   float64\n",
            " 8   SD0          1302 non-null   float64\n",
            " 9   SD1          1302 non-null   float64\n",
            " 10  SD2          1302 non-null   float64\n",
            " 11  SD3          1302 non-null   float64\n",
            " 12  SD4          1302 non-null   float64\n",
            " 13  Gender       1302 non-null   object \n",
            " 14  Note         1302 non-null   object \n",
            "dtypes: float64(13), object(2)\n",
            "memory usage: 162.8+ KB\n"
          ]
        }
      ],
      "source": [
        "df_bbtb1.info()"
      ]
    },
    {
      "cell_type": "code",
      "execution_count": 485,
      "metadata": {
        "colab": {
          "base_uri": "https://localhost:8080/",
          "height": 431
        },
        "id": "-l63MNvyrsXs",
        "outputId": "368952f9-60cd-4def-c9da-373847379559"
      },
      "outputs": [
        {
          "data": {
            "text/html": [
              "<div>\n",
              "<style scoped>\n",
              "    .dataframe tbody tr th:only-of-type {\n",
              "        vertical-align: middle;\n",
              "    }\n",
              "\n",
              "    .dataframe tbody tr th {\n",
              "        vertical-align: top;\n",
              "    }\n",
              "\n",
              "    .dataframe thead th {\n",
              "        text-align: right;\n",
              "    }\n",
              "</style>\n",
              "<table border=\"1\" class=\"dataframe\">\n",
              "  <thead>\n",
              "    <tr style=\"text-align: right;\">\n",
              "      <th></th>\n",
              "      <th>Gender</th>\n",
              "      <th>Age</th>\n",
              "      <th>Birth Weight</th>\n",
              "      <th>Birth Length</th>\n",
              "      <th>Body Weight</th>\n",
              "      <th>Body Length</th>\n",
              "      <th>Breastfeeding</th>\n",
              "      <th>Status Tinggi Badan</th>\n",
              "      <th>Status Berat Badan</th>\n",
              "      <th>SD1neg</th>\n",
              "      <th>SD0</th>\n",
              "      <th>SD1</th>\n",
              "    </tr>\n",
              "  </thead>\n",
              "  <tbody>\n",
              "    <tr>\n",
              "      <th>0</th>\n",
              "      <td>male</td>\n",
              "      <td>17</td>\n",
              "      <td>3.0</td>\n",
              "      <td>49</td>\n",
              "      <td>10.0</td>\n",
              "      <td>72.2</td>\n",
              "      <td>No</td>\n",
              "      <td>Sangat pendek</td>\n",
              "      <td>Berat badan normal</td>\n",
              "      <td>8.217</td>\n",
              "      <td>8.914</td>\n",
              "      <td>9.693</td>\n",
              "    </tr>\n",
              "    <tr>\n",
              "      <th>1</th>\n",
              "      <td>female</td>\n",
              "      <td>11</td>\n",
              "      <td>2.9</td>\n",
              "      <td>49</td>\n",
              "      <td>2.9</td>\n",
              "      <td>65.0</td>\n",
              "      <td>No</td>\n",
              "      <td>Sangat pendek</td>\n",
              "      <td>Berat badan sangat kurang</td>\n",
              "      <td>6.474</td>\n",
              "      <td>7.081</td>\n",
              "      <td>7.770</td>\n",
              "    </tr>\n",
              "    <tr>\n",
              "      <th>2</th>\n",
              "      <td>male</td>\n",
              "      <td>16</td>\n",
              "      <td>2.9</td>\n",
              "      <td>49</td>\n",
              "      <td>8.5</td>\n",
              "      <td>72.2</td>\n",
              "      <td>No</td>\n",
              "      <td>Sangat pendek</td>\n",
              "      <td>Berat badan normal</td>\n",
              "      <td>8.217</td>\n",
              "      <td>8.914</td>\n",
              "      <td>9.693</td>\n",
              "    </tr>\n",
              "    <tr>\n",
              "      <th>3</th>\n",
              "      <td>male</td>\n",
              "      <td>15</td>\n",
              "      <td>3.1</td>\n",
              "      <td>49</td>\n",
              "      <td>10.5</td>\n",
              "      <td>49.0</td>\n",
              "      <td>No</td>\n",
              "      <td>Sangat pendek</td>\n",
              "      <td>Berat badan normal</td>\n",
              "      <td>2.867</td>\n",
              "      <td>3.131</td>\n",
              "      <td>3.429</td>\n",
              "    </tr>\n",
              "    <tr>\n",
              "      <th>4</th>\n",
              "      <td>female</td>\n",
              "      <td>11</td>\n",
              "      <td>2.8</td>\n",
              "      <td>49</td>\n",
              "      <td>8.5</td>\n",
              "      <td>65.0</td>\n",
              "      <td>No</td>\n",
              "      <td>Sangat pendek</td>\n",
              "      <td>Berat badan normal</td>\n",
              "      <td>6.474</td>\n",
              "      <td>7.081</td>\n",
              "      <td>7.770</td>\n",
              "    </tr>\n",
              "  </tbody>\n",
              "</table>\n",
              "</div>"
            ],
            "text/plain": [
              "   Gender  Age  Birth Weight  Birth Length  Body Weight  Body Length  \\\n",
              "0    male   17           3.0            49         10.0         72.2   \n",
              "1  female   11           2.9            49          2.9         65.0   \n",
              "2    male   16           2.9            49          8.5         72.2   \n",
              "3    male   15           3.1            49         10.5         49.0   \n",
              "4  female   11           2.8            49          8.5         65.0   \n",
              "\n",
              "  Breastfeeding Status Tinggi Badan         Status Berat Badan  SD1neg    SD0  \\\n",
              "0            No       Sangat pendek         Berat badan normal   8.217  8.914   \n",
              "1            No       Sangat pendek  Berat badan sangat kurang   6.474  7.081   \n",
              "2            No       Sangat pendek         Berat badan normal   8.217  8.914   \n",
              "3            No       Sangat pendek         Berat badan normal   2.867  3.131   \n",
              "4            No       Sangat pendek         Berat badan normal   6.474  7.081   \n",
              "\n",
              "     SD1  \n",
              "0  9.693  \n",
              "1  7.770  \n",
              "2  9.693  \n",
              "3  3.429  \n",
              "4  7.770  "
            ]
          },
          "execution_count": 485,
          "metadata": {},
          "output_type": "execute_result"
        }
      ],
      "source": [
        "under2 = pd.merge(\n",
        "    under2,\n",
        "    df_bbtb1[['Body Length', 'Gender', 'SD1neg', 'SD0', 'SD1']],\n",
        "    on=['Body Length', 'Gender'],\n",
        "    how='left'\n",
        ")\n",
        "under2.head()"
      ]
    },
    {
      "cell_type": "code",
      "execution_count": 486,
      "metadata": {
        "colab": {
          "base_uri": "https://localhost:8080/"
        },
        "id": "82p5uslzryIY",
        "outputId": "0b66b35a-9875-4083-bdaf-9c27b3601576"
      },
      "outputs": [
        {
          "name": "stdout",
          "output_type": "stream",
          "text": [
            "<class 'pandas.core.frame.DataFrame'>\n",
            "RangeIndex: 7091 entries, 0 to 7090\n",
            "Data columns (total 12 columns):\n",
            " #   Column               Non-Null Count  Dtype  \n",
            "---  ------               --------------  -----  \n",
            " 0   Gender               7091 non-null   object \n",
            " 1   Age                  7091 non-null   int64  \n",
            " 2   Birth Weight         7091 non-null   float64\n",
            " 3   Birth Length         7091 non-null   int64  \n",
            " 4   Body Weight          7091 non-null   float64\n",
            " 5   Body Length          7091 non-null   float64\n",
            " 6   Breastfeeding        7091 non-null   object \n",
            " 7   Status Tinggi Badan  7091 non-null   object \n",
            " 8   Status Berat Badan   7091 non-null   object \n",
            " 9   SD1neg               7091 non-null   float64\n",
            " 10  SD0                  7091 non-null   float64\n",
            " 11  SD1                  7091 non-null   float64\n",
            "dtypes: float64(6), int64(2), object(4)\n",
            "memory usage: 664.9+ KB\n"
          ]
        }
      ],
      "source": [
        "under2.info()"
      ]
    },
    {
      "cell_type": "code",
      "execution_count": 487,
      "metadata": {
        "colab": {
          "base_uri": "https://localhost:8080/"
        },
        "id": "Q89uSwqUQTNV",
        "outputId": "6efa9ef5-af8b-4ec9-9b7e-22c44e19b6d4"
      },
      "outputs": [
        {
          "name": "stdout",
          "output_type": "stream",
          "text": [
            "<class 'pandas.core.frame.DataFrame'>\n",
            "Index: 1076 entries, 3 to 8159\n",
            "Data columns (total 9 columns):\n",
            " #   Column               Non-Null Count  Dtype  \n",
            "---  ------               --------------  -----  \n",
            " 0   Gender               1076 non-null   object \n",
            " 1   Age                  1076 non-null   int64  \n",
            " 2   Birth Weight         1076 non-null   float64\n",
            " 3   Birth Length         1076 non-null   int64  \n",
            " 4   Body Weight          1076 non-null   float64\n",
            " 5   Body Length          1076 non-null   float64\n",
            " 6   Breastfeeding        1076 non-null   object \n",
            " 7   Status Tinggi Badan  1076 non-null   object \n",
            " 8   Status Berat Badan   1076 non-null   object \n",
            "dtypes: float64(3), int64(2), object(4)\n",
            "memory usage: 84.1+ KB\n"
          ]
        }
      ],
      "source": [
        "over2.info()"
      ]
    },
    {
      "cell_type": "code",
      "execution_count": 488,
      "metadata": {
        "colab": {
          "base_uri": "https://localhost:8080/"
        },
        "id": "MnS9NuHkUrQl",
        "outputId": "7afe3edb-6656-4739-eabc-b9b09eab4388"
      },
      "outputs": [
        {
          "name": "stdout",
          "output_type": "stream",
          "text": [
            "<class 'pandas.core.frame.DataFrame'>\n",
            "Index: 1102 entries, 1302 to 2403\n",
            "Data columns (total 15 columns):\n",
            " #   Column       Non-Null Count  Dtype  \n",
            "---  ------       --------------  -----  \n",
            " 0   Body Length  1102 non-null   float64\n",
            " 1   L            1102 non-null   float64\n",
            " 2   M            1102 non-null   float64\n",
            " 3   S            1102 non-null   float64\n",
            " 4   SD4neg       1102 non-null   float64\n",
            " 5   SD3neg       1102 non-null   float64\n",
            " 6   SD2neg       1102 non-null   float64\n",
            " 7   SD1neg       1102 non-null   float64\n",
            " 8   SD0          1102 non-null   float64\n",
            " 9   SD1          1102 non-null   float64\n",
            " 10  SD2          1102 non-null   float64\n",
            " 11  SD3          1102 non-null   float64\n",
            " 12  SD4          1102 non-null   float64\n",
            " 13  Gender       1102 non-null   object \n",
            " 14  Note         1102 non-null   object \n",
            "dtypes: float64(13), object(2)\n",
            "memory usage: 137.8+ KB\n"
          ]
        }
      ],
      "source": [
        "df_bbtb2.info()"
      ]
    },
    {
      "cell_type": "code",
      "execution_count": 489,
      "metadata": {
        "colab": {
          "base_uri": "https://localhost:8080/"
        },
        "id": "jzzVTAmmYWRi",
        "outputId": "97f2d743-35e0-4022-f64f-d91134f4c367"
      },
      "outputs": [
        {
          "data": {
            "text/plain": [
              "0"
            ]
          },
          "execution_count": 489,
          "metadata": {},
          "output_type": "execute_result"
        }
      ],
      "source": [
        "df_bbtb2.duplicated().sum()"
      ]
    },
    {
      "cell_type": "code",
      "execution_count": 490,
      "metadata": {
        "colab": {
          "base_uri": "https://localhost:8080/",
          "height": 483
        },
        "id": "N-tPiFjWu1KP",
        "outputId": "d509b882-d6f2-4dda-8c03-fc21ce40054d"
      },
      "outputs": [
        {
          "data": {
            "text/html": [
              "<div>\n",
              "<style scoped>\n",
              "    .dataframe tbody tr th:only-of-type {\n",
              "        vertical-align: middle;\n",
              "    }\n",
              "\n",
              "    .dataframe tbody tr th {\n",
              "        vertical-align: top;\n",
              "    }\n",
              "\n",
              "    .dataframe thead th {\n",
              "        text-align: right;\n",
              "    }\n",
              "</style>\n",
              "<table border=\"1\" class=\"dataframe\">\n",
              "  <thead>\n",
              "    <tr style=\"text-align: right;\">\n",
              "      <th></th>\n",
              "      <th>Gender</th>\n",
              "      <th>Age</th>\n",
              "      <th>Birth Weight</th>\n",
              "      <th>Birth Length</th>\n",
              "      <th>Body Weight</th>\n",
              "      <th>Body Length</th>\n",
              "      <th>Breastfeeding</th>\n",
              "      <th>Status Tinggi Badan</th>\n",
              "      <th>Status Berat Badan</th>\n",
              "      <th>SD1neg</th>\n",
              "      <th>SD0</th>\n",
              "      <th>SD1</th>\n",
              "    </tr>\n",
              "  </thead>\n",
              "  <tbody>\n",
              "    <tr>\n",
              "      <th>0</th>\n",
              "      <td>male</td>\n",
              "      <td>31</td>\n",
              "      <td>2.8</td>\n",
              "      <td>49</td>\n",
              "      <td>6.4</td>\n",
              "      <td>63.0</td>\n",
              "      <td>No</td>\n",
              "      <td>Sangat pendek</td>\n",
              "      <td>Berat badan sangat kurang</td>\n",
              "      <td>NaN</td>\n",
              "      <td>NaN</td>\n",
              "      <td>NaN</td>\n",
              "    </tr>\n",
              "    <tr>\n",
              "      <th>1</th>\n",
              "      <td>male</td>\n",
              "      <td>35</td>\n",
              "      <td>2.8</td>\n",
              "      <td>49</td>\n",
              "      <td>10.5</td>\n",
              "      <td>72.2</td>\n",
              "      <td>No</td>\n",
              "      <td>Sangat pendek</td>\n",
              "      <td>Berat badan kurang</td>\n",
              "      <td>8.356</td>\n",
              "      <td>9.065</td>\n",
              "      <td>9.858</td>\n",
              "    </tr>\n",
              "    <tr>\n",
              "      <th>2</th>\n",
              "      <td>male</td>\n",
              "      <td>44</td>\n",
              "      <td>3.0</td>\n",
              "      <td>49</td>\n",
              "      <td>7.1</td>\n",
              "      <td>72.2</td>\n",
              "      <td>No</td>\n",
              "      <td>Sangat pendek</td>\n",
              "      <td>Berat badan sangat kurang</td>\n",
              "      <td>8.356</td>\n",
              "      <td>9.065</td>\n",
              "      <td>9.858</td>\n",
              "    </tr>\n",
              "    <tr>\n",
              "      <th>3</th>\n",
              "      <td>female</td>\n",
              "      <td>47</td>\n",
              "      <td>2.8</td>\n",
              "      <td>49</td>\n",
              "      <td>7.0</td>\n",
              "      <td>92.7</td>\n",
              "      <td>No</td>\n",
              "      <td>Pendek</td>\n",
              "      <td>Berat badan sangat kurang</td>\n",
              "      <td>12.195</td>\n",
              "      <td>13.315</td>\n",
              "      <td>14.583</td>\n",
              "    </tr>\n",
              "    <tr>\n",
              "      <th>4</th>\n",
              "      <td>female</td>\n",
              "      <td>41</td>\n",
              "      <td>3.0</td>\n",
              "      <td>49</td>\n",
              "      <td>7.1</td>\n",
              "      <td>73.5</td>\n",
              "      <td>No</td>\n",
              "      <td>Sangat pendek</td>\n",
              "      <td>Berat badan sangat kurang</td>\n",
              "      <td>8.235</td>\n",
              "      <td>8.998</td>\n",
              "      <td>9.863</td>\n",
              "    </tr>\n",
              "  </tbody>\n",
              "</table>\n",
              "</div>"
            ],
            "text/plain": [
              "   Gender  Age  Birth Weight  Birth Length  Body Weight  Body Length  \\\n",
              "0    male   31           2.8            49          6.4         63.0   \n",
              "1    male   35           2.8            49         10.5         72.2   \n",
              "2    male   44           3.0            49          7.1         72.2   \n",
              "3  female   47           2.8            49          7.0         92.7   \n",
              "4  female   41           3.0            49          7.1         73.5   \n",
              "\n",
              "  Breastfeeding Status Tinggi Badan         Status Berat Badan  SD1neg  \\\n",
              "0            No       Sangat pendek  Berat badan sangat kurang     NaN   \n",
              "1            No       Sangat pendek         Berat badan kurang   8.356   \n",
              "2            No       Sangat pendek  Berat badan sangat kurang   8.356   \n",
              "3            No              Pendek  Berat badan sangat kurang  12.195   \n",
              "4            No       Sangat pendek  Berat badan sangat kurang   8.235   \n",
              "\n",
              "      SD0     SD1  \n",
              "0     NaN     NaN  \n",
              "1   9.065   9.858  \n",
              "2   9.065   9.858  \n",
              "3  13.315  14.583  \n",
              "4   8.998   9.863  "
            ]
          },
          "execution_count": 490,
          "metadata": {},
          "output_type": "execute_result"
        }
      ],
      "source": [
        "over2 = pd.merge(\n",
        "    over2,\n",
        "    df_bbtb2[['Body Length', 'Gender', 'SD1neg', 'SD0', 'SD1']],\n",
        "    on=['Body Length', 'Gender'],\n",
        "    how='left'\n",
        ")\n",
        "over2.head()"
      ]
    },
    {
      "cell_type": "code",
      "execution_count": 491,
      "metadata": {
        "colab": {
          "base_uri": "https://localhost:8080/"
        },
        "id": "5CgbjsGojsn6",
        "outputId": "8da8ef89-086f-4402-9abf-b8c39920e108"
      },
      "outputs": [
        {
          "name": "stdout",
          "output_type": "stream",
          "text": [
            "<class 'pandas.core.frame.DataFrame'>\n",
            "RangeIndex: 1076 entries, 0 to 1075\n",
            "Data columns (total 12 columns):\n",
            " #   Column               Non-Null Count  Dtype  \n",
            "---  ------               --------------  -----  \n",
            " 0   Gender               1076 non-null   object \n",
            " 1   Age                  1076 non-null   int64  \n",
            " 2   Birth Weight         1076 non-null   float64\n",
            " 3   Birth Length         1076 non-null   int64  \n",
            " 4   Body Weight          1076 non-null   float64\n",
            " 5   Body Length          1076 non-null   float64\n",
            " 6   Breastfeeding        1076 non-null   object \n",
            " 7   Status Tinggi Badan  1076 non-null   object \n",
            " 8   Status Berat Badan   1076 non-null   object \n",
            " 9   SD1neg               922 non-null    float64\n",
            " 10  SD0                  922 non-null    float64\n",
            " 11  SD1                  922 non-null    float64\n",
            "dtypes: float64(6), int64(2), object(4)\n",
            "memory usage: 101.0+ KB\n"
          ]
        }
      ],
      "source": [
        "over2.info()"
      ]
    },
    {
      "cell_type": "code",
      "execution_count": 492,
      "metadata": {
        "colab": {
          "base_uri": "https://localhost:8080/",
          "height": 460
        },
        "id": "h9HP9s5ovJE3",
        "outputId": "175905c7-437d-472c-81e7-efdff288c2dc"
      },
      "outputs": [
        {
          "data": {
            "text/plain": [
              "Gender                   0\n",
              "Age                      0\n",
              "Birth Weight             0\n",
              "Birth Length             0\n",
              "Body Weight              0\n",
              "Body Length              0\n",
              "Breastfeeding            0\n",
              "Status Tinggi Badan      0\n",
              "Status Berat Badan       0\n",
              "SD1neg                 154\n",
              "SD0                    154\n",
              "SD1                    154\n",
              "dtype: int64"
            ]
          },
          "execution_count": 492,
          "metadata": {},
          "output_type": "execute_result"
        }
      ],
      "source": [
        "over2.isnull().sum()"
      ]
    },
    {
      "cell_type": "code",
      "execution_count": 493,
      "metadata": {
        "colab": {
          "base_uri": "https://localhost:8080/"
        },
        "id": "mBKwKJROvMRv",
        "outputId": "ffdb8cee-87ad-48e3-9d51-9b286c3d2bf5"
      },
      "outputs": [
        {
          "data": {
            "text/plain": [
              "0"
            ]
          },
          "execution_count": 493,
          "metadata": {},
          "output_type": "execute_result"
        }
      ],
      "source": [
        "over2.duplicated().sum()"
      ]
    },
    {
      "cell_type": "code",
      "execution_count": 494,
      "metadata": {
        "id": "6sazLTBKVeQA"
      },
      "outputs": [],
      "source": [
        "data = pd.concat([over2, under2], ignore_index=True)"
      ]
    },
    {
      "cell_type": "code",
      "execution_count": 495,
      "metadata": {
        "colab": {
          "base_uri": "https://localhost:8080/"
        },
        "id": "tAKLNE62WO8Y",
        "outputId": "886bdec0-42e2-4338-ec3a-138b8631bffa"
      },
      "outputs": [
        {
          "name": "stdout",
          "output_type": "stream",
          "text": [
            "<class 'pandas.core.frame.DataFrame'>\n",
            "RangeIndex: 8167 entries, 0 to 8166\n",
            "Data columns (total 12 columns):\n",
            " #   Column               Non-Null Count  Dtype  \n",
            "---  ------               --------------  -----  \n",
            " 0   Gender               8167 non-null   object \n",
            " 1   Age                  8167 non-null   int64  \n",
            " 2   Birth Weight         8167 non-null   float64\n",
            " 3   Birth Length         8167 non-null   int64  \n",
            " 4   Body Weight          8167 non-null   float64\n",
            " 5   Body Length          8167 non-null   float64\n",
            " 6   Breastfeeding        8167 non-null   object \n",
            " 7   Status Tinggi Badan  8167 non-null   object \n",
            " 8   Status Berat Badan   8167 non-null   object \n",
            " 9   SD1neg               8013 non-null   float64\n",
            " 10  SD0                  8013 non-null   float64\n",
            " 11  SD1                  8013 non-null   float64\n",
            "dtypes: float64(6), int64(2), object(4)\n",
            "memory usage: 765.8+ KB\n"
          ]
        }
      ],
      "source": [
        "data.info()"
      ]
    },
    {
      "cell_type": "code",
      "execution_count": 496,
      "metadata": {
        "colab": {
          "base_uri": "https://localhost:8080/",
          "height": 460
        },
        "id": "uHoKfLQH9wG8",
        "outputId": "c6912ce2-34df-473e-aa7e-71821b0ed203"
      },
      "outputs": [
        {
          "data": {
            "text/plain": [
              "Gender                   0\n",
              "Age                      0\n",
              "Birth Weight             0\n",
              "Birth Length             0\n",
              "Body Weight              0\n",
              "Body Length              0\n",
              "Breastfeeding            0\n",
              "Status Tinggi Badan      0\n",
              "Status Berat Badan       0\n",
              "SD1neg                 154\n",
              "SD0                    154\n",
              "SD1                    154\n",
              "dtype: int64"
            ]
          },
          "execution_count": 496,
          "metadata": {},
          "output_type": "execute_result"
        }
      ],
      "source": [
        "data.isnull().sum()"
      ]
    },
    {
      "cell_type": "markdown",
      "metadata": {
        "id": "p5MHnaJcvZjZ"
      },
      "source": [
        "Penambahan kolom SD1neg, SD0, dan SD1 dilakukan berdasarkan nilai tinggi badan dan jenis kelamin, setelah ditambahkan terdapat nilai null sebanyak 154 yang diakibatkan tidak ada nilai tinggi badan yang cocok di kedua dataset"
      ]
    },
    {
      "cell_type": "markdown",
      "metadata": {
        "id": "2GVnIsnYv-K5"
      },
      "source": [
        "explorasi data null"
      ]
    },
    {
      "cell_type": "code",
      "execution_count": 497,
      "metadata": {
        "colab": {
          "base_uri": "https://localhost:8080/"
        },
        "id": "HcXw6ax2vXJx",
        "outputId": "9fc8d909-749d-44fa-a088-edb1478d2c72"
      },
      "outputs": [
        {
          "name": "stdout",
          "output_type": "stream",
          "text": [
            "      Gender  Age  Birth Weight  Birth Length  Body Weight  Body Length  \\\n",
            "0       male   31           2.8            49          6.4         63.0   \n",
            "6       male   47           3.0            49          9.0         63.0   \n",
            "7       male   32           2.8            49          7.2         63.0   \n",
            "13    female   32           3.0            49          9.0         49.0   \n",
            "15    female   33           3.0            49          8.4         63.0   \n",
            "...      ...  ...           ...           ...          ...          ...   \n",
            "697   female   46           2.7            49          7.7         63.0   \n",
            "780     male   59           3.4            50         15.0         59.0   \n",
            "881     male   42           3.0            49         10.5         63.0   \n",
            "1034  female   25           2.5            48          5.0         60.0   \n",
            "1062  female   47           2.8            48          6.0         54.0   \n",
            "\n",
            "     Breastfeeding Status Tinggi Badan         Status Berat Badan  SD1neg  \\\n",
            "0               No       Sangat pendek  Berat badan sangat kurang     NaN   \n",
            "6               No       Sangat pendek  Berat badan sangat kurang     NaN   \n",
            "7               No       Sangat pendek  Berat badan sangat kurang     NaN   \n",
            "13              No       Sangat pendek         Berat badan kurang     NaN   \n",
            "15              No       Sangat pendek  Berat badan sangat kurang     NaN   \n",
            "...            ...                 ...                        ...     ...   \n",
            "697             No       Sangat pendek  Berat badan sangat kurang     NaN   \n",
            "780            Yes       Sangat pendek         Berat badan normal     NaN   \n",
            "881             No       Sangat pendek         Berat badan kurang     NaN   \n",
            "1034            No       Sangat pendek  Berat badan sangat kurang     NaN   \n",
            "1062            No       Sangat pendek  Berat badan sangat kurang     NaN   \n",
            "\n",
            "      SD0  SD1  \n",
            "0     NaN  NaN  \n",
            "6     NaN  NaN  \n",
            "7     NaN  NaN  \n",
            "13    NaN  NaN  \n",
            "15    NaN  NaN  \n",
            "...   ...  ...  \n",
            "697   NaN  NaN  \n",
            "780   NaN  NaN  \n",
            "881   NaN  NaN  \n",
            "1034  NaN  NaN  \n",
            "1062  NaN  NaN  \n",
            "\n",
            "[154 rows x 12 columns]\n"
          ]
        }
      ],
      "source": [
        "null_rows = data[data[['SD1neg', 'SD0', 'SD1']].isnull().any(axis=1)]\n",
        "print(null_rows)"
      ]
    },
    {
      "cell_type": "code",
      "execution_count": 498,
      "metadata": {
        "colab": {
          "base_uri": "https://localhost:8080/"
        },
        "id": "IUTKVS9JwH5A",
        "outputId": "6c42b180-6e39-4e16-ce3c-f32ad35f2717"
      },
      "outputs": [
        {
          "name": "stdout",
          "output_type": "stream",
          "text": [
            "Nilai unik Body Length yang null:\n",
            "[63. 49. 59. 60. 54.]\n",
            "Rentang Body Length:\n",
            "Min: 49.0\n",
            "Max: 63.0\n"
          ]
        }
      ],
      "source": [
        "# Cek nilai unik\n",
        "print(\"Nilai unik Body Length yang null:\")\n",
        "print(null_rows['Body Length'].unique())\n",
        "\n",
        "# Cek rentang nilai tinggi badan\n",
        "print(\"Rentang Body Length:\")\n",
        "print(\"Min:\", null_rows['Body Length'].min())\n",
        "print(\"Max:\", null_rows['Body Length'].max())"
      ]
    },
    {
      "cell_type": "markdown",
      "metadata": {
        "id": "7_cpFbTHwoG2"
      },
      "source": [
        "nilai null tersebut disebabkan karena nilai-nilai tersebut tidak ada di daftar data berat badan menurut tinggi badan usia dua tahun keatas menurut peraturan kemenkes dan WHO, sehingga baris yang memiliki nilai null akan dihapus"
      ]
    },
    {
      "cell_type": "code",
      "execution_count": 499,
      "metadata": {
        "id": "WMuzd6R-0tB3"
      },
      "outputs": [],
      "source": [
        "data.dropna(subset=['SD1neg', 'SD0', 'SD1'], inplace=True)"
      ]
    },
    {
      "cell_type": "code",
      "execution_count": 500,
      "metadata": {
        "colab": {
          "base_uri": "https://localhost:8080/",
          "height": 460
        },
        "id": "bkWQAc-90vxl",
        "outputId": "7b60d60e-806c-4084-b483-a79b2499fb2a"
      },
      "outputs": [
        {
          "data": {
            "text/plain": [
              "Gender                 0\n",
              "Age                    0\n",
              "Birth Weight           0\n",
              "Birth Length           0\n",
              "Body Weight            0\n",
              "Body Length            0\n",
              "Breastfeeding          0\n",
              "Status Tinggi Badan    0\n",
              "Status Berat Badan     0\n",
              "SD1neg                 0\n",
              "SD0                    0\n",
              "SD1                    0\n",
              "dtype: int64"
            ]
          },
          "execution_count": 500,
          "metadata": {},
          "output_type": "execute_result"
        }
      ],
      "source": [
        "data.isnull().sum()"
      ]
    },
    {
      "cell_type": "code",
      "execution_count": 501,
      "metadata": {
        "colab": {
          "base_uri": "https://localhost:8080/"
        },
        "id": "bEBmYP1D0zWm",
        "outputId": "614a9d6b-d953-4baa-8b8d-e56d1d3177db"
      },
      "outputs": [
        {
          "data": {
            "text/plain": [
              "0"
            ]
          },
          "execution_count": 501,
          "metadata": {},
          "output_type": "execute_result"
        }
      ],
      "source": [
        "data.duplicated().sum()"
      ]
    },
    {
      "cell_type": "code",
      "execution_count": 502,
      "metadata": {
        "colab": {
          "base_uri": "https://localhost:8080/"
        },
        "id": "y-DVC6ld02Dl",
        "outputId": "41198c06-7f8f-4e48-cab1-47a7bf56fb72"
      },
      "outputs": [
        {
          "name": "stdout",
          "output_type": "stream",
          "text": [
            "<class 'pandas.core.frame.DataFrame'>\n",
            "Index: 8013 entries, 1 to 8166\n",
            "Data columns (total 12 columns):\n",
            " #   Column               Non-Null Count  Dtype  \n",
            "---  ------               --------------  -----  \n",
            " 0   Gender               8013 non-null   object \n",
            " 1   Age                  8013 non-null   int64  \n",
            " 2   Birth Weight         8013 non-null   float64\n",
            " 3   Birth Length         8013 non-null   int64  \n",
            " 4   Body Weight          8013 non-null   float64\n",
            " 5   Body Length          8013 non-null   float64\n",
            " 6   Breastfeeding        8013 non-null   object \n",
            " 7   Status Tinggi Badan  8013 non-null   object \n",
            " 8   Status Berat Badan   8013 non-null   object \n",
            " 9   SD1neg               8013 non-null   float64\n",
            " 10  SD0                  8013 non-null   float64\n",
            " 11  SD1                  8013 non-null   float64\n",
            "dtypes: float64(6), int64(2), object(4)\n",
            "memory usage: 813.8+ KB\n"
          ]
        }
      ],
      "source": [
        "data.info()"
      ]
    },
    {
      "cell_type": "code",
      "execution_count": 503,
      "metadata": {
        "colab": {
          "base_uri": "https://localhost:8080/",
          "height": 486
        },
        "id": "TpFRTseiIxsr",
        "outputId": "6d983661-fdc3-4e03-d6fd-966835f0fb51"
      },
      "outputs": [
        {
          "data": {
            "text/html": [
              "<div>\n",
              "<style scoped>\n",
              "    .dataframe tbody tr th:only-of-type {\n",
              "        vertical-align: middle;\n",
              "    }\n",
              "\n",
              "    .dataframe tbody tr th {\n",
              "        vertical-align: top;\n",
              "    }\n",
              "\n",
              "    .dataframe thead th {\n",
              "        text-align: right;\n",
              "    }\n",
              "</style>\n",
              "<table border=\"1\" class=\"dataframe\">\n",
              "  <thead>\n",
              "    <tr style=\"text-align: right;\">\n",
              "      <th></th>\n",
              "      <th>Gender</th>\n",
              "      <th>Age</th>\n",
              "      <th>Birth Weight</th>\n",
              "      <th>Birth Length</th>\n",
              "      <th>Body Weight</th>\n",
              "      <th>Body Length</th>\n",
              "      <th>Breastfeeding</th>\n",
              "      <th>Status Tinggi Badan</th>\n",
              "      <th>Status Berat Badan</th>\n",
              "      <th>SD1neg</th>\n",
              "      <th>SD0</th>\n",
              "      <th>SD1</th>\n",
              "      <th>Z_Score_bb_tb</th>\n",
              "    </tr>\n",
              "  </thead>\n",
              "  <tbody>\n",
              "    <tr>\n",
              "      <th>1</th>\n",
              "      <td>male</td>\n",
              "      <td>35</td>\n",
              "      <td>2.8</td>\n",
              "      <td>49</td>\n",
              "      <td>10.5</td>\n",
              "      <td>72.2</td>\n",
              "      <td>No</td>\n",
              "      <td>Sangat pendek</td>\n",
              "      <td>Berat badan kurang</td>\n",
              "      <td>8.356</td>\n",
              "      <td>9.065</td>\n",
              "      <td>9.858</td>\n",
              "      <td>1.809584</td>\n",
              "    </tr>\n",
              "    <tr>\n",
              "      <th>2</th>\n",
              "      <td>male</td>\n",
              "      <td>44</td>\n",
              "      <td>3.0</td>\n",
              "      <td>49</td>\n",
              "      <td>7.1</td>\n",
              "      <td>72.2</td>\n",
              "      <td>No</td>\n",
              "      <td>Sangat pendek</td>\n",
              "      <td>Berat badan sangat kurang</td>\n",
              "      <td>8.356</td>\n",
              "      <td>9.065</td>\n",
              "      <td>9.858</td>\n",
              "      <td>-2.771509</td>\n",
              "    </tr>\n",
              "    <tr>\n",
              "      <th>3</th>\n",
              "      <td>female</td>\n",
              "      <td>47</td>\n",
              "      <td>2.8</td>\n",
              "      <td>49</td>\n",
              "      <td>7.0</td>\n",
              "      <td>92.7</td>\n",
              "      <td>No</td>\n",
              "      <td>Pendek</td>\n",
              "      <td>Berat badan sangat kurang</td>\n",
              "      <td>12.195</td>\n",
              "      <td>13.315</td>\n",
              "      <td>14.583</td>\n",
              "      <td>-5.638393</td>\n",
              "    </tr>\n",
              "    <tr>\n",
              "      <th>4</th>\n",
              "      <td>female</td>\n",
              "      <td>41</td>\n",
              "      <td>3.0</td>\n",
              "      <td>49</td>\n",
              "      <td>7.1</td>\n",
              "      <td>73.5</td>\n",
              "      <td>No</td>\n",
              "      <td>Sangat pendek</td>\n",
              "      <td>Berat badan sangat kurang</td>\n",
              "      <td>8.235</td>\n",
              "      <td>8.998</td>\n",
              "      <td>9.863</td>\n",
              "      <td>-2.487549</td>\n",
              "    </tr>\n",
              "    <tr>\n",
              "      <th>5</th>\n",
              "      <td>female</td>\n",
              "      <td>42</td>\n",
              "      <td>2.8</td>\n",
              "      <td>49</td>\n",
              "      <td>10.0</td>\n",
              "      <td>65.0</td>\n",
              "      <td>No</td>\n",
              "      <td>Sangat pendek</td>\n",
              "      <td>Berat badan kurang</td>\n",
              "      <td>6.620</td>\n",
              "      <td>7.240</td>\n",
              "      <td>7.944</td>\n",
              "      <td>3.920455</td>\n",
              "    </tr>\n",
              "  </tbody>\n",
              "</table>\n",
              "</div>"
            ],
            "text/plain": [
              "   Gender  Age  Birth Weight  Birth Length  Body Weight  Body Length  \\\n",
              "1    male   35           2.8            49         10.5         72.2   \n",
              "2    male   44           3.0            49          7.1         72.2   \n",
              "3  female   47           2.8            49          7.0         92.7   \n",
              "4  female   41           3.0            49          7.1         73.5   \n",
              "5  female   42           2.8            49         10.0         65.0   \n",
              "\n",
              "  Breastfeeding Status Tinggi Badan         Status Berat Badan  SD1neg  \\\n",
              "1            No       Sangat pendek         Berat badan kurang   8.356   \n",
              "2            No       Sangat pendek  Berat badan sangat kurang   8.356   \n",
              "3            No              Pendek  Berat badan sangat kurang  12.195   \n",
              "4            No       Sangat pendek  Berat badan sangat kurang   8.235   \n",
              "5            No       Sangat pendek         Berat badan kurang   6.620   \n",
              "\n",
              "      SD0     SD1  Z_Score_bb_tb  \n",
              "1   9.065   9.858       1.809584  \n",
              "2   9.065   9.858      -2.771509  \n",
              "3  13.315  14.583      -5.638393  \n",
              "4   8.998   9.863      -2.487549  \n",
              "5   7.240   7.944       3.920455  "
            ]
          },
          "execution_count": 503,
          "metadata": {},
          "output_type": "execute_result"
        }
      ],
      "source": [
        "def calculate_z_score(body_weight, median, minus1sd, plus1sd):\n",
        "    if body_weight < median:\n",
        "        z_score = (body_weight - median) / (median - minus1sd)\n",
        "    else:\n",
        "        z_score = (body_weight - median) / (plus1sd - median)\n",
        "    return z_score\n",
        "\n",
        "data['Z_Score_bb_tb'] = data.apply(\n",
        "    lambda row: calculate_z_score(row['Body Weight'], row['SD0'], row['SD1neg'], row['SD1']),\n",
        "    axis=1\n",
        ")\n",
        "\n",
        "data.head()"
      ]
    },
    {
      "cell_type": "code",
      "execution_count": 504,
      "metadata": {
        "colab": {
          "base_uri": "https://localhost:8080/"
        },
        "id": "9uiwZWKVI04X",
        "outputId": "cee7a10a-6e20-4b81-fadd-df61a5e756de"
      },
      "outputs": [
        {
          "name": "stdout",
          "output_type": "stream",
          "text": [
            "   Gender  Age  Birth Weight  Birth Length  Body Weight  Body Length  \\\n",
            "1    male   35           2.8            49         10.5         72.2   \n",
            "2    male   44           3.0            49          7.1         72.2   \n",
            "3  female   47           2.8            49          7.0         92.7   \n",
            "4  female   41           3.0            49          7.1         73.5   \n",
            "5  female   42           2.8            49         10.0         65.0   \n",
            "\n",
            "  Breastfeeding Status Tinggi Badan         Status Berat Badan  SD1neg  \\\n",
            "1            No       Sangat pendek         Berat badan kurang   8.356   \n",
            "2            No       Sangat pendek  Berat badan sangat kurang   8.356   \n",
            "3            No              Pendek  Berat badan sangat kurang  12.195   \n",
            "4            No       Sangat pendek  Berat badan sangat kurang   8.235   \n",
            "5            No       Sangat pendek         Berat badan kurang   6.620   \n",
            "\n",
            "      SD0     SD1  Z_Score_bb_tb          Status Gizi  \n",
            "1   9.065   9.858       1.809584  Berisiko gizi lebih  \n",
            "2   9.065   9.858      -2.771509          Gizi kurang  \n",
            "3  13.315  14.583      -5.638393           Gizi buruk  \n",
            "4   8.998   9.863      -2.487549          Gizi kurang  \n",
            "5   7.240   7.944       3.920455             Obesitas  \n"
          ]
        }
      ],
      "source": [
        "# Membuat kolom status gizi\n",
        "def get_categorizeGizi(value):\n",
        "    if value < -3:\n",
        "        return \"Gizi buruk\"\n",
        "    elif -3 <= value < -2:\n",
        "        return \"Gizi kurang\"\n",
        "    elif -2 <= value <= 1:\n",
        "        return \"Gizi baik\"\n",
        "    elif 1 < value <= 2:\n",
        "        return \"Berisiko gizi lebih\"\n",
        "    elif 2 < value <= 3:\n",
        "        return \"Gizi lebih\"\n",
        "    elif value > 3:\n",
        "        return \"Obesitas\"\n",
        "    else:\n",
        "        return None\n",
        "\n",
        "data['Status Gizi'] = data['Z_Score_bb_tb'].apply(get_categorizeGizi)\n",
        "\n",
        "print(data.head())"
      ]
    },
    {
      "cell_type": "code",
      "execution_count": 505,
      "metadata": {
        "colab": {
          "base_uri": "https://localhost:8080/",
          "height": 379
        },
        "id": "LFZqtUyj1W-o",
        "outputId": "753cb840-e5d7-4251-a98b-c038e199f64a"
      },
      "outputs": [
        {
          "data": {
            "text/html": [
              "<div>\n",
              "<style scoped>\n",
              "    .dataframe tbody tr th:only-of-type {\n",
              "        vertical-align: middle;\n",
              "    }\n",
              "\n",
              "    .dataframe tbody tr th {\n",
              "        vertical-align: top;\n",
              "    }\n",
              "\n",
              "    .dataframe thead th {\n",
              "        text-align: right;\n",
              "    }\n",
              "</style>\n",
              "<table border=\"1\" class=\"dataframe\">\n",
              "  <thead>\n",
              "    <tr style=\"text-align: right;\">\n",
              "      <th></th>\n",
              "      <th>Gender</th>\n",
              "      <th>Age</th>\n",
              "      <th>Birth Weight</th>\n",
              "      <th>Birth Length</th>\n",
              "      <th>Body Weight</th>\n",
              "      <th>Body Length</th>\n",
              "      <th>Breastfeeding</th>\n",
              "      <th>Status Tinggi Badan</th>\n",
              "      <th>Status Berat Badan</th>\n",
              "      <th>Status Gizi</th>\n",
              "    </tr>\n",
              "  </thead>\n",
              "  <tbody>\n",
              "    <tr>\n",
              "      <th>1</th>\n",
              "      <td>male</td>\n",
              "      <td>35</td>\n",
              "      <td>2.8</td>\n",
              "      <td>49</td>\n",
              "      <td>10.5</td>\n",
              "      <td>72.2</td>\n",
              "      <td>No</td>\n",
              "      <td>Sangat pendek</td>\n",
              "      <td>Berat badan kurang</td>\n",
              "      <td>Berisiko gizi lebih</td>\n",
              "    </tr>\n",
              "    <tr>\n",
              "      <th>2</th>\n",
              "      <td>male</td>\n",
              "      <td>44</td>\n",
              "      <td>3.0</td>\n",
              "      <td>49</td>\n",
              "      <td>7.1</td>\n",
              "      <td>72.2</td>\n",
              "      <td>No</td>\n",
              "      <td>Sangat pendek</td>\n",
              "      <td>Berat badan sangat kurang</td>\n",
              "      <td>Gizi kurang</td>\n",
              "    </tr>\n",
              "    <tr>\n",
              "      <th>3</th>\n",
              "      <td>female</td>\n",
              "      <td>47</td>\n",
              "      <td>2.8</td>\n",
              "      <td>49</td>\n",
              "      <td>7.0</td>\n",
              "      <td>92.7</td>\n",
              "      <td>No</td>\n",
              "      <td>Pendek</td>\n",
              "      <td>Berat badan sangat kurang</td>\n",
              "      <td>Gizi buruk</td>\n",
              "    </tr>\n",
              "    <tr>\n",
              "      <th>4</th>\n",
              "      <td>female</td>\n",
              "      <td>41</td>\n",
              "      <td>3.0</td>\n",
              "      <td>49</td>\n",
              "      <td>7.1</td>\n",
              "      <td>73.5</td>\n",
              "      <td>No</td>\n",
              "      <td>Sangat pendek</td>\n",
              "      <td>Berat badan sangat kurang</td>\n",
              "      <td>Gizi kurang</td>\n",
              "    </tr>\n",
              "    <tr>\n",
              "      <th>5</th>\n",
              "      <td>female</td>\n",
              "      <td>42</td>\n",
              "      <td>2.8</td>\n",
              "      <td>49</td>\n",
              "      <td>10.0</td>\n",
              "      <td>65.0</td>\n",
              "      <td>No</td>\n",
              "      <td>Sangat pendek</td>\n",
              "      <td>Berat badan kurang</td>\n",
              "      <td>Obesitas</td>\n",
              "    </tr>\n",
              "  </tbody>\n",
              "</table>\n",
              "</div>"
            ],
            "text/plain": [
              "   Gender  Age  Birth Weight  Birth Length  Body Weight  Body Length  \\\n",
              "1    male   35           2.8            49         10.5         72.2   \n",
              "2    male   44           3.0            49          7.1         72.2   \n",
              "3  female   47           2.8            49          7.0         92.7   \n",
              "4  female   41           3.0            49          7.1         73.5   \n",
              "5  female   42           2.8            49         10.0         65.0   \n",
              "\n",
              "  Breastfeeding Status Tinggi Badan         Status Berat Badan  \\\n",
              "1            No       Sangat pendek         Berat badan kurang   \n",
              "2            No       Sangat pendek  Berat badan sangat kurang   \n",
              "3            No              Pendek  Berat badan sangat kurang   \n",
              "4            No       Sangat pendek  Berat badan sangat kurang   \n",
              "5            No       Sangat pendek         Berat badan kurang   \n",
              "\n",
              "           Status Gizi  \n",
              "1  Berisiko gizi lebih  \n",
              "2          Gizi kurang  \n",
              "3           Gizi buruk  \n",
              "4          Gizi kurang  \n",
              "5             Obesitas  "
            ]
          },
          "execution_count": 505,
          "metadata": {},
          "output_type": "execute_result"
        }
      ],
      "source": [
        "# Menghapus kolom-kolom yang tidak diperlukan\n",
        "data = data.drop(columns=[\"SD1neg\", \"SD0\", \"SD1\", \"Z_Score_bb_tb\"])\n",
        "data.head()"
      ]
    },
    {
      "cell_type": "code",
      "execution_count": 506,
      "metadata": {
        "colab": {
          "base_uri": "https://localhost:8080/",
          "height": 397
        },
        "id": "ap_8jXhh1g20",
        "outputId": "47f99905-a4a6-4dc1-fc48-f64989b457a8"
      },
      "outputs": [
        {
          "data": {
            "text/plain": [
              "Gender                 0\n",
              "Age                    0\n",
              "Birth Weight           0\n",
              "Birth Length           0\n",
              "Body Weight            0\n",
              "Body Length            0\n",
              "Breastfeeding          0\n",
              "Status Tinggi Badan    0\n",
              "Status Berat Badan     0\n",
              "Status Gizi            0\n",
              "dtype: int64"
            ]
          },
          "execution_count": 506,
          "metadata": {},
          "output_type": "execute_result"
        }
      ],
      "source": [
        "data.isnull().sum()"
      ]
    },
    {
      "cell_type": "code",
      "execution_count": 507,
      "metadata": {
        "colab": {
          "base_uri": "https://localhost:8080/"
        },
        "id": "PcOquBNV1jXg",
        "outputId": "8c695def-6ee6-4b7b-dc6e-3c4b8e377ed9"
      },
      "outputs": [
        {
          "data": {
            "text/plain": [
              "0"
            ]
          },
          "execution_count": 507,
          "metadata": {},
          "output_type": "execute_result"
        }
      ],
      "source": [
        "data.duplicated().sum()"
      ]
    },
    {
      "cell_type": "code",
      "execution_count": 508,
      "metadata": {
        "colab": {
          "base_uri": "https://localhost:8080/"
        },
        "id": "sdMOhMMk1l7M",
        "outputId": "cbabca13-2d86-47b7-8262-5f888d3bd43c"
      },
      "outputs": [
        {
          "name": "stdout",
          "output_type": "stream",
          "text": [
            "<class 'pandas.core.frame.DataFrame'>\n",
            "Index: 8013 entries, 1 to 8166\n",
            "Data columns (total 10 columns):\n",
            " #   Column               Non-Null Count  Dtype  \n",
            "---  ------               --------------  -----  \n",
            " 0   Gender               8013 non-null   object \n",
            " 1   Age                  8013 non-null   int64  \n",
            " 2   Birth Weight         8013 non-null   float64\n",
            " 3   Birth Length         8013 non-null   int64  \n",
            " 4   Body Weight          8013 non-null   float64\n",
            " 5   Body Length          8013 non-null   float64\n",
            " 6   Breastfeeding        8013 non-null   object \n",
            " 7   Status Tinggi Badan  8013 non-null   object \n",
            " 8   Status Berat Badan   8013 non-null   object \n",
            " 9   Status Gizi          8013 non-null   object \n",
            "dtypes: float64(3), int64(2), object(5)\n",
            "memory usage: 688.6+ KB\n"
          ]
        }
      ],
      "source": [
        "data.info()"
      ]
    },
    {
      "cell_type": "code",
      "execution_count": 509,
      "metadata": {
        "colab": {
          "base_uri": "https://localhost:8080/",
          "height": 379
        },
        "id": "UxgdXwpT1oBS",
        "outputId": "d4d1c106-6d7a-4351-ae83-0dc7bd773906"
      },
      "outputs": [
        {
          "data": {
            "text/html": [
              "<div>\n",
              "<style scoped>\n",
              "    .dataframe tbody tr th:only-of-type {\n",
              "        vertical-align: middle;\n",
              "    }\n",
              "\n",
              "    .dataframe tbody tr th {\n",
              "        vertical-align: top;\n",
              "    }\n",
              "\n",
              "    .dataframe thead th {\n",
              "        text-align: right;\n",
              "    }\n",
              "</style>\n",
              "<table border=\"1\" class=\"dataframe\">\n",
              "  <thead>\n",
              "    <tr style=\"text-align: right;\">\n",
              "      <th></th>\n",
              "      <th>Gender</th>\n",
              "      <th>Age</th>\n",
              "      <th>Birth Weight</th>\n",
              "      <th>Birth Length</th>\n",
              "      <th>Body Weight</th>\n",
              "      <th>Body Length</th>\n",
              "      <th>Breastfeeding</th>\n",
              "      <th>Status Tinggi Badan</th>\n",
              "      <th>Status Berat Badan</th>\n",
              "      <th>Status Gizi</th>\n",
              "    </tr>\n",
              "  </thead>\n",
              "  <tbody>\n",
              "    <tr>\n",
              "      <th>1</th>\n",
              "      <td>male</td>\n",
              "      <td>35</td>\n",
              "      <td>2.8</td>\n",
              "      <td>49</td>\n",
              "      <td>10.5</td>\n",
              "      <td>72.2</td>\n",
              "      <td>No</td>\n",
              "      <td>Sangat pendek</td>\n",
              "      <td>Berat badan kurang</td>\n",
              "      <td>Berisiko gizi lebih</td>\n",
              "    </tr>\n",
              "    <tr>\n",
              "      <th>2</th>\n",
              "      <td>male</td>\n",
              "      <td>44</td>\n",
              "      <td>3.0</td>\n",
              "      <td>49</td>\n",
              "      <td>7.1</td>\n",
              "      <td>72.2</td>\n",
              "      <td>No</td>\n",
              "      <td>Sangat pendek</td>\n",
              "      <td>Berat badan sangat kurang</td>\n",
              "      <td>Gizi kurang</td>\n",
              "    </tr>\n",
              "    <tr>\n",
              "      <th>3</th>\n",
              "      <td>female</td>\n",
              "      <td>47</td>\n",
              "      <td>2.8</td>\n",
              "      <td>49</td>\n",
              "      <td>7.0</td>\n",
              "      <td>92.7</td>\n",
              "      <td>No</td>\n",
              "      <td>Pendek</td>\n",
              "      <td>Berat badan sangat kurang</td>\n",
              "      <td>Gizi buruk</td>\n",
              "    </tr>\n",
              "    <tr>\n",
              "      <th>4</th>\n",
              "      <td>female</td>\n",
              "      <td>41</td>\n",
              "      <td>3.0</td>\n",
              "      <td>49</td>\n",
              "      <td>7.1</td>\n",
              "      <td>73.5</td>\n",
              "      <td>No</td>\n",
              "      <td>Sangat pendek</td>\n",
              "      <td>Berat badan sangat kurang</td>\n",
              "      <td>Gizi kurang</td>\n",
              "    </tr>\n",
              "    <tr>\n",
              "      <th>5</th>\n",
              "      <td>female</td>\n",
              "      <td>42</td>\n",
              "      <td>2.8</td>\n",
              "      <td>49</td>\n",
              "      <td>10.0</td>\n",
              "      <td>65.0</td>\n",
              "      <td>No</td>\n",
              "      <td>Sangat pendek</td>\n",
              "      <td>Berat badan kurang</td>\n",
              "      <td>Obesitas</td>\n",
              "    </tr>\n",
              "  </tbody>\n",
              "</table>\n",
              "</div>"
            ],
            "text/plain": [
              "   Gender  Age  Birth Weight  Birth Length  Body Weight  Body Length  \\\n",
              "1    male   35           2.8            49         10.5         72.2   \n",
              "2    male   44           3.0            49          7.1         72.2   \n",
              "3  female   47           2.8            49          7.0         92.7   \n",
              "4  female   41           3.0            49          7.1         73.5   \n",
              "5  female   42           2.8            49         10.0         65.0   \n",
              "\n",
              "  Breastfeeding Status Tinggi Badan         Status Berat Badan  \\\n",
              "1            No       Sangat pendek         Berat badan kurang   \n",
              "2            No       Sangat pendek  Berat badan sangat kurang   \n",
              "3            No              Pendek  Berat badan sangat kurang   \n",
              "4            No       Sangat pendek  Berat badan sangat kurang   \n",
              "5            No       Sangat pendek         Berat badan kurang   \n",
              "\n",
              "           Status Gizi  \n",
              "1  Berisiko gizi lebih  \n",
              "2          Gizi kurang  \n",
              "3           Gizi buruk  \n",
              "4          Gizi kurang  \n",
              "5             Obesitas  "
            ]
          },
          "execution_count": 509,
          "metadata": {},
          "output_type": "execute_result"
        }
      ],
      "source": [
        "data.head()"
      ]
    },
    {
      "cell_type": "code",
      "execution_count": 510,
      "metadata": {
        "colab": {
          "base_uri": "https://localhost:8080/"
        },
        "id": "7JgwmoE216uI",
        "outputId": "979e83a1-b28a-421f-a331-2dd560220143"
      },
      "outputs": [
        {
          "data": {
            "text/plain": [
              "Index(['Gender', 'Age', 'Birth Weight', 'Birth Length', 'Body Weight',\n",
              "       'Body Length', 'Breastfeeding', 'Status Tinggi Badan',\n",
              "       'Status Berat Badan', 'Status Gizi'],\n",
              "      dtype='object')"
            ]
          },
          "execution_count": 510,
          "metadata": {},
          "output_type": "execute_result"
        }
      ],
      "source": [
        "data.columns"
      ]
    },
    {
      "cell_type": "code",
      "execution_count": 511,
      "metadata": {
        "colab": {
          "base_uri": "https://localhost:8080/",
          "height": 483
        },
        "id": "2gdoMna5214O",
        "outputId": "374fa9c5-493d-4b6a-94b3-4516edde137a"
      },
      "outputs": [
        {
          "data": {
            "text/html": [
              "<div>\n",
              "<style scoped>\n",
              "    .dataframe tbody tr th:only-of-type {\n",
              "        vertical-align: middle;\n",
              "    }\n",
              "\n",
              "    .dataframe tbody tr th {\n",
              "        vertical-align: top;\n",
              "    }\n",
              "\n",
              "    .dataframe thead th {\n",
              "        text-align: right;\n",
              "    }\n",
              "</style>\n",
              "<table border=\"1\" class=\"dataframe\">\n",
              "  <thead>\n",
              "    <tr style=\"text-align: right;\">\n",
              "      <th></th>\n",
              "      <th>Jenis_Kelamin</th>\n",
              "      <th>Usia</th>\n",
              "      <th>Berat_Badan_Lahir</th>\n",
              "      <th>Tinggi_Badan_Lahir</th>\n",
              "      <th>Berat_Badan</th>\n",
              "      <th>Tinggi_Badan</th>\n",
              "      <th>Status_Pemberian_ASI</th>\n",
              "      <th>Status_Tinggi_Badan</th>\n",
              "      <th>Status_Berat_Badan</th>\n",
              "      <th>Status_Gizi</th>\n",
              "    </tr>\n",
              "  </thead>\n",
              "  <tbody>\n",
              "    <tr>\n",
              "      <th>1</th>\n",
              "      <td>Laki-laki</td>\n",
              "      <td>35</td>\n",
              "      <td>2.8</td>\n",
              "      <td>49</td>\n",
              "      <td>10.5</td>\n",
              "      <td>72.2</td>\n",
              "      <td>Tidak</td>\n",
              "      <td>Sangat pendek</td>\n",
              "      <td>Berat badan kurang</td>\n",
              "      <td>Berisiko gizi lebih</td>\n",
              "    </tr>\n",
              "    <tr>\n",
              "      <th>2</th>\n",
              "      <td>Laki-laki</td>\n",
              "      <td>44</td>\n",
              "      <td>3.0</td>\n",
              "      <td>49</td>\n",
              "      <td>7.1</td>\n",
              "      <td>72.2</td>\n",
              "      <td>Tidak</td>\n",
              "      <td>Sangat pendek</td>\n",
              "      <td>Berat badan sangat kurang</td>\n",
              "      <td>Gizi kurang</td>\n",
              "    </tr>\n",
              "    <tr>\n",
              "      <th>3</th>\n",
              "      <td>Perempuan</td>\n",
              "      <td>47</td>\n",
              "      <td>2.8</td>\n",
              "      <td>49</td>\n",
              "      <td>7.0</td>\n",
              "      <td>92.7</td>\n",
              "      <td>Tidak</td>\n",
              "      <td>Pendek</td>\n",
              "      <td>Berat badan sangat kurang</td>\n",
              "      <td>Gizi buruk</td>\n",
              "    </tr>\n",
              "    <tr>\n",
              "      <th>4</th>\n",
              "      <td>Perempuan</td>\n",
              "      <td>41</td>\n",
              "      <td>3.0</td>\n",
              "      <td>49</td>\n",
              "      <td>7.1</td>\n",
              "      <td>73.5</td>\n",
              "      <td>Tidak</td>\n",
              "      <td>Sangat pendek</td>\n",
              "      <td>Berat badan sangat kurang</td>\n",
              "      <td>Gizi kurang</td>\n",
              "    </tr>\n",
              "    <tr>\n",
              "      <th>5</th>\n",
              "      <td>Perempuan</td>\n",
              "      <td>42</td>\n",
              "      <td>2.8</td>\n",
              "      <td>49</td>\n",
              "      <td>10.0</td>\n",
              "      <td>65.0</td>\n",
              "      <td>Tidak</td>\n",
              "      <td>Sangat pendek</td>\n",
              "      <td>Berat badan kurang</td>\n",
              "      <td>Obesitas</td>\n",
              "    </tr>\n",
              "  </tbody>\n",
              "</table>\n",
              "</div>"
            ],
            "text/plain": [
              "  Jenis_Kelamin  Usia  Berat_Badan_Lahir  Tinggi_Badan_Lahir  Berat_Badan  \\\n",
              "1     Laki-laki    35                2.8                  49         10.5   \n",
              "2     Laki-laki    44                3.0                  49          7.1   \n",
              "3     Perempuan    47                2.8                  49          7.0   \n",
              "4     Perempuan    41                3.0                  49          7.1   \n",
              "5     Perempuan    42                2.8                  49         10.0   \n",
              "\n",
              "   Tinggi_Badan Status_Pemberian_ASI Status_Tinggi_Badan  \\\n",
              "1          72.2                Tidak       Sangat pendek   \n",
              "2          72.2                Tidak       Sangat pendek   \n",
              "3          92.7                Tidak              Pendek   \n",
              "4          73.5                Tidak       Sangat pendek   \n",
              "5          65.0                Tidak       Sangat pendek   \n",
              "\n",
              "          Status_Berat_Badan          Status_Gizi  \n",
              "1         Berat badan kurang  Berisiko gizi lebih  \n",
              "2  Berat badan sangat kurang          Gizi kurang  \n",
              "3  Berat badan sangat kurang           Gizi buruk  \n",
              "4  Berat badan sangat kurang          Gizi kurang  \n",
              "5         Berat badan kurang             Obesitas  "
            ]
          },
          "execution_count": 511,
          "metadata": {},
          "output_type": "execute_result"
        }
      ],
      "source": [
        "# Mengubah nama kolom\n",
        "data.rename(columns={\n",
        "    'Gender': 'Jenis_Kelamin',\n",
        "    'Age': 'Usia',\n",
        "    'Birth Weight': 'Berat_Badan_Lahir',\n",
        "    'Birth Length': 'Tinggi_Badan_Lahir',\n",
        "    'Body Weight': 'Berat_Badan',\n",
        "    'Body Length': 'Tinggi_Badan',\n",
        "    'Breastfeeding': 'Status_Pemberian_ASI',\n",
        "    'Status Berat Badan': 'Status_Berat_Badan',\n",
        "    'Status Tinggi Badan': 'Status_Tinggi_Badan',\n",
        "    'Status Gizi': 'Status_Gizi'\n",
        "}, inplace=True)\n",
        "\n",
        "# Mengganti Nilai\n",
        "data['Jenis_Kelamin'] = data['Jenis_Kelamin'].replace({'male': 'Laki-laki', 'female': 'Perempuan'})\n",
        "data['Status_Pemberian_ASI'] = data['Status_Pemberian_ASI'].replace({'Yes': 'Ya', 'No': 'Tidak'})\n",
        "data.head()"
      ]
    },
    {
      "cell_type": "code",
      "execution_count": 512,
      "metadata": {
        "colab": {
          "base_uri": "https://localhost:8080/"
        },
        "id": "lFAwr6_Q3E0q",
        "outputId": "0a8d3537-5f26-464b-dff1-96a3eba6521b"
      },
      "outputs": [
        {
          "name": "stdout",
          "output_type": "stream",
          "text": [
            "<class 'pandas.core.frame.DataFrame'>\n",
            "Index: 8013 entries, 1 to 8166\n",
            "Data columns (total 10 columns):\n",
            " #   Column                Non-Null Count  Dtype  \n",
            "---  ------                --------------  -----  \n",
            " 0   Jenis_Kelamin         8013 non-null   object \n",
            " 1   Usia                  8013 non-null   int64  \n",
            " 2   Berat_Badan_Lahir     8013 non-null   float64\n",
            " 3   Tinggi_Badan_Lahir    8013 non-null   int64  \n",
            " 4   Berat_Badan           8013 non-null   float64\n",
            " 5   Tinggi_Badan          8013 non-null   float64\n",
            " 6   Status_Pemberian_ASI  8013 non-null   object \n",
            " 7   Status_Tinggi_Badan   8013 non-null   object \n",
            " 8   Status_Berat_Badan    8013 non-null   object \n",
            " 9   Status_Gizi           8013 non-null   object \n",
            "dtypes: float64(3), int64(2), object(5)\n",
            "memory usage: 688.6+ KB\n"
          ]
        }
      ],
      "source": [
        "data.info()"
      ]
    },
    {
      "cell_type": "code",
      "execution_count": 513,
      "metadata": {
        "colab": {
          "base_uri": "https://localhost:8080/"
        },
        "id": "MA4r9UL03HXo",
        "outputId": "83b2bf96-e822-48ae-d080-2baa21c91fb3"
      },
      "outputs": [
        {
          "data": {
            "text/plain": [
              "0"
            ]
          },
          "execution_count": 513,
          "metadata": {},
          "output_type": "execute_result"
        }
      ],
      "source": [
        "data.duplicated().sum()"
      ]
    },
    {
      "cell_type": "code",
      "execution_count": 514,
      "metadata": {},
      "outputs": [
        {
          "name": "stdout",
          "output_type": "stream",
          "text": [
            "     Jenis_Kelamin  Usia  Berat_Badan_Lahir  Tinggi_Badan_Lahir  Berat_Badan  \\\n",
            "1        Laki-laki    35                2.8                  49         10.5   \n",
            "2        Laki-laki    44                3.0                  49          7.1   \n",
            "3        Perempuan    47                2.8                  49          7.0   \n",
            "4        Perempuan    41                3.0                  49          7.1   \n",
            "5        Perempuan    42                2.8                  49         10.0   \n",
            "...            ...   ...                ...                 ...          ...   \n",
            "8162     Perempuan    11                3.0                  50          9.3   \n",
            "8163     Perempuan    13                2.9                  49          5.0   \n",
            "8164     Perempuan    12                2.7                  49          5.5   \n",
            "8165     Perempuan    18                3.0                  49          9.3   \n",
            "8166     Perempuan    16                2.9                  49          6.0   \n",
            "\n",
            "      Tinggi_Badan Status_Pemberian_ASI Status_Tinggi_Badan  \\\n",
            "1             72.2                Tidak       Sangat pendek   \n",
            "2             72.2                Tidak       Sangat pendek   \n",
            "3             92.7                Tidak              Pendek   \n",
            "4             73.5                Tidak       Sangat pendek   \n",
            "5             65.0                Tidak       Sangat pendek   \n",
            "...            ...                  ...                 ...   \n",
            "8162          70.0                Tidak              Normal   \n",
            "8163          60.0                Tidak       Sangat pendek   \n",
            "8164          67.0                Tidak              Pendek   \n",
            "8165          74.2                Tidak              Pendek   \n",
            "8166          77.0                Tidak              Normal   \n",
            "\n",
            "             Status_Berat_Badan          Status_Gizi  \n",
            "1            Berat badan kurang  Berisiko gizi lebih  \n",
            "2     Berat badan sangat kurang          Gizi kurang  \n",
            "3     Berat badan sangat kurang           Gizi buruk  \n",
            "4     Berat badan sangat kurang          Gizi kurang  \n",
            "5            Berat badan kurang             Obesitas  \n",
            "...                         ...                  ...  \n",
            "8162         Berat badan normal  Berisiko gizi lebih  \n",
            "8163  Berat badan sangat kurang            Gizi baik  \n",
            "8164  Berat badan sangat kurang           Gizi buruk  \n",
            "8165         Berat badan normal            Gizi baik  \n",
            "8166  Berat badan sangat kurang           Gizi buruk  \n",
            "\n",
            "[8013 rows x 10 columns]\n"
          ]
        }
      ],
      "source": [
        "print(data)"
      ]
    },
    {
      "cell_type": "code",
      "execution_count": 515,
      "metadata": {},
      "outputs": [
        {
          "data": {
            "text/html": [
              "<div>\n",
              "<style scoped>\n",
              "    .dataframe tbody tr th:only-of-type {\n",
              "        vertical-align: middle;\n",
              "    }\n",
              "\n",
              "    .dataframe tbody tr th {\n",
              "        vertical-align: top;\n",
              "    }\n",
              "\n",
              "    .dataframe thead th {\n",
              "        text-align: right;\n",
              "    }\n",
              "</style>\n",
              "<table border=\"1\" class=\"dataframe\">\n",
              "  <thead>\n",
              "    <tr style=\"text-align: right;\">\n",
              "      <th></th>\n",
              "      <th>Jenis_Kelamin</th>\n",
              "      <th>Usia</th>\n",
              "      <th>Berat_Badan_Lahir</th>\n",
              "      <th>Tinggi_Badan_Lahir</th>\n",
              "      <th>Berat_Badan</th>\n",
              "      <th>Tinggi_Badan</th>\n",
              "      <th>Status_Pemberian_ASI</th>\n",
              "      <th>Status_Tinggi_Badan</th>\n",
              "      <th>Status_Berat_Badan</th>\n",
              "      <th>Status_Gizi</th>\n",
              "    </tr>\n",
              "  </thead>\n",
              "  <tbody>\n",
              "    <tr>\n",
              "      <th>1</th>\n",
              "      <td>Laki-laki</td>\n",
              "      <td>35</td>\n",
              "      <td>2.8</td>\n",
              "      <td>49</td>\n",
              "      <td>10.5</td>\n",
              "      <td>72.2</td>\n",
              "      <td>Tidak</td>\n",
              "      <td>Sangat pendek</td>\n",
              "      <td>Berat badan kurang</td>\n",
              "      <td>Berisiko gizi lebih</td>\n",
              "    </tr>\n",
              "    <tr>\n",
              "      <th>2</th>\n",
              "      <td>Laki-laki</td>\n",
              "      <td>44</td>\n",
              "      <td>3.0</td>\n",
              "      <td>49</td>\n",
              "      <td>7.1</td>\n",
              "      <td>72.2</td>\n",
              "      <td>Tidak</td>\n",
              "      <td>Sangat pendek</td>\n",
              "      <td>Berat badan sangat kurang</td>\n",
              "      <td>Gizi kurang</td>\n",
              "    </tr>\n",
              "    <tr>\n",
              "      <th>3</th>\n",
              "      <td>Perempuan</td>\n",
              "      <td>47</td>\n",
              "      <td>2.8</td>\n",
              "      <td>49</td>\n",
              "      <td>7.0</td>\n",
              "      <td>92.7</td>\n",
              "      <td>Tidak</td>\n",
              "      <td>Pendek</td>\n",
              "      <td>Berat badan sangat kurang</td>\n",
              "      <td>Gizi buruk</td>\n",
              "    </tr>\n",
              "    <tr>\n",
              "      <th>4</th>\n",
              "      <td>Perempuan</td>\n",
              "      <td>41</td>\n",
              "      <td>3.0</td>\n",
              "      <td>49</td>\n",
              "      <td>7.1</td>\n",
              "      <td>73.5</td>\n",
              "      <td>Tidak</td>\n",
              "      <td>Sangat pendek</td>\n",
              "      <td>Berat badan sangat kurang</td>\n",
              "      <td>Gizi kurang</td>\n",
              "    </tr>\n",
              "    <tr>\n",
              "      <th>5</th>\n",
              "      <td>Perempuan</td>\n",
              "      <td>42</td>\n",
              "      <td>2.8</td>\n",
              "      <td>49</td>\n",
              "      <td>10.0</td>\n",
              "      <td>65.0</td>\n",
              "      <td>Tidak</td>\n",
              "      <td>Sangat pendek</td>\n",
              "      <td>Berat badan kurang</td>\n",
              "      <td>Obesitas</td>\n",
              "    </tr>\n",
              "  </tbody>\n",
              "</table>\n",
              "</div>"
            ],
            "text/plain": [
              "  Jenis_Kelamin  Usia  Berat_Badan_Lahir  Tinggi_Badan_Lahir  Berat_Badan  \\\n",
              "1     Laki-laki    35                2.8                  49         10.5   \n",
              "2     Laki-laki    44                3.0                  49          7.1   \n",
              "3     Perempuan    47                2.8                  49          7.0   \n",
              "4     Perempuan    41                3.0                  49          7.1   \n",
              "5     Perempuan    42                2.8                  49         10.0   \n",
              "\n",
              "   Tinggi_Badan Status_Pemberian_ASI Status_Tinggi_Badan  \\\n",
              "1          72.2                Tidak       Sangat pendek   \n",
              "2          72.2                Tidak       Sangat pendek   \n",
              "3          92.7                Tidak              Pendek   \n",
              "4          73.5                Tidak       Sangat pendek   \n",
              "5          65.0                Tidak       Sangat pendek   \n",
              "\n",
              "          Status_Berat_Badan          Status_Gizi  \n",
              "1         Berat badan kurang  Berisiko gizi lebih  \n",
              "2  Berat badan sangat kurang          Gizi kurang  \n",
              "3  Berat badan sangat kurang           Gizi buruk  \n",
              "4  Berat badan sangat kurang          Gizi kurang  \n",
              "5         Berat badan kurang             Obesitas  "
            ]
          },
          "execution_count": 515,
          "metadata": {},
          "output_type": "execute_result"
        }
      ],
      "source": [
        "data.head()"
      ]
    },
    {
      "cell_type": "code",
      "execution_count": 516,
      "metadata": {
        "id": "XCI6HY803KEj"
      },
      "outputs": [],
      "source": [
        "#data.to_csv(\"dataset status gizi balita.csv\", index=False)"
      ]
    }
  ],
  "metadata": {
    "colab": {
      "provenance": []
    },
    "kernelspec": {
      "display_name": "base",
      "language": "python",
      "name": "python3"
    },
    "language_info": {
      "codemirror_mode": {
        "name": "ipython",
        "version": 3
      },
      "file_extension": ".py",
      "mimetype": "text/x-python",
      "name": "python",
      "nbconvert_exporter": "python",
      "pygments_lexer": "ipython3",
      "version": "3.12.4"
    }
  },
  "nbformat": 4,
  "nbformat_minor": 0
}
